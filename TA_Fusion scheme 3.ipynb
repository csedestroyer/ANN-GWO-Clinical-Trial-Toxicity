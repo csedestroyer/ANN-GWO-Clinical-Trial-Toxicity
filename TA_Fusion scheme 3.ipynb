{
 "cells": [
  {
   "cell_type": "markdown",
   "metadata": {
    "id": "TnqvSu6x1cn7"
   },
   "source": [
    "##Library"
   ]
  },
  {
   "cell_type": "code",
   "execution_count": 1,
   "metadata": {
    "id": "wFO97qH6-J83"
   },
   "outputs": [],
   "source": [
    "import numpy as np\n",
    "import pandas as pd\n",
    "import matplotlib.pyplot as plt\n",
    "import seaborn as sns\n",
    "import joblib\n",
    "from tensorflow.keras.models import Sequential\n",
    "from tensorflow.keras.layers import Dense, Dropout, BatchNormalization\n",
    "from tensorflow.keras.optimizers import Adam\n",
    "from tensorflow.keras.callbacks import EarlyStopping, ReduceLROnPlateau\n",
    "from sklearn.metrics import accuracy_score, precision_score, recall_score, f1_score, confusion_matrix\n",
    "from sklearn.preprocessing import StandardScaler\n",
    "from imblearn.over_sampling import RandomOverSampler\n",
    "from niapy.task import Task\n",
    "from niapy.problems import Problem\n",
    "from niapy.algorithms.basic import GreyWolfOptimizer"
   ]
  },
  {
   "cell_type": "markdown",
   "metadata": {
    "id": "jCdm9XCk1Kxq"
   },
   "source": [
    "##df"
   ]
  },
  {
   "cell_type": "code",
   "execution_count": 2,
   "metadata": {
    "colab": {
     "base_uri": "https://localhost:8080/"
    },
    "id": "fAnAs_b5-KFi",
    "outputId": "2c45b209-7d5c-4716-a3c1-db9448ea10a9"
   },
   "outputs": [],
   "source": [
    "X_train_path = \"D:\\Daffa Data\\Telkom Folder\\semester 7\\Tugas Akhir\\data\\FIX BANGET\\X_train.csv\"\n",
    "X_test_path = \"D:\\Daffa Data\\Telkom Folder\\semester 7\\Tugas Akhir\\data\\FIX BANGET\\X_test.csv\"\n",
    "y_train_path = \"D:\\Daffa Data\\Telkom Folder\\semester 7\\Tugas Akhir\\data\\FIX BANGET\\y_train.csv\"\n",
    "y_test_path = \"D:\\Daffa Data\\Telkom Folder\\semester 7\\Tugas Akhir\\data\\FIX BANGET\\y_test.csv\"\n",
    "\n",
    "X_train_df = pd.read_csv(X_train_path)\n",
    "X_test_df = pd.read_csv(X_test_path)\n",
    "y_train_df = pd.read_csv(y_train_path)\n",
    "y_test_df = pd.read_csv(y_test_path)\n",
    "\n",
    "X_train = X_train_df.values\n",
    "X_test = X_test_df.values\n",
    "y_train = y_train_df.values.ravel()\n",
    "y_test = y_test_df.values.ravel()\n",
    "\n",
    "X_train_df  = X_train_df.drop(columns=['FDA_APPROVED'])\n",
    "X_test_df  = X_test_df.drop(columns=['FDA_APPROVED'])"
   ]
  },
  {
   "cell_type": "code",
   "execution_count": 3,
   "metadata": {},
   "outputs": [],
   "source": [
    "ros = RandomOverSampler(random_state=42)\n",
    "X_train_balanced, y_train_balanced = ros.fit_resample(X_train, y_train)"
   ]
  },
  {
   "cell_type": "code",
   "execution_count": 4,
   "metadata": {},
   "outputs": [],
   "source": [
    "scaler = StandardScaler()\n",
    "X_train_balanced = scaler.fit_transform(X_train_balanced)\n",
    "X_test = scaler.transform(X_test)"
   ]
  },
  {
   "cell_type": "code",
   "execution_count": 5,
   "metadata": {},
   "outputs": [
    {
     "data": {
      "image/png": "[encoded data removed]",
      "text/plain": [
       "<Figure size 864x360 with 2 Axes>"
      ]
     },
     "metadata": {
      "needs_background": "light"
     },
     "output_type": "display_data"
    },
    {
     "data": {
      "image/png": "[encoded data removed]",
      "text/plain": [
       "<Figure size 864x360 with 2 Axes>"
      ]
     },
     "metadata": {
      "needs_background": "light"
     },
     "output_type": "display_data"
    },
    {
     "name": "stdout",
     "output_type": "stream",
     "text": [
      "Original y_train size: 1038\n",
      "Balanced y_train size: 1920\n",
      "Original X_train size: 1038\n",
      "Balanced X_train size: 1920\n",
      "Original class 0 count: 960\n",
      "Original class 1 count: 78\n",
      "Balanced class 0 count: 960\n",
      "Balanced class 1 count: 960\n",
      "y_test size: 446\n",
      "x_test size: 446\n",
      "412\n",
      "34\n"
     ]
    }
   ],
   "source": [
    "def plot_class_distribution(y_train, y_train_balanced, target_name):\n",
    "    fig, ax = plt.subplots(1, 2, figsize=(12, 5))\n",
    "    train_class_distribution = np.bincount(y_train)\n",
    "    train_class_distribution_resampled = np.bincount(y_train_balanced)\n",
    "    ax[0].bar([0, 1], train_class_distribution, color=['blue', 'orange'])\n",
    "    ax[0].set_title(f'{target_name} - Class Distribution Before Resampling')\n",
    "    ax[0].set_xticks([0, 1])\n",
    "    ax[0].set_xticklabels(['Class 0', 'Class 1'])\n",
    "    ax[1].bar([0, 1], train_class_distribution_resampled, color=['blue', 'orange'])\n",
    "    ax[1].set_title(f'{target_name} - Class Distribution After ROS')\n",
    "    ax[1].set_xticks([0, 1])\n",
    "    ax[1].set_xticklabels(['Class 0', 'Class 1'])\n",
    "    plt.show()\n",
    "\n",
    "plot_class_distribution(y_train, y_train_balanced, \"CT_TOX\")\n",
    "\n",
    "def plot_class_distribution(X_train, X_train_balanced, target_name):\n",
    "    fig, ax = plt.subplots(1, 2, figsize=(12, 5))\n",
    "    train_class_distribution = np.bincount(y_train)\n",
    "    train_class_distribution_resampled = np.bincount(y_train_balanced)\n",
    "    ax[0].bar([0, 1], train_class_distribution, color=['blue', 'orange'])\n",
    "    ax[0].set_title(f'{target_name} - Class Distribution Before Resampling')\n",
    "    ax[0].set_xticks([0, 1])\n",
    "    ax[0].set_xticklabels(['Class 0', 'Class 1'])\n",
    "    ax[1].bar([0, 1], train_class_distribution_resampled, color=['blue', 'orange'])\n",
    "    ax[1].set_title(f'{target_name} - Class Distribution After ROS')\n",
    "    ax[1].set_xticks([0, 1])\n",
    "    ax[1].set_xticklabels(['Class 0', 'Class 1'])\n",
    "    plt.show()\n",
    "\n",
    "    print(f\"Original y_train size: {len(y_train)}\")\n",
    "    print(f\"Balanced y_train size: {len(y_train_balanced)}\")\n",
    "    print(f\"Original X_train size: {len(X_train)}\")\n",
    "    print(f\"Balanced X_train size: {len(X_train_balanced)}\")\n",
    "\n",
    "    original_class_0_count = np.sum(y_train == 0)\n",
    "    original_class_1_count = np.sum(y_train == 1)\n",
    "    balanced_class_0_count = np.sum(y_train_balanced == 0)\n",
    "    balanced_class_1_count = np.sum(y_train_balanced == 1)\n",
    "    \n",
    "    print(f\"Original class 0 count: {original_class_0_count}\")\n",
    "    print(f\"Original class 1 count: {original_class_1_count}\")\n",
    "    print(f\"Balanced class 0 count: {balanced_class_0_count}\")\n",
    "    print(f\"Balanced class 1 count: {balanced_class_1_count}\")\n",
    "\n",
    "    print(f\"y_test size: {len(y_test)}\")\n",
    "    print(f\"x_test size: {len(X_test)}\")\n",
    "\n",
    "    print((y_test == 0).sum())\n",
    "    print((y_test == 1).sum())\n",
    "\n",
    "plot_class_distribution(X_train, X_train_balanced, \"CT_TOX\")"
   ]
  },
  {
   "cell_type": "code",
   "execution_count": 6,
   "metadata": {},
   "outputs": [],
   "source": [
    "def build_and_evaluate_model(input_dim, params):\n",
    "    num_layers = params['num_layers']\n",
    "    neurons_per_layer = params['neurons_per_layer']\n",
    "    dropout_rate = params['dropout_rate']\n",
    "    batch_size = params['batch_size']\n",
    "    hidden_activation = params['hidden_activation']\n",
    "    output_activation = params['output_activation']\n",
    "    epochs = params['epochs']\n",
    "\n",
    "    # Define the model\n",
    "    model = Sequential()\n",
    "    for i in range(num_layers):\n",
    "        if i == 0:\n",
    "            model.add(Dense(neurons_per_layer[i], input_dim=input_dim, activation=hidden_activation))\n",
    "        else:\n",
    "            model.add(Dense(neurons_per_layer[i], activation=hidden_activation))\n",
    "        model.add(BatchNormalization())  # Batch Normalization to stabilize learning\n",
    "        model.add(Dropout(dropout_rate))  # Dropout layer to prevent overfitting\n",
    "\n",
    "    model.add(Dense(1, activation=output_activation))  # Output layer\n",
    "\n",
    "    # Compile the model\n",
    "    model.compile(optimizer=Adam(learning_rate=0.001), loss=\"binary_crossentropy\", metrics=[\"accuracy\"])\n",
    "\n",
    "    # Early stopping and learning rate reduction on plateau\n",
    "    early_stopping = EarlyStopping(monitor='val_loss', patience=8, restore_best_weights=True)\n",
    "    reduce_lr = ReduceLROnPlateau(monitor='val_loss', factor=0.5, patience=5, min_lr=1e-6)\n",
    "\n",
    "    # Train the model without W&B callback, manually log metrics\n",
    "    history = model.fit(\n",
    "        X_train_balanced, y_train_balanced,\n",
    "        epochs=epochs,\n",
    "        batch_size=batch_size,\n",
    "        verbose=0,\n",
    "        validation_data=(X_test, y_test),\n",
    "        callbacks=[early_stopping, reduce_lr]\n",
    "    )\n",
    "\n",
    "    # Evaluate the model\n",
    "    loss, accuracy = model.evaluate(X_test, y_test, verbose=0)\n",
    "\n",
    "    # Log metrics manually\n",
    "    metrics = {\n",
    "        \"validation_loss\": loss,\n",
    "        \"validation_accuracy\": accuracy\n",
    "    }\n",
    "    print(f\"Validation Loss: {loss:.4f}, Validation Accuracy: {accuracy:.4f}\")\n",
    "    \n",
    "\n",
    "    # Return model, accuracy, and history object\n",
    "    return model, accuracy, history\n"
   ]
  },
  {
   "cell_type": "code",
   "execution_count": 7,
   "metadata": {},
   "outputs": [],
   "source": [
    "class ANNOptimizationProblemWithEarlyStopping(Problem):\n",
    "    def __init__(self, input_dim, max_layers=5, patience=5):\n",
    "        self.input_dim = input_dim\n",
    "        self.max_layers = max_layers\n",
    "        self.patience = patience\n",
    "        self.best_fitness = -float('inf')\n",
    "        self.stagnation_count = 0\n",
    "        super().__init__(\n",
    "            dimension=1 + max_layers,  # First dimension is number of layers, next are neurons per layer\n",
    "            lower=[1] + [0] * max_layers,\n",
    "            upper=[max_layers] + [1] * max_layers,\n",
    "            type_var=float\n",
    "        )\n",
    "\n",
    "    def _evaluate(self, solution):\n",
    "        num_layers = int(solution[0])\n",
    "        neurons_per_layer = [\n",
    "            int(1 + solution[i + 1] * 255)  # Scale neurons in the range [1, 256]\n",
    "            for i in range(num_layers)\n",
    "        ]\n",
    "        params = {\n",
    "            \"num_layers\": num_layers,\n",
    "            \"neurons_per_layer\": neurons_per_layer,\n",
    "            \"dropout_rate\": 0.2,\n",
    "            \"batch_size\": 16,\n",
    "            \"hidden_activation\": 'tanh',\n",
    "            \"output_activation\": 'sigmoid',\n",
    "            \"epochs\": 200\n",
    "        }\n",
    "\n",
    "        # Build and evaluate the model\n",
    "        model, accuracy, history = build_and_evaluate_model(self.input_dim, params)\n",
    "\n",
    "        # Early stopping based on plateau\n",
    "        if accuracy > self.best_fitness:\n",
    "            self.best_fitness = accuracy\n",
    "            self.stagnation_count = 0\n",
    "        else:\n",
    "            self.stagnation_count += 1\n",
    "\n",
    "        if self.stagnation_count >= self.patience:\n",
    "            self.stagnation_count = self.patience + 1  # Force task to terminate\n",
    "\n",
    "        return accuracy"
   ]
  },
  {
   "cell_type": "code",
   "execution_count": 8,
   "metadata": {},
   "outputs": [],
   "source": [
    "class TaskWithEarlyStopping(Task):\n",
    "    def __init__(self, *args, patience=8, **kwargs):\n",
    "        super().__init__(*args, **kwargs)\n",
    "        self.patience = patience\n",
    "        self.stagnation_count = 0\n",
    "        self.best_fitness = -float('inf')\n",
    "\n",
    "    def update(self, algorithm):\n",
    "        super().update(algorithm)\n",
    "        current_fitness = algorithm.best_fitness\n",
    "\n",
    "        if current_fitness > self.best_fitness:\n",
    "            self.best_fitness = current_fitness\n",
    "            self.stagnation_count = 0\n",
    "        else:\n",
    "            self.stagnation_count += 1\n",
    "\n",
    "        if self.stagnation_count >= self.patience:\n",
    "            self.stop()"
   ]
  },
  {
   "cell_type": "code",
   "execution_count": 9,
   "metadata": {},
   "outputs": [
    {
     "name": "stdout",
     "output_type": "stream",
     "text": [
      "Running GWO with Population Size: 15 and Max Iterations: 20\n"
     ]
    }
   ],
   "source": [
    "population_size = 15\n",
    "max_iters = 20\n",
    "patience = 8\n",
    "print(f\"Running GWO with Population Size: {population_size} and Max Iterations: {max_iters}\")"
   ]
  },
  {
   "cell_type": "code",
   "execution_count": 10,
   "metadata": {},
   "outputs": [],
   "source": [
    "problem = ANNOptimizationProblemWithEarlyStopping(input_dim=X_train_balanced.shape[1], max_layers=5, patience=patience)\n",
    "task = TaskWithEarlyStopping(\n",
    "    problem=problem,\n",
    "    max_iters=max_iters,\n",
    "    enable_logging=True,\n",
    "    patience=patience\n",
    ")"
   ]
  },
  {
   "cell_type": "code",
   "execution_count": 11,
   "metadata": {},
   "outputs": [
    {
     "name": "stderr",
     "output_type": "stream",
     "text": [
      "c:\\Users\\ASUS\\AppData\\Local\\Programs\\Python\\Python39\\lib\\site-packages\\keras\\src\\layers\\core\\dense.py:87: UserWarning: Do not pass an `input_shape`/`input_dim` argument to a layer. When using Sequential models, prefer using an `Input(shape)` object as the first layer in the model instead.\n",
      "  super().__init__(activity_regularizer=activity_regularizer, **kwargs)\n",
      "INFO:niapy.task.Task:evals:1 => 0.9551569223403931\n"
     ]
    },
    {
     "name": "stdout",
     "output_type": "stream",
     "text": [
      "Validation Loss: 0.1689, Validation Accuracy: 0.9552\n"
     ]
    },
    {
     "name": "stderr",
     "output_type": "stream",
     "text": [
      "INFO:niapy.task.Task:evals:2 => 0.9417040348052979\n"
     ]
    },
    {
     "name": "stdout",
     "output_type": "stream",
     "text": [
      "Validation Loss: 0.1656, Validation Accuracy: 0.9417\n"
     ]
    },
    {
     "name": "stderr",
     "output_type": "stream",
     "text": [
      "INFO:niapy.task.Task:evals:3 => 0.926008939743042\n"
     ]
    },
    {
     "name": "stdout",
     "output_type": "stream",
     "text": [
      "Validation Loss: 0.1965, Validation Accuracy: 0.9260\n",
      "Validation Loss: 0.1838, Validation Accuracy: 0.9529\n",
      "Validation Loss: 0.1922, Validation Accuracy: 0.9327\n"
     ]
    },
    {
     "name": "stderr",
     "output_type": "stream",
     "text": [
      "INFO:niapy.task.Task:evals:6 => 0.9237667918205261\n"
     ]
    },
    {
     "name": "stdout",
     "output_type": "stream",
     "text": [
      "Validation Loss: 0.1823, Validation Accuracy: 0.9238\n",
      "Validation Loss: 0.1687, Validation Accuracy: 0.9462\n",
      "Validation Loss: 0.1801, Validation Accuracy: 0.9439\n",
      "Validation Loss: 0.1876, Validation Accuracy: 0.9552\n",
      "Validation Loss: 0.1771, Validation Accuracy: 0.9350\n",
      "Validation Loss: 0.1656, Validation Accuracy: 0.9619\n",
      "Validation Loss: 0.2004, Validation Accuracy: 0.9372\n",
      "Validation Loss: 0.1479, Validation Accuracy: 0.9484\n",
      "Validation Loss: 0.1879, Validation Accuracy: 0.9462\n",
      "Validation Loss: 0.1596, Validation Accuracy: 0.9395\n",
      "Validation Loss: 0.1782, Validation Accuracy: 0.9395\n",
      "Validation Loss: 0.2087, Validation Accuracy: 0.9507\n",
      "Validation Loss: 0.2032, Validation Accuracy: 0.9462\n",
      "Validation Loss: 0.1639, Validation Accuracy: 0.9507\n",
      "Validation Loss: 0.1674, Validation Accuracy: 0.9574\n",
      "Validation Loss: 0.1807, Validation Accuracy: 0.9596\n",
      "Validation Loss: 0.1931, Validation Accuracy: 0.9350\n",
      "Validation Loss: 0.1631, Validation Accuracy: 0.9439\n",
      "Validation Loss: 0.1631, Validation Accuracy: 0.9462\n",
      "Validation Loss: 0.1943, Validation Accuracy: 0.9327\n",
      "Validation Loss: 0.1738, Validation Accuracy: 0.9529\n",
      "Validation Loss: 0.1802, Validation Accuracy: 0.9395\n",
      "Validation Loss: 0.1638, Validation Accuracy: 0.9305\n",
      "Validation Loss: 0.1905, Validation Accuracy: 0.9596\n",
      "Validation Loss: 0.1740, Validation Accuracy: 0.9350\n",
      "Validation Loss: 0.1709, Validation Accuracy: 0.9552\n",
      "Validation Loss: 0.1837, Validation Accuracy: 0.9507\n",
      "Validation Loss: 0.1698, Validation Accuracy: 0.9529\n",
      "Validation Loss: 0.1727, Validation Accuracy: 0.9484\n",
      "Validation Loss: 0.1537, Validation Accuracy: 0.9507\n",
      "Validation Loss: 0.1694, Validation Accuracy: 0.9372\n",
      "Validation Loss: 0.1833, Validation Accuracy: 0.9395\n",
      "Validation Loss: 0.1545, Validation Accuracy: 0.9619\n",
      "Validation Loss: 0.1606, Validation Accuracy: 0.9372\n",
      "Validation Loss: 0.1604, Validation Accuracy: 0.9484\n",
      "Validation Loss: 0.2018, Validation Accuracy: 0.9395\n",
      "Validation Loss: 0.1519, Validation Accuracy: 0.9619\n",
      "Validation Loss: 0.1867, Validation Accuracy: 0.9350\n",
      "Validation Loss: 0.1621, Validation Accuracy: 0.9529\n",
      "Validation Loss: 0.1488, Validation Accuracy: 0.9529\n",
      "Validation Loss: 0.1555, Validation Accuracy: 0.9462\n",
      "Validation Loss: 0.1730, Validation Accuracy: 0.9462\n",
      "Validation Loss: 0.2239, Validation Accuracy: 0.9350\n",
      "Validation Loss: 0.1552, Validation Accuracy: 0.9462\n",
      "Validation Loss: 0.1855, Validation Accuracy: 0.9462\n",
      "Validation Loss: 0.1562, Validation Accuracy: 0.9507\n",
      "Validation Loss: 0.1589, Validation Accuracy: 0.9417\n",
      "Validation Loss: 0.1722, Validation Accuracy: 0.9507\n",
      "Validation Loss: 0.1717, Validation Accuracy: 0.9596\n",
      "Validation Loss: 0.1504, Validation Accuracy: 0.9596\n",
      "Validation Loss: 0.1867, Validation Accuracy: 0.9462\n",
      "Validation Loss: 0.1469, Validation Accuracy: 0.9552\n",
      "Validation Loss: 0.1682, Validation Accuracy: 0.9552\n",
      "Validation Loss: 0.1732, Validation Accuracy: 0.9484\n",
      "Validation Loss: 0.1647, Validation Accuracy: 0.9327\n",
      "Validation Loss: 0.2059, Validation Accuracy: 0.9552\n",
      "Validation Loss: 0.1729, Validation Accuracy: 0.9439\n",
      "Validation Loss: 0.1954, Validation Accuracy: 0.9305\n",
      "Validation Loss: 0.1946, Validation Accuracy: 0.9417\n",
      "Validation Loss: 0.1585, Validation Accuracy: 0.9507\n",
      "Validation Loss: 0.1647, Validation Accuracy: 0.9507\n",
      "Validation Loss: 0.2296, Validation Accuracy: 0.9238\n",
      "Validation Loss: 0.1660, Validation Accuracy: 0.9395\n",
      "Validation Loss: 0.1949, Validation Accuracy: 0.9305\n",
      "Validation Loss: 0.1800, Validation Accuracy: 0.9552\n"
     ]
    },
    {
     "name": "stderr",
     "output_type": "stream",
     "text": [
      "INFO:niapy.task.Task:evals:71 => 0.9215246438980103\n"
     ]
    },
    {
     "name": "stdout",
     "output_type": "stream",
     "text": [
      "Validation Loss: 0.2367, Validation Accuracy: 0.9215\n",
      "Validation Loss: 0.1573, Validation Accuracy: 0.9395\n",
      "Validation Loss: 0.1680, Validation Accuracy: 0.9507\n",
      "Validation Loss: 0.1641, Validation Accuracy: 0.9596\n",
      "Validation Loss: 0.1502, Validation Accuracy: 0.9529\n",
      "Validation Loss: 0.1867, Validation Accuracy: 0.9439\n"
     ]
    },
    {
     "name": "stderr",
     "output_type": "stream",
     "text": [
      "INFO:niapy.task.Task:evals:77 => 0.9125560522079468\n"
     ]
    },
    {
     "name": "stdout",
     "output_type": "stream",
     "text": [
      "Validation Loss: 0.2218, Validation Accuracy: 0.9126\n",
      "Validation Loss: 0.1832, Validation Accuracy: 0.9596\n",
      "Validation Loss: 0.1852, Validation Accuracy: 0.9350\n",
      "Validation Loss: 0.1819, Validation Accuracy: 0.9552\n",
      "Validation Loss: 0.1989, Validation Accuracy: 0.9439\n",
      "Validation Loss: 0.1850, Validation Accuracy: 0.9529\n",
      "Validation Loss: 0.1510, Validation Accuracy: 0.9596\n",
      "Validation Loss: 0.1697, Validation Accuracy: 0.9574\n",
      "Validation Loss: 0.1612, Validation Accuracy: 0.9641\n",
      "Validation Loss: 0.2288, Validation Accuracy: 0.9283\n",
      "Validation Loss: 0.1776, Validation Accuracy: 0.9439\n",
      "Validation Loss: 0.1734, Validation Accuracy: 0.9529\n",
      "Validation Loss: 0.1882, Validation Accuracy: 0.9462\n",
      "Validation Loss: 0.2401, Validation Accuracy: 0.9215\n",
      "Validation Loss: 0.2044, Validation Accuracy: 0.9484\n",
      "Validation Loss: 0.1769, Validation Accuracy: 0.9417\n",
      "Validation Loss: 0.2290, Validation Accuracy: 0.9148\n",
      "Validation Loss: 0.1621, Validation Accuracy: 0.9350\n",
      "Validation Loss: 0.2024, Validation Accuracy: 0.9417\n",
      "Validation Loss: 0.1717, Validation Accuracy: 0.9417\n",
      "Validation Loss: 0.2122, Validation Accuracy: 0.9215\n",
      "Validation Loss: 0.2022, Validation Accuracy: 0.9417\n",
      "Validation Loss: 0.1689, Validation Accuracy: 0.9395\n",
      "Validation Loss: 0.2092, Validation Accuracy: 0.9439\n",
      "Validation Loss: 0.2877, Validation Accuracy: 0.9148\n",
      "Validation Loss: 0.2274, Validation Accuracy: 0.9193\n",
      "Validation Loss: 0.2367, Validation Accuracy: 0.9193\n"
     ]
    },
    {
     "name": "stderr",
     "output_type": "stream",
     "text": [
      "INFO:niapy.task.Task:evals:104 => 0.7825112342834473\n"
     ]
    },
    {
     "name": "stdout",
     "output_type": "stream",
     "text": [
      "Validation Loss: 0.5660, Validation Accuracy: 0.7825\n",
      "Validation Loss: 0.1821, Validation Accuracy: 0.9372\n",
      "Validation Loss: 0.2646, Validation Accuracy: 0.9058\n",
      "Validation Loss: 0.1694, Validation Accuracy: 0.9462\n",
      "Validation Loss: 0.2432, Validation Accuracy: 0.9148\n",
      "Validation Loss: 0.1577, Validation Accuracy: 0.9574\n",
      "Validation Loss: 0.2012, Validation Accuracy: 0.9350\n",
      "Validation Loss: 0.1908, Validation Accuracy: 0.9372\n",
      "Validation Loss: 0.2856, Validation Accuracy: 0.9081\n",
      "Validation Loss: 0.4839, Validation Accuracy: 0.9238\n",
      "Validation Loss: 0.2230, Validation Accuracy: 0.9305\n",
      "Validation Loss: 0.1781, Validation Accuracy: 0.9439\n",
      "Validation Loss: 0.2004, Validation Accuracy: 0.9260\n",
      "Validation Loss: 0.2499, Validation Accuracy: 0.9439\n",
      "Validation Loss: 0.2387, Validation Accuracy: 0.9193\n",
      "Validation Loss: 0.2759, Validation Accuracy: 0.9058\n",
      "Validation Loss: 0.2614, Validation Accuracy: 0.9193\n",
      "Validation Loss: 0.2131, Validation Accuracy: 0.9350\n",
      "Validation Loss: 0.1935, Validation Accuracy: 0.9327\n",
      "Validation Loss: 0.2142, Validation Accuracy: 0.9462\n",
      "Validation Loss: 0.1588, Validation Accuracy: 0.9574\n",
      "Validation Loss: 0.2146, Validation Accuracy: 0.9260\n",
      "Validation Loss: 0.2593, Validation Accuracy: 0.9260\n",
      "Validation Loss: 0.1937, Validation Accuracy: 0.9439\n",
      "Validation Loss: 0.2316, Validation Accuracy: 0.9283\n",
      "Validation Loss: 0.2308, Validation Accuracy: 0.9283\n",
      "Validation Loss: 0.2686, Validation Accuracy: 0.9283\n",
      "Validation Loss: 0.2342, Validation Accuracy: 0.9238\n",
      "Validation Loss: 0.2108, Validation Accuracy: 0.8969\n",
      "Validation Loss: 0.2279, Validation Accuracy: 0.9260\n",
      "Validation Loss: 0.3097, Validation Accuracy: 0.8991\n",
      "Validation Loss: 0.2201, Validation Accuracy: 0.9081\n",
      "Validation Loss: 0.1833, Validation Accuracy: 0.9350\n",
      "Validation Loss: 0.1851, Validation Accuracy: 0.9372\n",
      "Validation Loss: 0.2659, Validation Accuracy: 0.9103\n",
      "Validation Loss: 0.2619, Validation Accuracy: 0.8969\n",
      "Validation Loss: 0.1915, Validation Accuracy: 0.9372\n",
      "Validation Loss: 0.4653, Validation Accuracy: 0.8117\n",
      "Validation Loss: 0.2786, Validation Accuracy: 0.9126\n",
      "Validation Loss: 0.2811, Validation Accuracy: 0.9193\n",
      "Validation Loss: 0.3341, Validation Accuracy: 0.8946\n",
      "Validation Loss: 0.2717, Validation Accuracy: 0.8991\n",
      "Validation Loss: 0.1770, Validation Accuracy: 0.9372\n",
      "Validation Loss: 0.2143, Validation Accuracy: 0.9305\n",
      "Validation Loss: 0.2372, Validation Accuracy: 0.9283\n",
      "Validation Loss: 0.2507, Validation Accuracy: 0.9283\n",
      "Validation Loss: 0.2315, Validation Accuracy: 0.9215\n",
      "Validation Loss: 0.3050, Validation Accuracy: 0.9148\n",
      "Validation Loss: 0.2894, Validation Accuracy: 0.9193\n",
      "Validation Loss: 0.2549, Validation Accuracy: 0.9170\n",
      "Validation Loss: 0.2433, Validation Accuracy: 0.9013\n",
      "Validation Loss: 0.2294, Validation Accuracy: 0.9327\n",
      "Validation Loss: 0.2453, Validation Accuracy: 0.9260\n",
      "Validation Loss: 0.2413, Validation Accuracy: 0.9305\n",
      "Validation Loss: 0.2525, Validation Accuracy: 0.9215\n",
      "Validation Loss: 0.1833, Validation Accuracy: 0.9193\n",
      "Validation Loss: 0.2629, Validation Accuracy: 0.9283\n",
      "Validation Loss: 0.3975, Validation Accuracy: 0.8655\n",
      "Validation Loss: 0.2459, Validation Accuracy: 0.9260\n",
      "Validation Loss: 0.2802, Validation Accuracy: 0.9058\n",
      "Validation Loss: 0.2157, Validation Accuracy: 0.9170\n",
      "Validation Loss: 0.2057, Validation Accuracy: 0.9283\n",
      "Validation Loss: 0.2264, Validation Accuracy: 0.9193\n",
      "Validation Loss: 0.1854, Validation Accuracy: 0.9372\n",
      "Validation Loss: 0.2380, Validation Accuracy: 0.9283\n",
      "Validation Loss: 0.1912, Validation Accuracy: 0.9215\n",
      "Validation Loss: 0.2630, Validation Accuracy: 0.9170\n",
      "Validation Loss: 0.2170, Validation Accuracy: 0.9327\n"
     ]
    },
    {
     "name": "stderr",
     "output_type": "stream",
     "text": [
      "INFO:niapy.task.Task:evals:172 => 0.7421524524688721\n"
     ]
    },
    {
     "name": "stdout",
     "output_type": "stream",
     "text": [
      "Validation Loss: 0.4777, Validation Accuracy: 0.7422\n",
      "Validation Loss: 0.2676, Validation Accuracy: 0.9327\n",
      "Validation Loss: 0.1832, Validation Accuracy: 0.9350\n",
      "Validation Loss: 0.2675, Validation Accuracy: 0.9283\n",
      "Validation Loss: 0.2745, Validation Accuracy: 0.8946\n",
      "Validation Loss: 0.3213, Validation Accuracy: 0.8879\n",
      "Validation Loss: 0.2519, Validation Accuracy: 0.9215\n",
      "Validation Loss: 0.1619, Validation Accuracy: 0.9372\n",
      "Validation Loss: 0.2886, Validation Accuracy: 0.8991\n",
      "Validation Loss: 0.2707, Validation Accuracy: 0.8744\n",
      "Validation Loss: 0.2834, Validation Accuracy: 0.8969\n",
      "Validation Loss: 0.1854, Validation Accuracy: 0.9417\n",
      "Validation Loss: 0.4472, Validation Accuracy: 0.8677\n",
      "Validation Loss: 0.4344, Validation Accuracy: 0.8475\n",
      "Validation Loss: 0.2876, Validation Accuracy: 0.9215\n",
      "Validation Loss: 0.2296, Validation Accuracy: 0.9327\n",
      "Validation Loss: 0.2416, Validation Accuracy: 0.9238\n"
     ]
    },
    {
     "name": "stderr",
     "output_type": "stream",
     "text": [
      "INFO:niapy.task.Task:evals:189 => 0.7219731211662292\n"
     ]
    },
    {
     "name": "stdout",
     "output_type": "stream",
     "text": [
      "Validation Loss: 0.6017, Validation Accuracy: 0.7220\n",
      "Validation Loss: 0.2516, Validation Accuracy: 0.9238\n",
      "Validation Loss: 0.2232, Validation Accuracy: 0.9170\n",
      "Validation Loss: 0.5013, Validation Accuracy: 0.9238\n",
      "Validation Loss: 0.2404, Validation Accuracy: 0.9260\n",
      "Validation Loss: 0.2096, Validation Accuracy: 0.9417\n",
      "Validation Loss: 0.2133, Validation Accuracy: 0.9350\n",
      "Validation Loss: 0.2214, Validation Accuracy: 0.9238\n",
      "Validation Loss: 0.4124, Validation Accuracy: 0.9238\n",
      "Validation Loss: 0.2715, Validation Accuracy: 0.9193\n",
      "Validation Loss: 0.2352, Validation Accuracy: 0.9327\n",
      "Validation Loss: 0.2781, Validation Accuracy: 0.9013\n",
      "Validation Loss: 0.2258, Validation Accuracy: 0.9327\n",
      "Validation Loss: 0.2148, Validation Accuracy: 0.8991\n",
      "Validation Loss: 0.1993, Validation Accuracy: 0.9417\n",
      "Validation Loss: 0.1633, Validation Accuracy: 0.9439\n",
      "Validation Loss: 0.1935, Validation Accuracy: 0.9372\n",
      "Validation Loss: 0.6156, Validation Accuracy: 0.7668\n",
      "Validation Loss: 0.1997, Validation Accuracy: 0.9148\n",
      "Validation Loss: 0.2669, Validation Accuracy: 0.9305\n",
      "Validation Loss: 0.2722, Validation Accuracy: 0.8946\n",
      "Validation Loss: 0.2535, Validation Accuracy: 0.9126\n",
      "Validation Loss: 0.1890, Validation Accuracy: 0.9327\n",
      "Validation Loss: 0.2773, Validation Accuracy: 0.9215\n"
     ]
    },
    {
     "name": "stderr",
     "output_type": "stream",
     "text": [
      "INFO:niapy.task.Task:evals:213 => 0.5112107396125793\n"
     ]
    },
    {
     "name": "stdout",
     "output_type": "stream",
     "text": [
      "Validation Loss: 0.6903, Validation Accuracy: 0.5112\n",
      "Validation Loss: 0.3324, Validation Accuracy: 0.8924\n",
      "Validation Loss: 0.2996, Validation Accuracy: 0.8946\n",
      "Validation Loss: 0.2071, Validation Accuracy: 0.9327\n",
      "Validation Loss: 0.4552, Validation Accuracy: 0.8475\n",
      "Validation Loss: 0.3073, Validation Accuracy: 0.8879\n",
      "Validation Loss: 0.1881, Validation Accuracy: 0.9417\n",
      "Validation Loss: 0.2577, Validation Accuracy: 0.9193\n",
      "Validation Loss: 0.1756, Validation Accuracy: 0.9462\n",
      "Validation Loss: 0.2892, Validation Accuracy: 0.8857\n",
      "Validation Loss: 0.2004, Validation Accuracy: 0.9238\n",
      "Validation Loss: 0.1898, Validation Accuracy: 0.9417\n",
      "Validation Loss: 0.2405, Validation Accuracy: 0.9305\n",
      "Validation Loss: 0.2096, Validation Accuracy: 0.9215\n",
      "Validation Loss: 0.2219, Validation Accuracy: 0.9260\n",
      "Validation Loss: 0.3967, Validation Accuracy: 0.8722\n",
      "Validation Loss: 0.2335, Validation Accuracy: 0.9327\n",
      "Validation Loss: 0.4636, Validation Accuracy: 0.8475\n",
      "Validation Loss: 0.2500, Validation Accuracy: 0.9013\n",
      "Validation Loss: 0.2425, Validation Accuracy: 0.9372\n",
      "Validation Loss: 0.3470, Validation Accuracy: 0.8879\n",
      "Validation Loss: 0.2217, Validation Accuracy: 0.9350\n",
      "Validation Loss: 0.3266, Validation Accuracy: 0.8946\n",
      "Validation Loss: 0.4442, Validation Accuracy: 0.8206\n",
      "Validation Loss: 0.2485, Validation Accuracy: 0.9350\n",
      "Validation Loss: 0.1851, Validation Accuracy: 0.9484\n",
      "Validation Loss: 0.2597, Validation Accuracy: 0.9058\n",
      "Validation Loss: 0.2412, Validation Accuracy: 0.9215\n",
      "Validation Loss: 0.2575, Validation Accuracy: 0.9305\n",
      "Validation Loss: 0.2058, Validation Accuracy: 0.9305\n",
      "Validation Loss: 0.2803, Validation Accuracy: 0.9260\n",
      "Validation Loss: 0.2767, Validation Accuracy: 0.9238\n",
      "Validation Loss: 0.4821, Validation Accuracy: 0.7601\n",
      "Validation Loss: 0.1828, Validation Accuracy: 0.9372\n",
      "Validation Loss: 0.3177, Validation Accuracy: 0.9148\n",
      "Validation Loss: 0.6671, Validation Accuracy: 0.6166\n",
      "Validation Loss: 0.4684, Validation Accuracy: 0.8049\n",
      "Validation Loss: 0.6631, Validation Accuracy: 0.6771\n",
      "Validation Loss: 0.3323, Validation Accuracy: 0.8857\n",
      "Validation Loss: 0.2571, Validation Accuracy: 0.9148\n",
      "Validation Loss: 0.2535, Validation Accuracy: 0.9058\n",
      "Validation Loss: 0.3364, Validation Accuracy: 0.8857\n",
      "Validation Loss: 0.3595, Validation Accuracy: 0.8991\n",
      "Validation Loss: 0.2107, Validation Accuracy: 0.9148\n",
      "Validation Loss: 0.6768, Validation Accuracy: 0.5785\n",
      "Validation Loss: 0.2488, Validation Accuracy: 0.9238\n",
      "Validation Loss: 0.3637, Validation Accuracy: 0.8161\n",
      "Validation Loss: 0.2672, Validation Accuracy: 0.9215\n",
      "Validation Loss: 0.2719, Validation Accuracy: 0.8857\n",
      "Validation Loss: 0.2417, Validation Accuracy: 0.9305\n",
      "Validation Loss: 0.3206, Validation Accuracy: 0.8969\n",
      "Validation Loss: 0.6556, Validation Accuracy: 0.6502\n",
      "Validation Loss: 0.1918, Validation Accuracy: 0.9372\n",
      "Validation Loss: 0.2847, Validation Accuracy: 0.8924\n",
      "Validation Loss: 0.2631, Validation Accuracy: 0.9283\n",
      "Validation Loss: 0.3685, Validation Accuracy: 0.8857\n",
      "Validation Loss: 0.3296, Validation Accuracy: 0.8520\n",
      "Validation Loss: 0.2933, Validation Accuracy: 0.8969\n",
      "Validation Loss: 0.2275, Validation Accuracy: 0.9148\n",
      "Validation Loss: 0.5953, Validation Accuracy: 0.7018\n",
      "Validation Loss: 0.1770, Validation Accuracy: 0.9395\n",
      "Validation Loss: 0.2400, Validation Accuracy: 0.9350\n",
      "Validation Loss: 0.2390, Validation Accuracy: 0.9238\n",
      "Validation Loss: 0.5468, Validation Accuracy: 0.7848\n",
      "Validation Loss: 0.6599, Validation Accuracy: 0.6278\n",
      "Validation Loss: 0.3005, Validation Accuracy: 0.8744\n",
      "Validation Loss: 0.2202, Validation Accuracy: 0.9305\n",
      "Validation Loss: 0.2072, Validation Accuracy: 0.9305\n",
      "Validation Loss: 0.3268, Validation Accuracy: 0.8408\n",
      "Validation Loss: 0.1749, Validation Accuracy: 0.9439\n",
      "Validation Loss: 0.2475, Validation Accuracy: 0.9215\n",
      "Validation Loss: 0.2116, Validation Accuracy: 0.9327\n",
      "Validation Loss: 0.2602, Validation Accuracy: 0.9103\n",
      "Validation Loss: 0.3839, Validation Accuracy: 0.8901\n",
      "Validation Loss: 0.1699, Validation Accuracy: 0.9170\n",
      "Validation Loss: 0.2366, Validation Accuracy: 0.9327\n",
      "Validation Loss: 0.2980, Validation Accuracy: 0.9170\n",
      "Validation Loss: 0.2315, Validation Accuracy: 0.9283\n",
      "Validation Loss: 0.1904, Validation Accuracy: 0.9439\n",
      "Validation Loss: 0.5896, Validation Accuracy: 0.7466\n",
      "Validation Loss: 0.2148, Validation Accuracy: 0.9058\n",
      "Validation Loss: 0.2549, Validation Accuracy: 0.9260\n",
      "Validation Loss: 0.4712, Validation Accuracy: 0.8341\n",
      "Validation Loss: 0.3572, Validation Accuracy: 0.8744\n",
      "Validation Loss: 0.6554, Validation Accuracy: 0.6323\n",
      "Validation Loss: 0.2767, Validation Accuracy: 0.9260\n",
      "Validation Loss: 0.5114, Validation Accuracy: 0.7623\n",
      "Validation Loss: 0.3129, Validation Accuracy: 0.9103\n",
      "Validation Loss: 0.2203, Validation Accuracy: 0.9417\n",
      "Validation Loss: 0.6142, Validation Accuracy: 0.7152\n",
      "Validation Loss: 0.2639, Validation Accuracy: 0.9238\n",
      "Validation Loss: 0.6159, Validation Accuracy: 0.7354\n",
      "Validation Loss: 0.2630, Validation Accuracy: 0.9193\n",
      "Validation Loss: 0.3684, Validation Accuracy: 0.8722\n",
      "Validation Loss: 0.5991, Validation Accuracy: 0.7354\n",
      "Validation Loss: 0.2247, Validation Accuracy: 0.9193\n",
      "Validation Loss: 0.2915, Validation Accuracy: 0.9058\n",
      "Validation Loss: 0.2858, Validation Accuracy: 0.9058\n",
      "Validation Loss: 0.3043, Validation Accuracy: 0.8722\n",
      "Validation Loss: 0.2236, Validation Accuracy: 0.9238\n",
      "Validation Loss: 0.6818, Validation Accuracy: 0.5112\n",
      "Validation Loss: 0.3071, Validation Accuracy: 0.9013\n",
      "Validation Loss: 0.2846, Validation Accuracy: 0.9013\n"
     ]
    }
   ],
   "source": [
    "gwo = GreyWolfOptimizer(population_size=population_size)\n",
    "best_solution, fitness_values = gwo.run(task)"
   ]
  },
  {
   "cell_type": "code",
   "execution_count": 12,
   "metadata": {},
   "outputs": [
    {
     "data": {
      "text/plain": [
       "['convergence_data_pop_15.joblib']"
      ]
     },
     "execution_count": 12,
     "metadata": {},
     "output_type": "execute_result"
    }
   ],
   "source": [
    "convergence_data = {\n",
    "    \"iterations\": task.n_evals,\n",
    "    \"convergence_values\": task.fitness_evals  # Convergence value is now the best accuracy\n",
    "}\n",
    "joblib.dump(convergence_data, f\"convergence_data_pop_{population_size}.joblib\")"
   ]
  },
  {
   "cell_type": "code",
   "execution_count": 13,
   "metadata": {},
   "outputs": [
    {
     "data": {
      "image/png": "[encoded data removed]",
      "text/plain": [
       "<Figure size 432x288 with 1 Axes>"
      ]
     },
     "metadata": {
      "needs_background": "light"
     },
     "output_type": "display_data"
    }
   ],
   "source": [
    "task.plot_convergence(x_axis='evals', title='Convergence Plot')\n"
   ]
  },
  {
   "cell_type": "code",
   "execution_count": 14,
   "metadata": {},
   "outputs": [
    {
     "data": {
      "image/png": "[encoded data removed]",
      "text/plain": [
       "<Figure size 864x576 with 1 Axes>"
      ]
     },
     "metadata": {
      "needs_background": "light"
     },
     "output_type": "display_data"
    }
   ],
   "source": [
    "plt.figure(figsize=(12, 8))\n",
    "plt.plot(convergence_data[\"iterations\"], convergence_data[\"convergence_values\"], label=\"Accuracy per Iteration\")\n",
    "plt.title(\"Convergence Plot - Accuracy vs. Iterations\")\n",
    "plt.xlabel(\"Iterations\")\n",
    "plt.ylabel(\"Accuracy\")\n",
    "plt.legend()\n",
    "plt.show()"
   ]
  },
  {
   "cell_type": "code",
   "execution_count": 72,
   "metadata": {},
   "outputs": [
    {
     "name": "stderr",
     "output_type": "stream",
     "text": [
      "c:\\Users\\ASUS\\AppData\\Local\\Programs\\Python\\Python39\\lib\\site-packages\\keras\\src\\layers\\core\\dense.py:87: UserWarning: Do not pass an `input_shape`/`input_dim` argument to a layer. When using Sequential models, prefer using an `Input(shape)` object as the first layer in the model instead.\n",
      "  super().__init__(activity_regularizer=activity_regularizer, **kwargs)\n"
     ]
    },
    {
     "name": "stdout",
     "output_type": "stream",
     "text": [
      "Validation Loss: 0.3409, Validation Accuracy: 0.8901\n"
     ]
    }
   ],
   "source": [
    "num_layers = int(best_solution[0])\n",
    "neurons_per_layer = [int(1 + best_solution[i + 1] * 255) for i in range(num_layers)]\n",
    "optimized_params = {\n",
    "    \"num_layers\": num_layers,\n",
    "    \"neurons_per_layer\": neurons_per_layer,\n",
    "    \"dropout_rate\": 0.1,\n",
    "    \"batch_size\": 16,\n",
    "    \"hidden_activation\": 'tanh',\n",
    "    \"output_activation\": 'sigmoid',\n",
    "    \"epochs\": 150\n",
    "}\n",
    "\n",
    "# Build and evaluate model with optimized parameters\n",
    "model, accuracy, history = build_and_evaluate_model(X_train_balanced.shape[1], optimized_params)"
   ]
  },
  {
   "cell_type": "code",
   "execution_count": 73,
   "metadata": {},
   "outputs": [
    {
     "name": "stdout",
     "output_type": "stream",
     "text": [
      "\u001b[1m14/14\u001b[0m \u001b[32m━━━━━━━━━━━━━━━━━━━━\u001b[0m\u001b[37m\u001b[0m \u001b[1m0s\u001b[0m 21ms/step\n",
      "\u001b[1m60/60\u001b[0m \u001b[32m━━━━━━━━━━━━━━━━━━━━\u001b[0m\u001b[37m\u001b[0m \u001b[1m0s\u001b[0m 3ms/step\n",
      "\n",
      "GWO Results:\n",
      "Optimized Parameters: {'num_layers': 5, 'neurons_per_layer': [1, 218, 247, 115, 2], 'dropout_rate': 0.1, 'batch_size': 16, 'hidden_activation': 'tanh', 'output_activation': 'sigmoid', 'epochs': 150}\n"
     ]
    }
   ],
   "source": [
    "cm_test = confusion_matrix(y_test, (model.predict(X_test) > 0.5).astype(int))\n",
    "cm_train = confusion_matrix(y_train_balanced, (model.predict(X_train_balanced) > 0.5).astype(int))\n",
    "\n",
    "print(\"\\nGWO Results:\")\n",
    "print(f\"Optimized Parameters: {optimized_params}\")"
   ]
  },
  {
   "cell_type": "code",
   "execution_count": 74,
   "metadata": {},
   "outputs": [
    {
     "data": {
      "image/png": "[encoded data removed]",
      "text/plain": [
       "<Figure size 864x576 with 1 Axes>"
      ]
     },
     "metadata": {
      "needs_background": "light"
     },
     "output_type": "display_data"
    },
    {
     "name": "stdout",
     "output_type": "stream",
     "text": [
      "\u001b[1m14/14\u001b[0m \u001b[32m━━━━━━━━━━━━━━━━━━━━\u001b[0m\u001b[37m\u001b[0m \u001b[1m0s\u001b[0m 5ms/step \n",
      "\u001b[1m14/14\u001b[0m \u001b[32m━━━━━━━━━━━━━━━━━━━━\u001b[0m\u001b[37m\u001b[0m \u001b[1m0s\u001b[0m 5ms/step \n",
      "\u001b[1m14/14\u001b[0m \u001b[32m━━━━━━━━━━━━━━━━━━━━\u001b[0m\u001b[37m\u001b[0m \u001b[1m0s\u001b[0m 5ms/step \n",
      "\u001b[1m14/14\u001b[0m \u001b[32m━━━━━━━━━━━━━━━━━━━━\u001b[0m\u001b[37m\u001b[0m \u001b[1m0s\u001b[0m 5ms/step \n",
      "\u001b[1m60/60\u001b[0m \u001b[32m━━━━━━━━━━━━━━━━━━━━\u001b[0m\u001b[37m\u001b[0m \u001b[1m0s\u001b[0m 3ms/step\n",
      "\u001b[1m60/60\u001b[0m \u001b[32m━━━━━━━━━━━━━━━━━━━━\u001b[0m\u001b[37m\u001b[0m \u001b[1m0s\u001b[0m 3ms/step\n",
      "\u001b[1m60/60\u001b[0m \u001b[32m━━━━━━━━━━━━━━━━━━━━\u001b[0m\u001b[37m\u001b[0m \u001b[1m0s\u001b[0m 5ms/step\n",
      "\u001b[1m60/60\u001b[0m \u001b[32m━━━━━━━━━━━━━━━━━━━━\u001b[0m\u001b[37m\u001b[0m \u001b[1m0s\u001b[0m 3ms/step\n",
      "Test Results: {'confusion_matrix': array([[376,  36],\n",
      "       [ 13,  21]], dtype=int64), 'overall_metrics': {'accuracy': 0.8901345291479821, 'precision': 0.3684210526315789, 'recall': 0.6176470588235294, 'f1_score': 0.46153846153846156}}\n",
      "Train Results: {'confusion_matrix': array([[907,  53],\n",
      "       [ 13, 947]], dtype=int64), 'overall_metrics': {'accuracy': 0.965625, 'precision': 0.947, 'recall': 0.9864583333333333, 'f1_score': 0.9663265306122449}}\n"
     ]
    }
   ],
   "source": [
    "plt.figure(figsize=(12, 8))\n",
    "plt.plot(history.history['loss'], label=\"Train Loss\")\n",
    "plt.plot(history.history['val_loss'], label=\"Validation Loss\")\n",
    "plt.title(\"Learning Curve for GWO Scheme\")\n",
    "plt.xlabel(\"Epochs\")\n",
    "plt.ylabel(\"Loss\")\n",
    "plt.legend()\n",
    "plt.show()\n",
    "\n",
    "results_test = {\n",
    "    \"confusion_matrix\": cm_test,\n",
    "    \"overall_metrics\": {\n",
    "        \"accuracy\": accuracy_score(y_test, (model.predict(X_test) > 0.5).astype(int)),\n",
    "        \"precision\": precision_score(y_test, (model.predict(X_test) > 0.5).astype(int)),\n",
    "        \"recall\": recall_score(y_test, (model.predict(X_test) > 0.5).astype(int)),\n",
    "        \"f1_score\": f1_score(y_test, (model.predict(X_test) > 0.5).astype(int))\n",
    "    }\n",
    "}\n",
    "\n",
    "# Train metrics\n",
    "results_train = {\n",
    "    \"confusion_matrix\": cm_train,\n",
    "    \"overall_metrics\": {\n",
    "        \"accuracy\": accuracy_score(y_train_balanced, (model.predict(X_train_balanced) > 0.5).astype(int)),\n",
    "        \"precision\": precision_score(y_train_balanced, (model.predict(X_train_balanced) > 0.5).astype(int)),\n",
    "        \"recall\": recall_score(y_train_balanced, (model.predict(X_train_balanced) > 0.5).astype(int)),\n",
    "        \"f1_score\": f1_score(y_train_balanced, (model.predict(X_train_balanced) > 0.5).astype(int))\n",
    "    }\n",
    "}\n",
    "\n",
    "# Print results\n",
    "print(\"Test Results:\", results_test)\n",
    "print(\"Train Results:\", results_train)\n"
   ]
  },
  {
   "cell_type": "code",
   "execution_count": 68,
   "metadata": {},
   "outputs": [
    {
     "data": {
      "image/png": "[encoded data removed]",
      "text/plain": [
       "<Figure size 576x432 with 2 Axes>"
      ]
     },
     "metadata": {
      "needs_background": "light"
     },
     "output_type": "display_data"
    },
    {
     "data": {
      "image/png": "[encoded data removed]",
      "text/plain": [
       "<Figure size 576x432 with 2 Axes>"
      ]
     },
     "metadata": {
      "needs_background": "light"
     },
     "output_type": "display_data"
    }
   ],
   "source": [
    "plt.figure(figsize=(8, 6))\n",
    "sns.heatmap(cm_test, annot=True, fmt='d', cmap='Blues', xticklabels=[\"Predicted Negative\", \"Predicted Positive\"], \n",
    "            yticklabels=[\"Actual Negative\", \"Actual Positive\"])\n",
    "plt.title(f\"Confusion Matrix (Test) - TN: {cm_test[0][0]}, TP: {cm_test[1][1]}, FP: {cm_test[0][1]}, FN: {cm_test[1][0]}\")\n",
    "plt.xlabel('Predicted Labels')\n",
    "plt.ylabel('True Labels')\n",
    "plt.show()\n",
    "\n",
    "plt.figure(figsize=(8, 6))\n",
    "sns.heatmap(cm_train, annot=True, fmt='d', cmap='Blues', xticklabels=[\"Predicted Negative\", \"Predicted Positive\"], \n",
    "            yticklabels=[\"Actual Negative\", \"Actual Positive\"])\n",
    "plt.title(f\"Confusion Matrix (Train) - TN: {cm_train[0][0]}, TP: {cm_train[1][1]}, FP: {cm_train[0][1]}, FN: {cm_train[1][0]}\")\n",
    "plt.xlabel('Predicted Labels')\n",
    "plt.ylabel('True Labels')\n",
    "plt.show()"
   ]
  },
  {
   "cell_type": "code",
   "execution_count": 19,
   "metadata": {},
   "outputs": [
    {
     "data": {
      "image/png": "[encoded data removed]",
      "text/plain": [
       "<Figure size 576x432 with 2 Axes>"
      ]
     },
     "metadata": {
      "needs_background": "light"
     },
     "output_type": "display_data"
    }
   ],
   "source": [
    "plt.figure(figsize=(8, 6))\n",
    "sns.heatmap(cm_train, annot=True, fmt='d', cmap='Blues', xticklabels=[\"Predicted Negative\", \"Predicted Positive\"], \n",
    "            yticklabels=[\"Actual Negative\", \"Actual Positive\"])\n",
    "plt.title(f\"Confusion Matrix (Train) - TN: {cm_train[0][0]}, TP: {cm_train[1][1]}, FP: {cm_train[0][1]}, FN: {cm_train[1][0]}\")\n",
    "plt.xlabel('Predicted Labels')\n",
    "plt.ylabel('True Labels')\n",
    "plt.show()"
   ]
  },
  {
   "cell_type": "markdown",
   "metadata": {},
   "source": []
  }
 ],
 "metadata": {
  "accelerator": "GPU",
  "colab": {
   "gpuType": "T4",
   "provenance": []
  },
  "kernelspec": {
   "display_name": "Python 3",
   "name": "python3"
  },
  "language_info": {
   "codemirror_mode": {
    "name": "ipython",
    "version": 3
   },
   "file_extension": ".py",
   "mimetype": "text/x-python",
   "name": "python",
   "nbconvert_exporter": "python",
   "pygments_lexer": "ipython3",
   "version": "3.9.7"
  }
 },
 "nbformat": 4,
 "nbformat_minor": 0
}
