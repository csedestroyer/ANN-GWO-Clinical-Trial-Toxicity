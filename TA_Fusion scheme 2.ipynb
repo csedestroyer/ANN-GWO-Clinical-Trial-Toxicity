{
 "cells": [
  {
   "cell_type": "markdown",
   "metadata": {
    "id": "TnqvSu6x1cn7"
   },
   "source": [
    "##Library"
   ]
  },
  {
   "cell_type": "code",
   "execution_count": 1,
   "metadata": {
    "id": "wFO97qH6-J83"
   },
   "outputs": [],
   "source": [
    "import numpy as np\n",
    "import pandas as pd\n",
    "import matplotlib.pyplot as plt\n",
    "import seaborn as sns\n",
    "import joblib\n",
    "from tensorflow.keras.models import Sequential\n",
    "from tensorflow.keras.layers import Dense, Dropout, BatchNormalization\n",
    "from tensorflow.keras.optimizers import Adam\n",
    "from tensorflow.keras.callbacks import EarlyStopping, ReduceLROnPlateau\n",
    "from sklearn.metrics import accuracy_score, precision_score, recall_score, f1_score, confusion_matrix\n",
    "from sklearn.preprocessing import StandardScaler\n",
    "from imblearn.over_sampling import RandomOverSampler\n",
    "from niapy.task import Task\n",
    "from niapy.problems import Problem\n",
    "from niapy.algorithms.basic import GreyWolfOptimizer"
   ]
  },
  {
   "cell_type": "markdown",
   "metadata": {
    "id": "jCdm9XCk1Kxq"
   },
   "source": [
    "##df"
   ]
  },
  {
   "cell_type": "code",
   "execution_count": 2,
   "metadata": {
    "colab": {
     "base_uri": "https://localhost:8080/"
    },
    "id": "fAnAs_b5-KFi",
    "outputId": "2c45b209-7d5c-4716-a3c1-db9448ea10a9"
   },
   "outputs": [],
   "source": [
    "X_train_path = \"D:\\Daffa Data\\Telkom Folder\\semester 7\\Tugas Akhir\\data\\FIX BANGET\\X_train.csv\"\n",
    "X_test_path = \"D:\\Daffa Data\\Telkom Folder\\semester 7\\Tugas Akhir\\data\\FIX BANGET\\X_test.csv\"\n",
    "y_train_path = \"D:\\Daffa Data\\Telkom Folder\\semester 7\\Tugas Akhir\\data\\FIX BANGET\\y_train.csv\"\n",
    "y_test_path = \"D:\\Daffa Data\\Telkom Folder\\semester 7\\Tugas Akhir\\data\\FIX BANGET\\y_test.csv\"\n",
    "\n",
    "X_train_df = pd.read_csv(X_train_path)\n",
    "X_test_df = pd.read_csv(X_test_path)\n",
    "y_train_df = pd.read_csv(y_train_path)\n",
    "y_test_df = pd.read_csv(y_test_path)\n",
    "\n",
    "X_train = X_train_df.values\n",
    "X_test = X_test_df.values\n",
    "y_train = y_train_df.values.ravel()\n",
    "y_test = y_test_df.values.ravel()\n",
    "\n",
    "X_train_df  = X_train_df.drop(columns=['FDA_APPROVED'])\n",
    "X_test_df  = X_test_df.drop(columns=['FDA_APPROVED'])"
   ]
  },
  {
   "cell_type": "code",
   "execution_count": 3,
   "metadata": {},
   "outputs": [],
   "source": [
    "ros = RandomOverSampler(random_state=42)\n",
    "X_train_balanced, y_train_balanced = ros.fit_resample(X_train, y_train)"
   ]
  },
  {
   "cell_type": "code",
   "execution_count": 4,
   "metadata": {},
   "outputs": [],
   "source": [
    "scaler = StandardScaler()\n",
    "X_train_balanced = scaler.fit_transform(X_train_balanced)\n",
    "X_test = scaler.transform(X_test)"
   ]
  },
  {
   "cell_type": "code",
   "execution_count": 5,
   "metadata": {},
   "outputs": [
    {
     "data": {
      "image/png": "[encoded data removed]",
      "text/plain": [
       "<Figure size 864x360 with 2 Axes>"
      ]
     },
     "metadata": {
      "needs_background": "light"
     },
     "output_type": "display_data"
    },
    {
     "data": {
      "image/png": "[encoded data removed]",
      "text/plain": [
       "<Figure size 864x360 with 2 Axes>"
      ]
     },
     "metadata": {
      "needs_background": "light"
     },
     "output_type": "display_data"
    },
    {
     "name": "stdout",
     "output_type": "stream",
     "text": [
      "Original y_train size: 1038\n",
      "Balanced y_train size: 1920\n",
      "Original X_train size: 1038\n",
      "Balanced X_train size: 1920\n",
      "Original class 0 count: 960\n",
      "Original class 1 count: 78\n",
      "Balanced class 0 count: 960\n",
      "Balanced class 1 count: 960\n",
      "y_test size: 446\n",
      "x_test size: 446\n",
      "412\n",
      "34\n"
     ]
    }
   ],
   "source": [
    "def plot_class_distribution(y_train, y_train_balanced, target_name):\n",
    "    fig, ax = plt.subplots(1, 2, figsize=(12, 5))\n",
    "    train_class_distribution = np.bincount(y_train)\n",
    "    train_class_distribution_resampled = np.bincount(y_train_balanced)\n",
    "    ax[0].bar([0, 1], train_class_distribution, color=['blue', 'orange'])\n",
    "    ax[0].set_title(f'{target_name} - Class Distribution Before Resampling')\n",
    "    ax[0].set_xticks([0, 1])\n",
    "    ax[0].set_xticklabels(['Class 0', 'Class 1'])\n",
    "    ax[1].bar([0, 1], train_class_distribution_resampled, color=['blue', 'orange'])\n",
    "    ax[1].set_title(f'{target_name} - Class Distribution After ROS')\n",
    "    ax[1].set_xticks([0, 1])\n",
    "    ax[1].set_xticklabels(['Class 0', 'Class 1'])\n",
    "    plt.show()\n",
    "\n",
    "plot_class_distribution(y_train, y_train_balanced, \"CT_TOX\")\n",
    "\n",
    "def plot_class_distribution(X_train, X_train_balanced, target_name):\n",
    "    fig, ax = plt.subplots(1, 2, figsize=(12, 5))\n",
    "    train_class_distribution = np.bincount(y_train)\n",
    "    train_class_distribution_resampled = np.bincount(y_train_balanced)\n",
    "    ax[0].bar([0, 1], train_class_distribution, color=['blue', 'orange'])\n",
    "    ax[0].set_title(f'{target_name} - Class Distribution Before Resampling')\n",
    "    ax[0].set_xticks([0, 1])\n",
    "    ax[0].set_xticklabels(['Class 0', 'Class 1'])\n",
    "    ax[1].bar([0, 1], train_class_distribution_resampled, color=['blue', 'orange'])\n",
    "    ax[1].set_title(f'{target_name} - Class Distribution After ROS')\n",
    "    ax[1].set_xticks([0, 1])\n",
    "    ax[1].set_xticklabels(['Class 0', 'Class 1'])\n",
    "    plt.show()\n",
    "\n",
    "    print(f\"Original y_train size: {len(y_train)}\")\n",
    "    print(f\"Balanced y_train size: {len(y_train_balanced)}\")\n",
    "    print(f\"Original X_train size: {len(X_train)}\")\n",
    "    print(f\"Balanced X_train size: {len(X_train_balanced)}\")\n",
    "\n",
    "    original_class_0_count = np.sum(y_train == 0)\n",
    "    original_class_1_count = np.sum(y_train == 1)\n",
    "    balanced_class_0_count = np.sum(y_train_balanced == 0)\n",
    "    balanced_class_1_count = np.sum(y_train_balanced == 1)\n",
    "    \n",
    "    print(f\"Original class 0 count: {original_class_0_count}\")\n",
    "    print(f\"Original class 1 count: {original_class_1_count}\")\n",
    "    print(f\"Balanced class 0 count: {balanced_class_0_count}\")\n",
    "    print(f\"Balanced class 1 count: {balanced_class_1_count}\")\n",
    "\n",
    "    print(f\"y_test size: {len(y_test)}\")\n",
    "    print(f\"x_test size: {len(X_test)}\")\n",
    "\n",
    "    print((y_test == 0).sum())\n",
    "    print((y_test == 1).sum())\n",
    "\n",
    "plot_class_distribution(X_train, X_train_balanced, \"CT_TOX\")"
   ]
  },
  {
   "cell_type": "code",
   "execution_count": 6,
   "metadata": {},
   "outputs": [],
   "source": [
    "def build_and_evaluate_model(input_dim, params):\n",
    "    num_layers = params['num_layers']\n",
    "    neurons_per_layer = params['neurons_per_layer']\n",
    "    dropout_rate = params['dropout_rate']\n",
    "    batch_size = params['batch_size']\n",
    "    hidden_activation = params['hidden_activation']\n",
    "    output_activation = params['output_activation']\n",
    "    epochs = params['epochs']\n",
    "\n",
    "    # Define the model\n",
    "    model = Sequential()\n",
    "    for i in range(num_layers):\n",
    "        if i == 0:\n",
    "            model.add(Dense(neurons_per_layer[i], input_dim=input_dim, activation=hidden_activation))\n",
    "        else:\n",
    "            model.add(Dense(neurons_per_layer[i], activation=hidden_activation))\n",
    "        model.add(BatchNormalization())  # Batch Normalization to stabilize learning\n",
    "        model.add(Dropout(dropout_rate))  # Dropout layer to prevent overfitting\n",
    "\n",
    "    model.add(Dense(1, activation=output_activation))  # Output layer\n",
    "\n",
    "    # Compile the model\n",
    "    model.compile(optimizer=Adam(learning_rate=0.001), loss=\"binary_crossentropy\", metrics=[\"accuracy\"])\n",
    "\n",
    "    # Early stopping and learning rate reduction on plateau\n",
    "    early_stopping = EarlyStopping(monitor='val_loss', patience=8, restore_best_weights=True)\n",
    "    reduce_lr = ReduceLROnPlateau(monitor='val_loss', factor=0.5, patience=5, min_lr=1e-6)\n",
    "\n",
    "    # Train the model without W&B callback, manually log metrics\n",
    "    history = model.fit(\n",
    "        X_train_balanced, y_train_balanced,\n",
    "        epochs=epochs,\n",
    "        batch_size=batch_size,\n",
    "        verbose=0,\n",
    "        validation_data=(X_test, y_test),\n",
    "        callbacks=[early_stopping, reduce_lr]\n",
    "    )\n",
    "\n",
    "    # Evaluate the model\n",
    "    loss, accuracy = model.evaluate(X_test, y_test, verbose=0)\n",
    "\n",
    "    # Log metrics manually\n",
    "    metrics = {\n",
    "        \"validation_loss\": loss,\n",
    "        \"validation_accuracy\": accuracy\n",
    "    }\n",
    "    print(f\"Validation Loss: {loss:.4f}, Validation Accuracy: {accuracy:.4f}\")\n",
    "    \n",
    "\n",
    "    # Return model, accuracy, and history object\n",
    "    return model, accuracy, history\n"
   ]
  },
  {
   "cell_type": "code",
   "execution_count": 7,
   "metadata": {},
   "outputs": [],
   "source": [
    "class ANNOptimizationProblemWithEarlyStopping(Problem):\n",
    "    def __init__(self, input_dim, max_layers=5, patience=8):\n",
    "        self.input_dim = input_dim\n",
    "        self.max_layers = max_layers\n",
    "        self.patience = patience\n",
    "        self.best_fitness = -float('inf')\n",
    "        self.stagnation_count = 0\n",
    "        super().__init__(\n",
    "            dimension=1 + max_layers,  # First dimension is number of layers, next are neurons per layer\n",
    "            lower=[1] + [0] * max_layers,\n",
    "            upper=[max_layers] + [1] * max_layers,\n",
    "            type_var=float\n",
    "        )\n",
    "\n",
    "    def _evaluate(self, solution):\n",
    "        num_layers = int(solution[0])\n",
    "        neurons_per_layer = [\n",
    "            int(1 + solution[i + 1] * 255)  # Scale neurons in the range [1, 256]\n",
    "            for i in range(num_layers)\n",
    "        ]\n",
    "        params = {\n",
    "            \"num_layers\": num_layers,\n",
    "            \"neurons_per_layer\": neurons_per_layer,\n",
    "            \"dropout_rate\": 0.2,\n",
    "            \"batch_size\": 16,\n",
    "            \"hidden_activation\": 'tanh',\n",
    "            \"output_activation\": 'sigmoid',\n",
    "            \"epochs\": 200\n",
    "        }\n",
    "\n",
    "        # Build and evaluate the model\n",
    "        model, accuracy, history = build_and_evaluate_model(self.input_dim, params)\n",
    "\n",
    "        # Early stopping based on plateau\n",
    "        if accuracy > self.best_fitness:\n",
    "            self.best_fitness = accuracy\n",
    "            self.stagnation_count = 0\n",
    "        else:\n",
    "            self.stagnation_count += 1\n",
    "\n",
    "        if self.stagnation_count >= self.patience:\n",
    "            self.stagnation_count = self.patience + 1  # Force task to terminate\n",
    "\n",
    "        return accuracy"
   ]
  },
  {
   "cell_type": "code",
   "execution_count": 8,
   "metadata": {},
   "outputs": [],
   "source": [
    "class TaskWithEarlyStopping(Task):\n",
    "    def __init__(self, *args, patience=8, **kwargs):\n",
    "        super().__init__(*args, **kwargs)\n",
    "        self.patience = patience\n",
    "        self.stagnation_count = 0\n",
    "        self.best_fitness = -float('inf')\n",
    "\n",
    "    def update(self, algorithm):\n",
    "        super().update(algorithm)\n",
    "        current_fitness = algorithm.best_fitness\n",
    "\n",
    "        if current_fitness > self.best_fitness:\n",
    "            self.best_fitness = current_fitness\n",
    "            self.stagnation_count = 0\n",
    "        else:\n",
    "            self.stagnation_count += 1\n",
    "\n",
    "        if self.stagnation_count >= self.patience:\n",
    "            self.stop()"
   ]
  },
  {
   "cell_type": "code",
   "execution_count": 9,
   "metadata": {},
   "outputs": [
    {
     "name": "stdout",
     "output_type": "stream",
     "text": [
      "Running GWO with Population Size: 10 and Max Iterations: 20\n"
     ]
    }
   ],
   "source": [
    "population_size = 10\n",
    "max_iters = 20\n",
    "patience = 8\n",
    "print(f\"Running GWO with Population Size: {population_size} and Max Iterations: {max_iters}\")"
   ]
  },
  {
   "cell_type": "code",
   "execution_count": 10,
   "metadata": {},
   "outputs": [],
   "source": [
    "problem = ANNOptimizationProblemWithEarlyStopping(input_dim=X_train_balanced.shape[1], max_layers=5, patience=patience)\n",
    "task = TaskWithEarlyStopping(\n",
    "    problem=problem,\n",
    "    max_iters=max_iters,\n",
    "    enable_logging=True,\n",
    "    patience=patience\n",
    ")"
   ]
  },
  {
   "cell_type": "code",
   "execution_count": 11,
   "metadata": {},
   "outputs": [
    {
     "name": "stderr",
     "output_type": "stream",
     "text": [
      "c:\\Users\\ASUS\\AppData\\Local\\Programs\\Python\\Python39\\lib\\site-packages\\keras\\src\\layers\\core\\dense.py:87: UserWarning: Do not pass an `input_shape`/`input_dim` argument to a layer. When using Sequential models, prefer using an `Input(shape)` object as the first layer in the model instead.\n",
      "  super().__init__(activity_regularizer=activity_regularizer, **kwargs)\n",
      "INFO:niapy.task.Task:evals:1 => 0.9618834257125854\n"
     ]
    },
    {
     "name": "stdout",
     "output_type": "stream",
     "text": [
      "Validation Loss: 0.1581, Validation Accuracy: 0.9619\n"
     ]
    },
    {
     "name": "stderr",
     "output_type": "stream",
     "text": [
      "INFO:niapy.task.Task:evals:2 => 0.9506726264953613\n"
     ]
    },
    {
     "name": "stdout",
     "output_type": "stream",
     "text": [
      "Validation Loss: 0.1612, Validation Accuracy: 0.9507\n",
      "Validation Loss: 0.1885, Validation Accuracy: 0.9552\n"
     ]
    },
    {
     "name": "stderr",
     "output_type": "stream",
     "text": [
      "INFO:niapy.task.Task:evals:4 => 0.9372197389602661\n"
     ]
    },
    {
     "name": "stdout",
     "output_type": "stream",
     "text": [
      "Validation Loss: 0.1805, Validation Accuracy: 0.9372\n",
      "Validation Loss: 0.1663, Validation Accuracy: 0.9462\n",
      "Validation Loss: 0.1770, Validation Accuracy: 0.9439\n",
      "Validation Loss: 0.1840, Validation Accuracy: 0.9417\n"
     ]
    },
    {
     "name": "stderr",
     "output_type": "stream",
     "text": [
      "INFO:niapy.task.Task:evals:8 => 0.9147982001304626\n"
     ]
    },
    {
     "name": "stdout",
     "output_type": "stream",
     "text": [
      "Validation Loss: 0.1888, Validation Accuracy: 0.9148\n",
      "Validation Loss: 0.1555, Validation Accuracy: 0.9462\n",
      "Validation Loss: 0.1698, Validation Accuracy: 0.9462\n",
      "Validation Loss: 0.1720, Validation Accuracy: 0.9552\n",
      "Validation Loss: 0.1678, Validation Accuracy: 0.9439\n",
      "Validation Loss: 0.1587, Validation Accuracy: 0.9507\n",
      "Validation Loss: 0.1561, Validation Accuracy: 0.9574\n",
      "Validation Loss: 0.1682, Validation Accuracy: 0.9574\n",
      "Validation Loss: 0.1642, Validation Accuracy: 0.9507\n",
      "Validation Loss: 0.1490, Validation Accuracy: 0.9596\n",
      "Validation Loss: 0.1628, Validation Accuracy: 0.9619\n",
      "Validation Loss: 0.1944, Validation Accuracy: 0.9507\n",
      "Validation Loss: 0.1876, Validation Accuracy: 0.9641\n",
      "Validation Loss: 0.1524, Validation Accuracy: 0.9484\n",
      "Validation Loss: 0.1561, Validation Accuracy: 0.9552\n",
      "Validation Loss: 0.1615, Validation Accuracy: 0.9507\n",
      "Validation Loss: 0.1728, Validation Accuracy: 0.9529\n",
      "Validation Loss: 0.1745, Validation Accuracy: 0.9417\n",
      "Validation Loss: 0.1854, Validation Accuracy: 0.9439\n",
      "Validation Loss: 0.2734, Validation Accuracy: 0.9283\n",
      "Validation Loss: 0.1976, Validation Accuracy: 0.9439\n",
      "Validation Loss: 0.1920, Validation Accuracy: 0.9417\n",
      "Validation Loss: 0.1732, Validation Accuracy: 0.9484\n",
      "Validation Loss: 0.1638, Validation Accuracy: 0.9395\n",
      "Validation Loss: 0.1971, Validation Accuracy: 0.9596\n",
      "Validation Loss: 0.2058, Validation Accuracy: 0.9305\n",
      "Validation Loss: 0.2146, Validation Accuracy: 0.9484\n",
      "Validation Loss: 0.1866, Validation Accuracy: 0.9596\n",
      "Validation Loss: 0.1570, Validation Accuracy: 0.9596\n",
      "Validation Loss: 0.1889, Validation Accuracy: 0.9484\n",
      "Validation Loss: 0.1753, Validation Accuracy: 0.9417\n",
      "Validation Loss: 0.1773, Validation Accuracy: 0.9529\n",
      "Validation Loss: 0.2048, Validation Accuracy: 0.9462\n",
      "Validation Loss: 0.2503, Validation Accuracy: 0.9305\n",
      "Validation Loss: 0.1914, Validation Accuracy: 0.9395\n",
      "Validation Loss: 0.1558, Validation Accuracy: 0.9395\n",
      "Validation Loss: 0.1672, Validation Accuracy: 0.9484\n",
      "Validation Loss: 0.1639, Validation Accuracy: 0.9552\n",
      "Validation Loss: 0.1834, Validation Accuracy: 0.9529\n",
      "Validation Loss: 0.1631, Validation Accuracy: 0.9462\n",
      "Validation Loss: 0.1763, Validation Accuracy: 0.9439\n",
      "Validation Loss: 0.1435, Validation Accuracy: 0.9641\n",
      "Validation Loss: 0.1934, Validation Accuracy: 0.9529\n",
      "Validation Loss: 0.1716, Validation Accuracy: 0.9439\n",
      "Validation Loss: 0.1642, Validation Accuracy: 0.9439\n",
      "Validation Loss: 0.1559, Validation Accuracy: 0.9574\n",
      "Validation Loss: 0.1646, Validation Accuracy: 0.9552\n",
      "Validation Loss: 0.1801, Validation Accuracy: 0.9417\n",
      "Validation Loss: 0.1666, Validation Accuracy: 0.9350\n",
      "Validation Loss: 0.2006, Validation Accuracy: 0.9462\n",
      "Validation Loss: 0.1915, Validation Accuracy: 0.9529\n",
      "Validation Loss: 0.1687, Validation Accuracy: 0.9507\n",
      "Validation Loss: 0.1636, Validation Accuracy: 0.9574\n",
      "Validation Loss: 0.1959, Validation Accuracy: 0.9484\n",
      "Validation Loss: 0.1904, Validation Accuracy: 0.9507\n",
      "Validation Loss: 0.1995, Validation Accuracy: 0.9462\n",
      "Validation Loss: 0.1912, Validation Accuracy: 0.9395\n",
      "Validation Loss: 0.1671, Validation Accuracy: 0.9574\n",
      "Validation Loss: 0.1697, Validation Accuracy: 0.9552\n",
      "Validation Loss: 0.1891, Validation Accuracy: 0.9395\n",
      "Validation Loss: 0.2226, Validation Accuracy: 0.9439\n",
      "Validation Loss: 0.2244, Validation Accuracy: 0.9350\n",
      "Validation Loss: 0.1754, Validation Accuracy: 0.9439\n",
      "Validation Loss: 0.1938, Validation Accuracy: 0.9552\n",
      "Validation Loss: 0.1549, Validation Accuracy: 0.9507\n",
      "Validation Loss: 0.1856, Validation Accuracy: 0.9529\n",
      "Validation Loss: 0.1561, Validation Accuracy: 0.9507\n",
      "Validation Loss: 0.2340, Validation Accuracy: 0.9260\n",
      "Validation Loss: 0.1876, Validation Accuracy: 0.9395\n",
      "Validation Loss: 0.2282, Validation Accuracy: 0.9395\n",
      "Validation Loss: 0.1829, Validation Accuracy: 0.9529\n",
      "Validation Loss: 0.1807, Validation Accuracy: 0.9462\n",
      "Validation Loss: 0.2139, Validation Accuracy: 0.9462\n",
      "Validation Loss: 0.2331, Validation Accuracy: 0.9215\n",
      "Validation Loss: 0.1709, Validation Accuracy: 0.9507\n",
      "Validation Loss: 0.1960, Validation Accuracy: 0.9462\n",
      "Validation Loss: 0.1658, Validation Accuracy: 0.9596\n",
      "Validation Loss: 0.2648, Validation Accuracy: 0.9283\n",
      "Validation Loss: 0.1820, Validation Accuracy: 0.9507\n",
      "Validation Loss: 0.1836, Validation Accuracy: 0.9596\n",
      "Validation Loss: 0.1767, Validation Accuracy: 0.9372\n",
      "Validation Loss: 0.1908, Validation Accuracy: 0.9529\n",
      "Validation Loss: 0.1660, Validation Accuracy: 0.9529\n",
      "Validation Loss: 0.1976, Validation Accuracy: 0.9350\n",
      "Validation Loss: 0.2156, Validation Accuracy: 0.9372\n",
      "Validation Loss: 0.1696, Validation Accuracy: 0.9507\n",
      "Validation Loss: 0.1522, Validation Accuracy: 0.9529\n",
      "Validation Loss: 0.1537, Validation Accuracy: 0.9552\n",
      "Validation Loss: 0.1791, Validation Accuracy: 0.9552\n",
      "Validation Loss: 0.1972, Validation Accuracy: 0.9260\n",
      "Validation Loss: 0.1851, Validation Accuracy: 0.9574\n",
      "Validation Loss: 0.1609, Validation Accuracy: 0.9552\n",
      "Validation Loss: 0.2186, Validation Accuracy: 0.9193\n",
      "Validation Loss: 0.1848, Validation Accuracy: 0.9238\n",
      "Validation Loss: 0.1548, Validation Accuracy: 0.9529\n",
      "Validation Loss: 0.1945, Validation Accuracy: 0.9215\n",
      "Validation Loss: 0.1902, Validation Accuracy: 0.9417\n",
      "Validation Loss: 0.2766, Validation Accuracy: 0.9238\n",
      "Validation Loss: 0.1792, Validation Accuracy: 0.9462\n",
      "Validation Loss: 0.1626, Validation Accuracy: 0.9417\n",
      "Validation Loss: 0.1456, Validation Accuracy: 0.9619\n",
      "Validation Loss: 0.2748, Validation Accuracy: 0.9193\n",
      "Validation Loss: 0.1758, Validation Accuracy: 0.9507\n",
      "Validation Loss: 0.1793, Validation Accuracy: 0.9462\n",
      "Validation Loss: 0.1828, Validation Accuracy: 0.9552\n",
      "Validation Loss: 0.1570, Validation Accuracy: 0.9641\n",
      "Validation Loss: 0.1746, Validation Accuracy: 0.9507\n",
      "Validation Loss: 0.2398, Validation Accuracy: 0.9283\n",
      "Validation Loss: 0.1642, Validation Accuracy: 0.9417\n",
      "Validation Loss: 0.1407, Validation Accuracy: 0.9462\n",
      "Validation Loss: 0.1964, Validation Accuracy: 0.9507\n",
      "Validation Loss: 0.1713, Validation Accuracy: 0.9596\n",
      "Validation Loss: 0.1456, Validation Accuracy: 0.9596\n",
      "Validation Loss: 0.3412, Validation Accuracy: 0.9238\n",
      "Validation Loss: 0.1521, Validation Accuracy: 0.9507\n",
      "Validation Loss: 0.2663, Validation Accuracy: 0.9193\n",
      "Validation Loss: 0.1465, Validation Accuracy: 0.9619\n",
      "Validation Loss: 0.1854, Validation Accuracy: 0.9484\n",
      "Validation Loss: 0.1382, Validation Accuracy: 0.9596\n",
      "Validation Loss: 0.1680, Validation Accuracy: 0.9529\n",
      "Validation Loss: 0.1784, Validation Accuracy: 0.9484\n",
      "Validation Loss: 0.1606, Validation Accuracy: 0.9484\n",
      "Validation Loss: 0.1822, Validation Accuracy: 0.9283\n",
      "Validation Loss: 0.1734, Validation Accuracy: 0.9507\n",
      "Validation Loss: 0.2456, Validation Accuracy: 0.9215\n",
      "Validation Loss: 0.1954, Validation Accuracy: 0.9507\n",
      "Validation Loss: 0.1364, Validation Accuracy: 0.9664\n",
      "Validation Loss: 0.1471, Validation Accuracy: 0.9619\n",
      "Validation Loss: 0.1539, Validation Accuracy: 0.9529\n",
      "Validation Loss: 0.1905, Validation Accuracy: 0.9395\n",
      "Validation Loss: 0.1592, Validation Accuracy: 0.9529\n",
      "Validation Loss: 0.1488, Validation Accuracy: 0.9507\n",
      "Validation Loss: 0.1804, Validation Accuracy: 0.9596\n",
      "Validation Loss: 0.1674, Validation Accuracy: 0.9462\n",
      "Validation Loss: 0.1793, Validation Accuracy: 0.9372\n",
      "Validation Loss: 0.1796, Validation Accuracy: 0.9619\n",
      "Validation Loss: 0.1774, Validation Accuracy: 0.9574\n",
      "Validation Loss: 0.1666, Validation Accuracy: 0.9507\n",
      "Validation Loss: 0.1757, Validation Accuracy: 0.9574\n"
     ]
    },
    {
     "name": "stderr",
     "output_type": "stream",
     "text": [
      "INFO:niapy.task.Task:evals:147 => 0.9103139042854309\n"
     ]
    },
    {
     "name": "stdout",
     "output_type": "stream",
     "text": [
      "Validation Loss: 0.2548, Validation Accuracy: 0.9103\n",
      "Validation Loss: 0.2150, Validation Accuracy: 0.9484\n",
      "Validation Loss: 0.1465, Validation Accuracy: 0.9596\n",
      "Validation Loss: 0.1886, Validation Accuracy: 0.9350\n",
      "Validation Loss: 0.2173, Validation Accuracy: 0.9327\n",
      "Validation Loss: 0.1802, Validation Accuracy: 0.9417\n",
      "Validation Loss: 0.1772, Validation Accuracy: 0.9238\n",
      "Validation Loss: 0.1999, Validation Accuracy: 0.9215\n"
     ]
    },
    {
     "name": "stderr",
     "output_type": "stream",
     "text": [
      "INFO:niapy.task.Task:evals:155 => 0.9035874605178833\n"
     ]
    },
    {
     "name": "stdout",
     "output_type": "stream",
     "text": [
      "Validation Loss: 0.2499, Validation Accuracy: 0.9036\n",
      "Validation Loss: 0.2209, Validation Accuracy: 0.9417\n",
      "Validation Loss: 0.2212, Validation Accuracy: 0.9283\n",
      "Validation Loss: 0.1751, Validation Accuracy: 0.9484\n",
      "Validation Loss: 0.1731, Validation Accuracy: 0.9574\n",
      "Validation Loss: 0.1575, Validation Accuracy: 0.9350\n",
      "Validation Loss: 0.2292, Validation Accuracy: 0.9215\n",
      "Validation Loss: 0.2237, Validation Accuracy: 0.9283\n",
      "Validation Loss: 0.1718, Validation Accuracy: 0.9372\n",
      "Validation Loss: 0.2028, Validation Accuracy: 0.9350\n",
      "Validation Loss: 0.2143, Validation Accuracy: 0.9283\n",
      "Validation Loss: 0.1994, Validation Accuracy: 0.9462\n",
      "Validation Loss: 0.2025, Validation Accuracy: 0.9327\n",
      "Validation Loss: 0.1807, Validation Accuracy: 0.9372\n",
      "Validation Loss: 0.1600, Validation Accuracy: 0.9574\n",
      "Validation Loss: 0.2091, Validation Accuracy: 0.9305\n",
      "Validation Loss: 0.2317, Validation Accuracy: 0.9193\n",
      "Validation Loss: 0.1610, Validation Accuracy: 0.9529\n",
      "Validation Loss: 0.1717, Validation Accuracy: 0.9395\n",
      "Validation Loss: 0.1761, Validation Accuracy: 0.9439\n",
      "Validation Loss: 0.1482, Validation Accuracy: 0.9552\n",
      "Validation Loss: 0.1590, Validation Accuracy: 0.9484\n",
      "Validation Loss: 0.3053, Validation Accuracy: 0.9126\n",
      "Validation Loss: 0.1573, Validation Accuracy: 0.9552\n",
      "Validation Loss: 0.2367, Validation Accuracy: 0.9305\n",
      "Validation Loss: 0.2260, Validation Accuracy: 0.9305\n",
      "Validation Loss: 0.2039, Validation Accuracy: 0.9305\n",
      "Validation Loss: 0.1598, Validation Accuracy: 0.9507\n",
      "Validation Loss: 0.1799, Validation Accuracy: 0.9327\n",
      "Validation Loss: 0.2347, Validation Accuracy: 0.9350\n",
      "Validation Loss: 0.1976, Validation Accuracy: 0.9395\n",
      "Validation Loss: 0.2316, Validation Accuracy: 0.9238\n",
      "Validation Loss: 0.1929, Validation Accuracy: 0.9305\n",
      "Validation Loss: 0.2242, Validation Accuracy: 0.9148\n",
      "Validation Loss: 0.2080, Validation Accuracy: 0.9238\n",
      "Validation Loss: 0.2040, Validation Accuracy: 0.9395\n",
      "Validation Loss: 0.1637, Validation Accuracy: 0.9395\n",
      "Validation Loss: 0.1543, Validation Accuracy: 0.9417\n",
      "Validation Loss: 0.1819, Validation Accuracy: 0.9327\n",
      "Validation Loss: 0.2159, Validation Accuracy: 0.9327\n",
      "Validation Loss: 0.2068, Validation Accuracy: 0.9260\n",
      "Validation Loss: 0.2217, Validation Accuracy: 0.9260\n",
      "Validation Loss: 0.1527, Validation Accuracy: 0.9507\n"
     ]
    },
    {
     "name": "stderr",
     "output_type": "stream",
     "text": [
      "INFO:niapy.task.Task:evals:198 => 0.7309417128562927\n"
     ]
    },
    {
     "name": "stdout",
     "output_type": "stream",
     "text": [
      "Validation Loss: 0.6722, Validation Accuracy: 0.7309\n",
      "Validation Loss: 0.1899, Validation Accuracy: 0.9462\n",
      "Validation Loss: 0.2234, Validation Accuracy: 0.9238\n",
      "Validation Loss: 0.1563, Validation Accuracy: 0.9439\n",
      "Validation Loss: 0.1730, Validation Accuracy: 0.9372\n",
      "Validation Loss: 0.1988, Validation Accuracy: 0.9395\n",
      "Validation Loss: 0.1392, Validation Accuracy: 0.9596\n",
      "Validation Loss: 0.1420, Validation Accuracy: 0.9439\n",
      "Validation Loss: 0.2116, Validation Accuracy: 0.9350\n",
      "Validation Loss: 0.2076, Validation Accuracy: 0.9327\n",
      "Validation Loss: 0.1652, Validation Accuracy: 0.9529\n",
      "Validation Loss: 0.5484, Validation Accuracy: 0.9238\n",
      "Validation Loss: 0.1668, Validation Accuracy: 0.9395\n"
     ]
    }
   ],
   "source": [
    "gwo = GreyWolfOptimizer(population_size=population_size)\n",
    "best_solution, fitness_values = gwo.run(task)"
   ]
  },
  {
   "cell_type": "code",
   "execution_count": 12,
   "metadata": {},
   "outputs": [
    {
     "data": {
      "text/plain": [
       "['convergence_data_pop_10.joblib']"
      ]
     },
     "execution_count": 12,
     "metadata": {},
     "output_type": "execute_result"
    }
   ],
   "source": [
    "convergence_data = {\n",
    "    \"iterations\": task.n_evals,\n",
    "    \"convergence_values\": task.fitness_evals  # Convergence value is now the best accuracy\n",
    "}\n",
    "joblib.dump(convergence_data, f\"convergence_data_pop_{population_size}.joblib\")"
   ]
  },
  {
   "cell_type": "code",
   "execution_count": 13,
   "metadata": {},
   "outputs": [
    {
     "data": {
      "image/png": "[encoded data removed]",
      "text/plain": [
       "<Figure size 432x288 with 1 Axes>"
      ]
     },
     "metadata": {
      "needs_background": "light"
     },
     "output_type": "display_data"
    }
   ],
   "source": [
    "task.plot_convergence(x_axis='evals', title='Convergence Plot')\n"
   ]
  },
  {
   "cell_type": "code",
   "execution_count": 14,
   "metadata": {},
   "outputs": [
    {
     "data": {
      "image/png": "[encoded data removed]",
      "text/plain": [
       "<Figure size 864x576 with 1 Axes>"
      ]
     },
     "metadata": {
      "needs_background": "light"
     },
     "output_type": "display_data"
    }
   ],
   "source": [
    "plt.figure(figsize=(12, 8))\n",
    "plt.plot(convergence_data[\"iterations\"], convergence_data[\"convergence_values\"], label=\"Accuracy per Iteration\")\n",
    "plt.title(\"Convergence Plot - Accuracy vs. Iterations\")\n",
    "plt.xlabel(\"Iterations\")\n",
    "plt.ylabel(\"Accuracy\")\n",
    "plt.legend()\n",
    "plt.show()"
   ]
  },
  {
   "cell_type": "code",
   "execution_count": 32,
   "metadata": {},
   "outputs": [
    {
     "name": "stderr",
     "output_type": "stream",
     "text": [
      "c:\\Users\\ASUS\\AppData\\Local\\Programs\\Python\\Python39\\lib\\site-packages\\keras\\src\\layers\\core\\dense.py:87: UserWarning: Do not pass an `input_shape`/`input_dim` argument to a layer. When using Sequential models, prefer using an `Input(shape)` object as the first layer in the model instead.\n",
      "  super().__init__(activity_regularizer=activity_regularizer, **kwargs)\n"
     ]
    },
    {
     "name": "stdout",
     "output_type": "stream",
     "text": [
      "Validation Loss: 0.1809, Validation Accuracy: 0.9439\n"
     ]
    }
   ],
   "source": [
    "num_layers = int(best_solution[0])\n",
    "neurons_per_layer = [int(1 + best_solution[i + 1] * 255) for i in range(num_layers)]\n",
    "optimized_params = {\n",
    "    \"num_layers\": num_layers,\n",
    "    \"neurons_per_layer\": neurons_per_layer,\n",
    "    \"dropout_rate\": 0.1,\n",
    "    \"batch_size\": 16,\n",
    "    \"hidden_activation\": 'tanh',\n",
    "    \"output_activation\": 'sigmoid',\n",
    "    \"epochs\": 200\n",
    "}\n",
    "\n",
    "# Build and evaluate model with optimized parameters\n",
    "model, accuracy, history = build_and_evaluate_model(X_train_balanced.shape[1], optimized_params)\n",
    "\n"
   ]
  },
  {
   "cell_type": "code",
   "execution_count": 33,
   "metadata": {},
   "outputs": [
    {
     "name": "stdout",
     "output_type": "stream",
     "text": [
      "\n",
      "GWO Results:\n",
      "Optimized Parameters: {'num_layers': 5, 'neurons_per_layer': [1, 1, 179, 158, 237], 'dropout_rate': 0.1, 'batch_size': 16, 'hidden_activation': 'tanh', 'output_activation': 'sigmoid', 'epochs': 200}\n"
     ]
    }
   ],
   "source": [
    "print(\"\\nGWO Results:\")\n",
    "print(f\"Optimized Parameters: {optimized_params}\")"
   ]
  },
  {
   "cell_type": "code",
   "execution_count": 34,
   "metadata": {},
   "outputs": [
    {
     "name": "stdout",
     "output_type": "stream",
     "text": [
      "\u001b[1m14/14\u001b[0m \u001b[32m━━━━━━━━━━━━━━━━━━━━\u001b[0m\u001b[37m\u001b[0m \u001b[1m0s\u001b[0m 12ms/step\n",
      "\u001b[1m60/60\u001b[0m \u001b[32m━━━━━━━━━━━━━━━━━━━━\u001b[0m\u001b[37m\u001b[0m \u001b[1m0s\u001b[0m 2ms/step\n"
     ]
    }
   ],
   "source": [
    "cm_test = confusion_matrix(y_test, (model.predict(X_test) > 0.5).astype(int))\n",
    "cm_train = confusion_matrix(y_train_balanced, (model.predict(X_train_balanced) > 0.5).astype(int))"
   ]
  },
  {
   "cell_type": "code",
   "execution_count": 38,
   "metadata": {},
   "outputs": [
    {
     "data": {
      "image/png": "[encoded data removed]",
      "text/plain": [
       "<Figure size 864x576 with 1 Axes>"
      ]
     },
     "metadata": {
      "needs_background": "light"
     },
     "output_type": "display_data"
    }
   ],
   "source": [
    "plt.figure(figsize=(12, 8))\n",
    "plt.plot(history.history['loss'], label=\"Train Loss\")\n",
    "plt.plot(history.history['val_loss'], label=\"Validation Loss\")\n",
    "plt.title(\"Scheme 2\")\n",
    "plt.xlabel(\"Epochs\")\n",
    "plt.ylabel(\"Loss\")\n",
    "plt.legend()\n",
    "plt.show()"
   ]
  },
  {
   "cell_type": "code",
   "execution_count": 37,
   "metadata": {},
   "outputs": [
    {
     "name": "stdout",
     "output_type": "stream",
     "text": [
      "\u001b[1m14/14\u001b[0m \u001b[32m━━━━━━━━━━━━━━━━━━━━\u001b[0m\u001b[37m\u001b[0m \u001b[1m0s\u001b[0m 3ms/step \n",
      "\u001b[1m14/14\u001b[0m \u001b[32m━━━━━━━━━━━━━━━━━━━━\u001b[0m\u001b[37m\u001b[0m \u001b[1m0s\u001b[0m 4ms/step \n",
      "\u001b[1m14/14\u001b[0m \u001b[32m━━━━━━━━━━━━━━━━━━━━\u001b[0m\u001b[37m\u001b[0m \u001b[1m0s\u001b[0m 3ms/step \n",
      "\u001b[1m14/14\u001b[0m \u001b[32m━━━━━━━━━━━━━━━━━━━━\u001b[0m\u001b[37m\u001b[0m \u001b[1m0s\u001b[0m 4ms/step \n",
      "\u001b[1m60/60\u001b[0m \u001b[32m━━━━━━━━━━━━━━━━━━━━\u001b[0m\u001b[37m\u001b[0m \u001b[1m0s\u001b[0m 2ms/step\n",
      "\u001b[1m60/60\u001b[0m \u001b[32m━━━━━━━━━━━━━━━━━━━━\u001b[0m\u001b[37m\u001b[0m \u001b[1m0s\u001b[0m 2ms/step\n",
      "\u001b[1m60/60\u001b[0m \u001b[32m━━━━━━━━━━━━━━━━━━━━\u001b[0m\u001b[37m\u001b[0m \u001b[1m0s\u001b[0m 2ms/step\n",
      "\u001b[1m60/60\u001b[0m \u001b[32m━━━━━━━━━━━━━━━━━━━━\u001b[0m\u001b[37m\u001b[0m \u001b[1m0s\u001b[0m 2ms/step\n",
      "Test Results: {'confusion_matrix': array([[399,  13],\n",
      "       [ 12,  22]], dtype=int64), 'overall_metrics': {'accuracy': 0.9439461883408071, 'precision': 0.6285714285714286, 'recall': 0.6470588235294118, 'f1_score': 0.6376811594202898}}\n",
      "Train Results: {'confusion_matrix': array([[942,  18],\n",
      "       [ 16, 944]], dtype=int64), 'overall_metrics': {'accuracy': 0.9822916666666667, 'precision': 0.9812889812889813, 'recall': 0.9833333333333333, 'f1_score': 0.9823100936524454}}\n"
     ]
    }
   ],
   "source": [
    "results_test = {\n",
    "    \"confusion_matrix\": cm_test,\n",
    "    \"overall_metrics\": {\n",
    "        \"accuracy\": accuracy_score(y_test, (model.predict(X_test) > 0.5).astype(int)),\n",
    "        \"precision\": precision_score(y_test, (model.predict(X_test) > 0.5).astype(int)),\n",
    "        \"recall\": recall_score(y_test, (model.predict(X_test) > 0.5).astype(int)),\n",
    "        \"f1_score\": f1_score(y_test, (model.predict(X_test) > 0.5).astype(int))\n",
    "    }\n",
    "}\n",
    "\n",
    "# Train metrics\n",
    "results_train = {\n",
    "    \"confusion_matrix\": cm_train,\n",
    "    \"overall_metrics\": {\n",
    "        \"accuracy\": accuracy_score(y_train_balanced, (model.predict(X_train_balanced) > 0.5).astype(int)),\n",
    "        \"precision\": precision_score(y_train_balanced, (model.predict(X_train_balanced) > 0.5).astype(int)),\n",
    "        \"recall\": recall_score(y_train_balanced, (model.predict(X_train_balanced) > 0.5).astype(int)),\n",
    "        \"f1_score\": f1_score(y_train_balanced, (model.predict(X_train_balanced) > 0.5).astype(int))\n",
    "    }\n",
    "}\n",
    "\n",
    "# Print results\n",
    "print(\"Test Results:\", results_test)\n",
    "print(\"Train Results:\", results_train)\n"
   ]
  },
  {
   "cell_type": "code",
   "execution_count": 29,
   "metadata": {},
   "outputs": [
    {
     "data": {
      "image/png": "[encoded data removed]",
      "text/plain": [
       "<Figure size 576x432 with 2 Axes>"
      ]
     },
     "metadata": {
      "needs_background": "light"
     },
     "output_type": "display_data"
    }
   ],
   "source": [
    "plt.figure(figsize=(8, 6))\n",
    "sns.heatmap(cm_test, annot=True, fmt='d', cmap='Blues', xticklabels=[\"Predicted Negative\", \"Predicted Positive\"], \n",
    "            yticklabels=[\"Actual Negative\", \"Actual Positive\"])\n",
    "plt.title(f\"Confusion Matrix (Test) - TN: {cm_test[0][0]}, TP: {cm_test[1][1]}, FP: {cm_test[0][1]}, FN: {cm_test[1][0]}\")\n",
    "plt.xlabel('Predicted Labels')\n",
    "plt.ylabel('True Labels')\n",
    "plt.show()"
   ]
  },
  {
   "cell_type": "code",
   "execution_count": 30,
   "metadata": {},
   "outputs": [
    {
     "data": {
      "image/png": "[encoded data removed]",
      "text/plain": [
       "<Figure size 576x432 with 2 Axes>"
      ]
     },
     "metadata": {
      "needs_background": "light"
     },
     "output_type": "display_data"
    }
   ],
   "source": [
    "plt.figure(figsize=(8, 6))\n",
    "sns.heatmap(cm_train, annot=True, fmt='d', cmap='Blues', xticklabels=[\"Predicted Negative\", \"Predicted Positive\"], \n",
    "            yticklabels=[\"Actual Negative\", \"Actual Positive\"])\n",
    "plt.title(f\"Confusion Matrix (Train) - TN: {cm_train[0][0]}, TP: {cm_train[1][1]}, FP: {cm_train[0][1]}, FN: {cm_train[1][0]}\")\n",
    "plt.xlabel('Predicted Labels')\n",
    "plt.ylabel('True Labels')\n",
    "plt.show()"
   ]
  },
  {
   "cell_type": "code",
   "execution_count": 23,
   "metadata": {},
   "outputs": [
    {
     "ename": "NameError",
     "evalue": "name 'metrics' is not defined",
     "output_type": "error",
     "traceback": [
      "\u001b[1;31m---------------------------------------------------------------------------\u001b[0m",
      "\u001b[1;31mNameError\u001b[0m                                 Traceback (most recent call last)",
      "Input \u001b[1;32mIn [23]\u001b[0m, in \u001b[0;36m<module>\u001b[1;34m\u001b[0m\n\u001b[0;32m      1\u001b[0m metrics_data \u001b[38;5;241m=\u001b[39m {\n\u001b[1;32m----> 2\u001b[0m     \u001b[38;5;124m\"\u001b[39m\u001b[38;5;124mfinal_model_metrics\u001b[39m\u001b[38;5;124m\"\u001b[39m: \u001b[43mmetrics\u001b[49m,\n\u001b[0;32m      3\u001b[0m     \u001b[38;5;124m\"\u001b[39m\u001b[38;5;124mtest_results\u001b[39m\u001b[38;5;124m\"\u001b[39m: results_test\n\u001b[0;32m      4\u001b[0m }\n\u001b[0;32m      5\u001b[0m joblib\u001b[38;5;241m.\u001b[39mdump(metrics_data, \u001b[38;5;124m\"\u001b[39m\u001b[38;5;124mfinal_model_metrics_3.joblib\u001b[39m\u001b[38;5;124m\"\u001b[39m)\n",
      "\u001b[1;31mNameError\u001b[0m: name 'metrics' is not defined"
     ]
    }
   ],
   "source": [
    "metrics_data = {\n",
    "    \"final_model_metrics\": metrics,\n",
    "    \"test_results\": results_test\n",
    "}\n",
    "joblib.dump(metrics_data, \"final_model_metrics_3.joblib\")"
   ]
  },
  {
   "cell_type": "markdown",
   "metadata": {},
   "source": []
  }
 ],
 "metadata": {
  "accelerator": "GPU",
  "colab": {
   "gpuType": "T4",
   "provenance": []
  },
  "kernelspec": {
   "display_name": "Python 3",
   "name": "python3"
  },
  "language_info": {
   "codemirror_mode": {
    "name": "ipython",
    "version": 3
   },
   "file_extension": ".py",
   "mimetype": "text/x-python",
   "name": "python",
   "nbconvert_exporter": "python",
   "pygments_lexer": "ipython3",
   "version": "3.9.7"
  }
 },
 "nbformat": 4,
 "nbformat_minor": 0
}
