{
 "cells": [
  {
   "cell_type": "markdown",
   "metadata": {
    "id": "TnqvSu6x1cn7"
   },
   "source": [
    "##Library"
   ]
  },
  {
   "cell_type": "code",
   "execution_count": 1,
   "metadata": {
    "id": "wFO97qH6-J83"
   },
   "outputs": [],
   "source": [
    "import numpy as np\n",
    "import pandas as pd\n",
    "import matplotlib.pyplot as plt\n",
    "import seaborn as sns\n",
    "import joblib\n",
    "from tensorflow.keras.models import Sequential\n",
    "from tensorflow.keras.layers import Dense, Dropout, BatchNormalization\n",
    "from tensorflow.keras.optimizers import Adam\n",
    "from tensorflow.keras.callbacks import EarlyStopping, ReduceLROnPlateau\n",
    "from sklearn.metrics import accuracy_score, precision_score, recall_score, f1_score, confusion_matrix\n",
    "from sklearn.preprocessing import StandardScaler\n",
    "from imblearn.over_sampling import RandomOverSampler\n",
    "from niapy.task import Task\n",
    "from niapy.problems import Problem\n",
    "from niapy.algorithms.basic import GreyWolfOptimizer"
   ]
  },
  {
   "cell_type": "markdown",
   "metadata": {
    "id": "jCdm9XCk1Kxq"
   },
   "source": [
    "##df"
   ]
  },
  {
   "cell_type": "code",
   "execution_count": 2,
   "metadata": {
    "colab": {
     "base_uri": "https://localhost:8080/"
    },
    "id": "fAnAs_b5-KFi",
    "outputId": "2c45b209-7d5c-4716-a3c1-db9448ea10a9"
   },
   "outputs": [],
   "source": [
    "X_train_path = \"D:\\Daffa Data\\Telkom Folder\\semester 7\\Tugas Akhir\\data\\FIX BANGET\\X_train.csv\"\n",
    "X_test_path = \"D:\\Daffa Data\\Telkom Folder\\semester 7\\Tugas Akhir\\data\\FIX BANGET\\X_test.csv\"\n",
    "y_train_path = \"D:\\Daffa Data\\Telkom Folder\\semester 7\\Tugas Akhir\\data\\FIX BANGET\\y_train.csv\"\n",
    "y_test_path = \"D:\\Daffa Data\\Telkom Folder\\semester 7\\Tugas Akhir\\data\\FIX BANGET\\y_test.csv\"\n",
    "\n",
    "X_train_df = pd.read_csv(X_train_path)\n",
    "X_test_df = pd.read_csv(X_test_path)\n",
    "y_train_df = pd.read_csv(y_train_path)\n",
    "y_test_df = pd.read_csv(y_test_path)\n",
    "\n",
    "X_train = X_train_df.values\n",
    "X_test = X_test_df.values\n",
    "y_train = y_train_df.values.ravel()\n",
    "y_test = y_test_df.values.ravel()\n",
    "\n",
    "X_train_df  = X_train_df.drop(columns=['FDA_APPROVED'])\n",
    "X_test_df  = X_test_df.drop(columns=['FDA_APPROVED'])"
   ]
  },
  {
   "cell_type": "code",
   "execution_count": 3,
   "metadata": {},
   "outputs": [],
   "source": [
    "ros = RandomOverSampler(random_state=42)\n",
    "X_train_balanced, y_train_balanced = ros.fit_resample(X_train, y_train)"
   ]
  },
  {
   "cell_type": "code",
   "execution_count": 4,
   "metadata": {},
   "outputs": [],
   "source": [
    "scaler = StandardScaler()\n",
    "X_train_balanced = scaler.fit_transform(X_train_balanced)\n",
    "X_test = scaler.transform(X_test)"
   ]
  },
  {
   "cell_type": "code",
   "execution_count": 5,
   "metadata": {},
   "outputs": [
    {
     "data": {
      "image/png": "[encoded data removed]",
      "text/plain": [
       "<Figure size 864x360 with 2 Axes>"
      ]
     },
     "metadata": {
      "needs_background": "light"
     },
     "output_type": "display_data"
    },
    {
     "data": {
      "image/png": "[encoded data removed]",
      "text/plain": [
       "<Figure size 864x360 with 2 Axes>"
      ]
     },
     "metadata": {
      "needs_background": "light"
     },
     "output_type": "display_data"
    },
    {
     "name": "stdout",
     "output_type": "stream",
     "text": [
      "Original y_train size: 1038\n",
      "Balanced y_train size: 1920\n",
      "Original X_train size: 1038\n",
      "Balanced X_train size: 1920\n",
      "Original class 0 count: 960\n",
      "Original class 1 count: 78\n",
      "Balanced class 0 count: 960\n",
      "Balanced class 1 count: 960\n",
      "y_test size: 446\n",
      "x_test size: 446\n",
      "412\n",
      "34\n"
     ]
    }
   ],
   "source": [
    "def plot_class_distribution(y_train, y_train_balanced, target_name):\n",
    "    fig, ax = plt.subplots(1, 2, figsize=(12, 5))\n",
    "    train_class_distribution = np.bincount(y_train)\n",
    "    train_class_distribution_resampled = np.bincount(y_train_balanced)\n",
    "    ax[0].bar([0, 1], train_class_distribution, color=['blue', 'orange'])\n",
    "    ax[0].set_title(f'{target_name} - Class Distribution Before Resampling')\n",
    "    ax[0].set_xticks([0, 1])\n",
    "    ax[0].set_xticklabels(['Class 0', 'Class 1'])\n",
    "    ax[1].bar([0, 1], train_class_distribution_resampled, color=['blue', 'orange'])\n",
    "    ax[1].set_title(f'{target_name} - Class Distribution After ROS')\n",
    "    ax[1].set_xticks([0, 1])\n",
    "    ax[1].set_xticklabels(['Class 0', 'Class 1'])\n",
    "    plt.show()\n",
    "\n",
    "plot_class_distribution(y_train, y_train_balanced, \"CT_TOX\")\n",
    "\n",
    "def plot_class_distribution(X_train, X_train_balanced, target_name):\n",
    "    fig, ax = plt.subplots(1, 2, figsize=(12, 5))\n",
    "    train_class_distribution = np.bincount(y_train)\n",
    "    train_class_distribution_resampled = np.bincount(y_train_balanced)\n",
    "    ax[0].bar([0, 1], train_class_distribution, color=['blue', 'orange'])\n",
    "    ax[0].set_title(f'{target_name} - Class Distribution Before Resampling')\n",
    "    ax[0].set_xticks([0, 1])\n",
    "    ax[0].set_xticklabels(['Class 0', 'Class 1'])\n",
    "    ax[1].bar([0, 1], train_class_distribution_resampled, color=['blue', 'orange'])\n",
    "    ax[1].set_title(f'{target_name} - Class Distribution After ROS')\n",
    "    ax[1].set_xticks([0, 1])\n",
    "    ax[1].set_xticklabels(['Class 0', 'Class 1'])\n",
    "    plt.show()\n",
    "\n",
    "    print(f\"Original y_train size: {len(y_train)}\")\n",
    "    print(f\"Balanced y_train size: {len(y_train_balanced)}\")\n",
    "    print(f\"Original X_train size: {len(X_train)}\")\n",
    "    print(f\"Balanced X_train size: {len(X_train_balanced)}\")\n",
    "\n",
    "    original_class_0_count = np.sum(y_train == 0)\n",
    "    original_class_1_count = np.sum(y_train == 1)\n",
    "    balanced_class_0_count = np.sum(y_train_balanced == 0)\n",
    "    balanced_class_1_count = np.sum(y_train_balanced == 1)\n",
    "    \n",
    "    print(f\"Original class 0 count: {original_class_0_count}\")\n",
    "    print(f\"Original class 1 count: {original_class_1_count}\")\n",
    "    print(f\"Balanced class 0 count: {balanced_class_0_count}\")\n",
    "    print(f\"Balanced class 1 count: {balanced_class_1_count}\")\n",
    "\n",
    "    print(f\"y_test size: {len(y_test)}\")\n",
    "    print(f\"x_test size: {len(X_test)}\")\n",
    "\n",
    "    print((y_test == 0).sum())\n",
    "    print((y_test == 1).sum())\n",
    "\n",
    "plot_class_distribution(X_train, X_train_balanced, \"CT_TOX\")"
   ]
  },
  {
   "cell_type": "code",
   "execution_count": 6,
   "metadata": {},
   "outputs": [],
   "source": [
    "def build_and_evaluate_model(input_dim, params):\n",
    "    num_layers = params['num_layers']\n",
    "    neurons_per_layer = params['neurons_per_layer']\n",
    "    dropout_rate = params['dropout_rate']\n",
    "    batch_size = params['batch_size']\n",
    "    hidden_activation = params['hidden_activation']\n",
    "    output_activation = params['output_activation']\n",
    "    epochs = params['epochs']\n",
    "\n",
    "    # Define the model\n",
    "    model = Sequential()\n",
    "    for i in range(num_layers):\n",
    "        if i == 0:\n",
    "            model.add(Dense(neurons_per_layer[i], input_dim=input_dim, activation=hidden_activation))\n",
    "        else:\n",
    "            model.add(Dense(neurons_per_layer[i], activation=hidden_activation))\n",
    "        model.add(BatchNormalization())  # Batch Normalization to stabilize learning\n",
    "        model.add(Dropout(dropout_rate))  # Dropout layer to prevent overfitting\n",
    "\n",
    "    model.add(Dense(1, activation=output_activation))  # Output layer\n",
    "\n",
    "    # Compile the model\n",
    "    model.compile(optimizer=Adam(learning_rate=0.001), loss=\"binary_crossentropy\", metrics=[\"accuracy\"])\n",
    "\n",
    "    # Early stopping and learning rate reduction on plateau\n",
    "    early_stopping = EarlyStopping(monitor='val_loss', patience=8, restore_best_weights=True)\n",
    "    reduce_lr = ReduceLROnPlateau(monitor='val_loss', factor=0.5, patience=5, min_lr=1e-6)\n",
    "\n",
    "    # Train the model without W&B callback, manually log metrics\n",
    "    history = model.fit(\n",
    "        X_train_balanced, y_train_balanced,\n",
    "        epochs=epochs,\n",
    "        batch_size=batch_size,\n",
    "        verbose=0,\n",
    "        validation_data=(X_test, y_test),\n",
    "        callbacks=[early_stopping, reduce_lr]\n",
    "    )\n",
    "\n",
    "    # Evaluate the model\n",
    "    loss, accuracy = model.evaluate(X_test, y_test, verbose=0)\n",
    "\n",
    "    # Log metrics manually\n",
    "    metrics = {\n",
    "        \"validation_loss\": loss,\n",
    "        \"validation_accuracy\": accuracy\n",
    "    }\n",
    "    print(f\"Validation Loss: {loss:.4f}, Validation Accuracy: {accuracy:.4f}\")\n",
    "    \n",
    "\n",
    "    # Return model, accuracy, and history object\n",
    "    return model, accuracy, history\n"
   ]
  },
  {
   "cell_type": "code",
   "execution_count": 7,
   "metadata": {},
   "outputs": [],
   "source": [
    "class ANNOptimizationProblemWithEarlyStopping(Problem):\n",
    "    def __init__(self, input_dim, max_layers=5, patience=8):\n",
    "        self.input_dim = input_dim\n",
    "        self.max_layers = max_layers\n",
    "        self.patience = patience\n",
    "        self.best_fitness = -float('inf')\n",
    "        self.stagnation_count = 0\n",
    "        super().__init__(\n",
    "            dimension=1 + max_layers,  # First dimension is number of layers, next are neurons per layer\n",
    "            lower=[1] + [0] * max_layers,\n",
    "            upper=[max_layers] + [1] * max_layers,\n",
    "            type_var=float\n",
    "        )\n",
    "\n",
    "    def _evaluate(self, solution):\n",
    "        num_layers = int(solution[0])\n",
    "        neurons_per_layer = [\n",
    "            int(1 + solution[i + 1] * 255)  # Scale neurons in the range [1, 256]\n",
    "            for i in range(num_layers)\n",
    "        ]\n",
    "        params = {\n",
    "            \"num_layers\": num_layers,\n",
    "            \"neurons_per_layer\": neurons_per_layer,\n",
    "            \"dropout_rate\": 0.2,\n",
    "            \"batch_size\": 16,\n",
    "            \"hidden_activation\": 'tanh',\n",
    "            \"output_activation\": 'sigmoid',\n",
    "            \"epochs\": 200\n",
    "        }\n",
    "\n",
    "        # Build and evaluate the model\n",
    "        model, accuracy, history = build_and_evaluate_model(self.input_dim, params)\n",
    "\n",
    "        # Early stopping based on plateau\n",
    "        if accuracy > self.best_fitness:\n",
    "            self.best_fitness = accuracy\n",
    "            self.stagnation_count = 0\n",
    "        else:\n",
    "            self.stagnation_count += 1\n",
    "\n",
    "        if self.stagnation_count >= self.patience:\n",
    "            self.stagnation_count = self.patience + 1  # Force task to terminate\n",
    "\n",
    "        return accuracy"
   ]
  },
  {
   "cell_type": "code",
   "execution_count": 8,
   "metadata": {},
   "outputs": [],
   "source": [
    "class TaskWithEarlyStopping(Task):\n",
    "    def __init__(self, *args, patience=8, **kwargs):\n",
    "        super().__init__(*args, **kwargs)\n",
    "        self.patience = patience\n",
    "        self.stagnation_count = 0\n",
    "        self.best_fitness = -float('inf')\n",
    "\n",
    "    def update(self, algorithm):\n",
    "        super().update(algorithm)\n",
    "        current_fitness = algorithm.best_fitness\n",
    "\n",
    "        if current_fitness > self.best_fitness:\n",
    "            self.best_fitness = current_fitness\n",
    "            self.stagnation_count = 0\n",
    "        else:\n",
    "            self.stagnation_count += 1\n",
    "\n",
    "        if self.stagnation_count >= self.patience:\n",
    "            self.stop()"
   ]
  },
  {
   "cell_type": "code",
   "execution_count": 9,
   "metadata": {},
   "outputs": [
    {
     "name": "stdout",
     "output_type": "stream",
     "text": [
      "Running GWO with Population Size: 5 and Max Iterations: 20\n"
     ]
    }
   ],
   "source": [
    "population_size = 5\n",
    "max_iters = 20\n",
    "patience = 8\n",
    "print(f\"Running GWO with Population Size: {population_size} and Max Iterations: {max_iters}\")"
   ]
  },
  {
   "cell_type": "code",
   "execution_count": 10,
   "metadata": {},
   "outputs": [],
   "source": [
    "problem = ANNOptimizationProblemWithEarlyStopping(input_dim=X_train_balanced.shape[1], max_layers=5, patience=patience)\n",
    "task = TaskWithEarlyStopping(\n",
    "    problem=problem,\n",
    "    max_iters=max_iters,\n",
    "    enable_logging=True,\n",
    "    patience=patience\n",
    ")"
   ]
  },
  {
   "cell_type": "code",
   "execution_count": 11,
   "metadata": {},
   "outputs": [
    {
     "name": "stderr",
     "output_type": "stream",
     "text": [
      "c:\\Users\\ASUS\\AppData\\Local\\Programs\\Python\\Python39\\lib\\site-packages\\keras\\src\\layers\\core\\dense.py:87: UserWarning: Do not pass an `input_shape`/`input_dim` argument to a layer. When using Sequential models, prefer using an `Input(shape)` object as the first layer in the model instead.\n",
      "  super().__init__(activity_regularizer=activity_regularizer, **kwargs)\n",
      "INFO:niapy.task.Task:evals:1 => 0.9484304785728455\n"
     ]
    },
    {
     "name": "stdout",
     "output_type": "stream",
     "text": [
      "Validation Loss: 0.1911, Validation Accuracy: 0.9484\n"
     ]
    },
    {
     "name": "stderr",
     "output_type": "stream",
     "text": [
      "INFO:niapy.task.Task:evals:2 => 0.939461886882782\n"
     ]
    },
    {
     "name": "stdout",
     "output_type": "stream",
     "text": [
      "Validation Loss: 0.1820, Validation Accuracy: 0.9395\n",
      "Validation Loss: 0.1897, Validation Accuracy: 0.9552\n",
      "Validation Loss: 0.1440, Validation Accuracy: 0.9619\n",
      "Validation Loss: 0.1704, Validation Accuracy: 0.9574\n",
      "Validation Loss: 0.1595, Validation Accuracy: 0.9484\n",
      "Validation Loss: 0.1639, Validation Accuracy: 0.9574\n",
      "Validation Loss: 0.2075, Validation Accuracy: 0.9574\n",
      "Validation Loss: 0.1597, Validation Accuracy: 0.9574\n",
      "Validation Loss: 0.1917, Validation Accuracy: 0.9619\n",
      "Validation Loss: 0.1617, Validation Accuracy: 0.9462\n",
      "Validation Loss: 0.1699, Validation Accuracy: 0.9462\n",
      "Validation Loss: 0.1731, Validation Accuracy: 0.9462\n",
      "Validation Loss: 0.1948, Validation Accuracy: 0.9529\n",
      "Validation Loss: 0.1712, Validation Accuracy: 0.9574\n",
      "Validation Loss: 0.1740, Validation Accuracy: 0.9439\n",
      "Validation Loss: 0.1873, Validation Accuracy: 0.9484\n"
     ]
    },
    {
     "name": "stderr",
     "output_type": "stream",
     "text": [
      "INFO:niapy.task.Task:evals:18 => 0.9304932951927185\n"
     ]
    },
    {
     "name": "stdout",
     "output_type": "stream",
     "text": [
      "Validation Loss: 0.1762, Validation Accuracy: 0.9305\n",
      "Validation Loss: 0.1924, Validation Accuracy: 0.9507\n",
      "Validation Loss: 0.2076, Validation Accuracy: 0.9327\n",
      "Validation Loss: 0.1730, Validation Accuracy: 0.9484\n",
      "Validation Loss: 0.1789, Validation Accuracy: 0.9484\n"
     ]
    },
    {
     "name": "stderr",
     "output_type": "stream",
     "text": [
      "INFO:niapy.task.Task:evals:23 => 0.9215246438980103\n"
     ]
    },
    {
     "name": "stdout",
     "output_type": "stream",
     "text": [
      "Validation Loss: 0.2055, Validation Accuracy: 0.9215\n",
      "Validation Loss: 0.1646, Validation Accuracy: 0.9574\n",
      "Validation Loss: 0.1791, Validation Accuracy: 0.9372\n",
      "Validation Loss: 0.1930, Validation Accuracy: 0.9439\n",
      "Validation Loss: 0.2124, Validation Accuracy: 0.9395\n",
      "Validation Loss: 0.1896, Validation Accuracy: 0.9372\n",
      "Validation Loss: 0.1860, Validation Accuracy: 0.9395\n",
      "Validation Loss: 0.1747, Validation Accuracy: 0.9462\n",
      "Validation Loss: 0.2114, Validation Accuracy: 0.9283\n",
      "Validation Loss: 0.2228, Validation Accuracy: 0.9327\n",
      "Validation Loss: 0.1956, Validation Accuracy: 0.9552\n",
      "Validation Loss: 0.2181, Validation Accuracy: 0.9395\n",
      "Validation Loss: 0.1618, Validation Accuracy: 0.9484\n",
      "Validation Loss: 0.1853, Validation Accuracy: 0.9619\n",
      "Validation Loss: 0.2201, Validation Accuracy: 0.9305\n",
      "Validation Loss: 0.2355, Validation Accuracy: 0.9238\n",
      "Validation Loss: 0.1666, Validation Accuracy: 0.9417\n",
      "Validation Loss: 0.2191, Validation Accuracy: 0.9305\n",
      "Validation Loss: 0.1663, Validation Accuracy: 0.9484\n"
     ]
    },
    {
     "name": "stderr",
     "output_type": "stream",
     "text": [
      "INFO:niapy.task.Task:evals:42 => 0.8923766613006592\n"
     ]
    },
    {
     "name": "stdout",
     "output_type": "stream",
     "text": [
      "Validation Loss: 0.2236, Validation Accuracy: 0.8924\n",
      "Validation Loss: 0.2234, Validation Accuracy: 0.9305\n",
      "Validation Loss: 0.1902, Validation Accuracy: 0.9619\n",
      "Validation Loss: 0.1524, Validation Accuracy: 0.9484\n",
      "Validation Loss: 0.1862, Validation Accuracy: 0.9484\n",
      "Validation Loss: 0.1392, Validation Accuracy: 0.9574\n",
      "Validation Loss: 0.1795, Validation Accuracy: 0.9484\n",
      "Validation Loss: 0.1964, Validation Accuracy: 0.9462\n",
      "Validation Loss: 0.1694, Validation Accuracy: 0.9350\n",
      "Validation Loss: 0.1869, Validation Accuracy: 0.9552\n",
      "Validation Loss: 0.1625, Validation Accuracy: 0.9372\n",
      "Validation Loss: 0.1620, Validation Accuracy: 0.9372\n",
      "Validation Loss: 0.2326, Validation Accuracy: 0.9193\n",
      "Validation Loss: 0.2215, Validation Accuracy: 0.9283\n",
      "Validation Loss: 0.1625, Validation Accuracy: 0.9439\n",
      "Validation Loss: 0.1922, Validation Accuracy: 0.9260\n",
      "Validation Loss: 0.2698, Validation Accuracy: 0.9283\n",
      "Validation Loss: 0.2354, Validation Accuracy: 0.9170\n",
      "Validation Loss: 0.1747, Validation Accuracy: 0.9395\n",
      "Validation Loss: 0.1993, Validation Accuracy: 0.9350\n",
      "Validation Loss: 0.1829, Validation Accuracy: 0.9484\n",
      "Validation Loss: 0.2306, Validation Accuracy: 0.9417\n",
      "Validation Loss: 0.2275, Validation Accuracy: 0.9305\n",
      "Validation Loss: 0.1750, Validation Accuracy: 0.9395\n",
      "Validation Loss: 0.1878, Validation Accuracy: 0.9529\n",
      "Validation Loss: 0.1848, Validation Accuracy: 0.9327\n",
      "Validation Loss: 0.1708, Validation Accuracy: 0.9529\n",
      "Validation Loss: 0.3230, Validation Accuracy: 0.9103\n",
      "Validation Loss: 0.2033, Validation Accuracy: 0.9327\n",
      "Validation Loss: 0.2602, Validation Accuracy: 0.9170\n",
      "Validation Loss: 0.2179, Validation Accuracy: 0.9170\n",
      "Validation Loss: 0.1754, Validation Accuracy: 0.9507\n",
      "Validation Loss: 0.2697, Validation Accuracy: 0.9103\n",
      "Validation Loss: 0.1753, Validation Accuracy: 0.9417\n",
      "Validation Loss: 0.2594, Validation Accuracy: 0.9058\n",
      "Validation Loss: 0.2241, Validation Accuracy: 0.9462\n"
     ]
    },
    {
     "name": "stderr",
     "output_type": "stream",
     "text": [
      "INFO:niapy.task.Task:evals:78 => 0.8834080696105957\n"
     ]
    },
    {
     "name": "stdout",
     "output_type": "stream",
     "text": [
      "Validation Loss: 0.2487, Validation Accuracy: 0.8834\n",
      "Validation Loss: 0.1912, Validation Accuracy: 0.9529\n",
      "Validation Loss: 0.2387, Validation Accuracy: 0.9260\n",
      "Validation Loss: 0.5227, Validation Accuracy: 0.9238\n",
      "Validation Loss: 0.2061, Validation Accuracy: 0.9283\n",
      "Validation Loss: 0.2145, Validation Accuracy: 0.9372\n",
      "Validation Loss: 0.1704, Validation Accuracy: 0.9484\n",
      "Validation Loss: 0.2888, Validation Accuracy: 0.9260\n",
      "Validation Loss: 0.2375, Validation Accuracy: 0.9215\n",
      "Validation Loss: 0.1762, Validation Accuracy: 0.9529\n",
      "Validation Loss: 0.2233, Validation Accuracy: 0.9439\n",
      "Validation Loss: 0.1820, Validation Accuracy: 0.9484\n",
      "Validation Loss: 0.2101, Validation Accuracy: 0.9529\n"
     ]
    },
    {
     "name": "stderr",
     "output_type": "stream",
     "text": [
      "INFO:niapy.task.Task:evals:91 => 0.7421524524688721\n"
     ]
    },
    {
     "name": "stdout",
     "output_type": "stream",
     "text": [
      "Validation Loss: 0.5161, Validation Accuracy: 0.7422\n",
      "Validation Loss: 0.2126, Validation Accuracy: 0.9439\n",
      "Validation Loss: 0.2536, Validation Accuracy: 0.9372\n",
      "Validation Loss: 0.2973, Validation Accuracy: 0.9148\n",
      "Validation Loss: 0.2078, Validation Accuracy: 0.9439\n",
      "Validation Loss: 0.2173, Validation Accuracy: 0.9350\n",
      "Validation Loss: 0.2339, Validation Accuracy: 0.9305\n",
      "Validation Loss: 0.2314, Validation Accuracy: 0.9238\n",
      "Validation Loss: 0.1897, Validation Accuracy: 0.9372\n",
      "Validation Loss: 0.2219, Validation Accuracy: 0.9372\n",
      "Validation Loss: 0.2252, Validation Accuracy: 0.9260\n",
      "Validation Loss: 0.1918, Validation Accuracy: 0.9552\n",
      "Validation Loss: 0.1777, Validation Accuracy: 0.9372\n",
      "Validation Loss: 0.2507, Validation Accuracy: 0.9170\n",
      "Validation Loss: 0.2088, Validation Accuracy: 0.9417\n"
     ]
    }
   ],
   "source": [
    "gwo = GreyWolfOptimizer(population_size=population_size)\n",
    "best_solution, fitness_values = gwo.run(task)"
   ]
  },
  {
   "cell_type": "code",
   "execution_count": 12,
   "metadata": {},
   "outputs": [
    {
     "data": {
      "text/plain": [
       "['convergence_data_pop_5.joblib']"
      ]
     },
     "execution_count": 12,
     "metadata": {},
     "output_type": "execute_result"
    }
   ],
   "source": [
    "convergence_data = {\n",
    "    \"iterations\": task.n_evals,\n",
    "    \"convergence_values\": task.fitness_evals  # Convergence value is now the best accuracy\n",
    "}\n",
    "joblib.dump(convergence_data, f\"convergence_data_pop_{population_size}.joblib\")"
   ]
  },
  {
   "cell_type": "code",
   "execution_count": 13,
   "metadata": {},
   "outputs": [
    {
     "data": {
      "image/png": "[encoded data removed]",
      "text/plain": [
       "<Figure size 432x288 with 1 Axes>"
      ]
     },
     "metadata": {
      "needs_background": "light"
     },
     "output_type": "display_data"
    }
   ],
   "source": [
    "task.plot_convergence(x_axis='evals', title='Convergence Plot')\n"
   ]
  },
  {
   "cell_type": "code",
   "execution_count": 14,
   "metadata": {},
   "outputs": [
    {
     "data": {
      "image/png": "[encoded data removed]",
      "text/plain": [
       "<Figure size 864x576 with 1 Axes>"
      ]
     },
     "metadata": {
      "needs_background": "light"
     },
     "output_type": "display_data"
    }
   ],
   "source": [
    "plt.figure(figsize=(12, 8))\n",
    "plt.plot(convergence_data[\"iterations\"], convergence_data[\"convergence_values\"], label=\"Accuracy per Iteration\")\n",
    "plt.title(\"Convergence Plot - Accuracy vs. Iterations\")\n",
    "plt.xlabel(\"Iterations\")\n",
    "plt.ylabel(\"Accuracy\")\n",
    "plt.legend()\n",
    "plt.show()"
   ]
  },
  {
   "cell_type": "code",
   "execution_count": 44,
   "metadata": {},
   "outputs": [
    {
     "name": "stderr",
     "output_type": "stream",
     "text": [
      "c:\\Users\\ASUS\\AppData\\Local\\Programs\\Python\\Python39\\lib\\site-packages\\keras\\src\\layers\\core\\dense.py:87: UserWarning: Do not pass an `input_shape`/`input_dim` argument to a layer. When using Sequential models, prefer using an `Input(shape)` object as the first layer in the model instead.\n",
      "  super().__init__(activity_regularizer=activity_regularizer, **kwargs)\n"
     ]
    },
    {
     "name": "stdout",
     "output_type": "stream",
     "text": [
      "Validation Loss: 0.2486, Validation Accuracy: 0.9238\n"
     ]
    }
   ],
   "source": [
    "num_layers = int(best_solution[0])\n",
    "neurons_per_layer = [int(1 + best_solution[i + 1] * 255) for i in range(num_layers)]\n",
    "optimized_params = {\n",
    "    \"num_layers\": num_layers,\n",
    "    \"neurons_per_layer\": neurons_per_layer,\n",
    "    \"dropout_rate\": 0.2,\n",
    "    \"batch_size\": 16,\n",
    "    \"hidden_activation\": 'tanh',\n",
    "    \"output_activation\": 'sigmoid',\n",
    "    \"epochs\": 200\n",
    "}\n",
    "\n",
    "# Build and evaluate model with optimized parameters\n",
    "model, accuracy, history = build_and_evaluate_model(X_train_balanced.shape[1], optimized_params)\n",
    "\n"
   ]
  },
  {
   "cell_type": "code",
   "execution_count": 45,
   "metadata": {},
   "outputs": [
    {
     "name": "stdout",
     "output_type": "stream",
     "text": [
      "\n",
      "GWO Results:\n",
      "Optimized Parameters: {'num_layers': 5, 'neurons_per_layer': [1, 120, 2, 159, 1], 'dropout_rate': 0.2, 'batch_size': 16, 'hidden_activation': 'tanh', 'output_activation': 'sigmoid', 'epochs': 200}\n"
     ]
    }
   ],
   "source": [
    "print(\"\\nGWO Results:\")\n",
    "print(f\"Optimized Parameters: {optimized_params}\")"
   ]
  },
  {
   "cell_type": "code",
   "execution_count": 46,
   "metadata": {},
   "outputs": [
    {
     "name": "stdout",
     "output_type": "stream",
     "text": [
      "\u001b[1m14/14\u001b[0m \u001b[32m━━━━━━━━━━━━━━━━━━━━\u001b[0m\u001b[37m\u001b[0m \u001b[1m0s\u001b[0m 11ms/step\n",
      "\u001b[1m60/60\u001b[0m \u001b[32m━━━━━━━━━━━━━━━━━━━━\u001b[0m\u001b[37m\u001b[0m \u001b[1m0s\u001b[0m 2ms/step\n"
     ]
    }
   ],
   "source": [
    "cm_test = confusion_matrix(y_test, (model.predict(X_test) > 0.5).astype(int))\n",
    "cm_train = confusion_matrix(y_train_balanced, (model.predict(X_train_balanced) > 0.5).astype(int))"
   ]
  },
  {
   "cell_type": "code",
   "execution_count": 49,
   "metadata": {},
   "outputs": [
    {
     "data": {
      "image/png": "[encoded data removed]",
      "text/plain": [
       "<Figure size 864x576 with 1 Axes>"
      ]
     },
     "metadata": {
      "needs_background": "light"
     },
     "output_type": "display_data"
    }
   ],
   "source": [
    "plt.figure(figsize=(12, 8))\n",
    "plt.plot(history.history['loss'], label=\"Train Loss\")\n",
    "plt.plot(history.history['val_loss'], label=\"Validation Loss\")\n",
    "plt.title(\"Scheme 1\")\n",
    "plt.xlabel(\"Epochs\")\n",
    "plt.ylabel(\"Loss\")\n",
    "plt.legend()\n",
    "plt.show()"
   ]
  },
  {
   "cell_type": "code",
   "execution_count": 48,
   "metadata": {},
   "outputs": [
    {
     "name": "stdout",
     "output_type": "stream",
     "text": [
      "\u001b[1m14/14\u001b[0m \u001b[32m━━━━━━━━━━━━━━━━━━━━\u001b[0m\u001b[37m\u001b[0m \u001b[1m0s\u001b[0m 3ms/step \n",
      "\u001b[1m14/14\u001b[0m \u001b[32m━━━━━━━━━━━━━━━━━━━━\u001b[0m\u001b[37m\u001b[0m \u001b[1m0s\u001b[0m 3ms/step \n",
      "\u001b[1m14/14\u001b[0m \u001b[32m━━━━━━━━━━━━━━━━━━━━\u001b[0m\u001b[37m\u001b[0m \u001b[1m0s\u001b[0m 4ms/step \n",
      "\u001b[1m14/14\u001b[0m \u001b[32m━━━━━━━━━━━━━━━━━━━━\u001b[0m\u001b[37m\u001b[0m \u001b[1m0s\u001b[0m 3ms/step \n",
      "\u001b[1m60/60\u001b[0m \u001b[32m━━━━━━━━━━━━━━━━━━━━\u001b[0m\u001b[37m\u001b[0m \u001b[1m0s\u001b[0m 1ms/step\n",
      "\u001b[1m60/60\u001b[0m \u001b[32m━━━━━━━━━━━━━━━━━━━━\u001b[0m\u001b[37m\u001b[0m \u001b[1m0s\u001b[0m 1ms/step\n",
      "\u001b[1m60/60\u001b[0m \u001b[32m━━━━━━━━━━━━━━━━━━━━\u001b[0m\u001b[37m\u001b[0m \u001b[1m0s\u001b[0m 1ms/step\n",
      "\u001b[1m60/60\u001b[0m \u001b[32m━━━━━━━━━━━━━━━━━━━━\u001b[0m\u001b[37m\u001b[0m \u001b[1m0s\u001b[0m 1ms/step\n",
      "Test Results: {'confusion_matrix': array([[389,  23],\n",
      "       [ 11,  23]], dtype=int64), 'overall_metrics': {'accuracy': 0.9237668161434978, 'precision': 0.5, 'recall': 0.6764705882352942, 'f1_score': 0.575}}\n",
      "Train Results: {'confusion_matrix': array([[935,  25],\n",
      "       [ 13, 947]], dtype=int64), 'overall_metrics': {'accuracy': 0.9802083333333333, 'precision': 0.9742798353909465, 'recall': 0.9864583333333333, 'f1_score': 0.9803312629399586}}\n"
     ]
    }
   ],
   "source": [
    "results_test = {\n",
    "    \"confusion_matrix\": cm_test,\n",
    "    \"overall_metrics\": {\n",
    "        \"accuracy\": accuracy_score(y_test, (model.predict(X_test) > 0.5).astype(int)),\n",
    "        \"precision\": precision_score(y_test, (model.predict(X_test) > 0.5).astype(int)),\n",
    "        \"recall\": recall_score(y_test, (model.predict(X_test) > 0.5).astype(int)),\n",
    "        \"f1_score\": f1_score(y_test, (model.predict(X_test) > 0.5).astype(int))\n",
    "    }\n",
    "}\n",
    "\n",
    "# Train metrics\n",
    "results_train = {\n",
    "    \"confusion_matrix\": cm_train,\n",
    "    \"overall_metrics\": {\n",
    "        \"accuracy\": accuracy_score(y_train_balanced, (model.predict(X_train_balanced) > 0.5).astype(int)),\n",
    "        \"precision\": precision_score(y_train_balanced, (model.predict(X_train_balanced) > 0.5).astype(int)),\n",
    "        \"recall\": recall_score(y_train_balanced, (model.predict(X_train_balanced) > 0.5).astype(int)),\n",
    "        \"f1_score\": f1_score(y_train_balanced, (model.predict(X_train_balanced) > 0.5).astype(int))\n",
    "    }\n",
    "}\n",
    "\n",
    "# Print results\n",
    "print(\"Test Results:\", results_test)\n",
    "print(\"Train Results:\", results_train)\n"
   ]
  },
  {
   "cell_type": "code",
   "execution_count": 20,
   "metadata": {},
   "outputs": [
    {
     "data": {
      "image/png": "[encoded data removed]",
      "text/plain": [
       "<Figure size 576x432 with 2 Axes>"
      ]
     },
     "metadata": {
      "needs_background": "light"
     },
     "output_type": "display_data"
    }
   ],
   "source": [
    "plt.figure(figsize=(8, 6))\n",
    "sns.heatmap(cm_test, annot=True, fmt='d', cmap='Blues', xticklabels=[\"Predicted Negative\", \"Predicted Positive\"], \n",
    "            yticklabels=[\"Actual Negative\", \"Actual Positive\"])\n",
    "plt.title(f\"Confusion Matrix (Test) - TN: {cm_test[0][0]}, TP: {cm_test[1][1]}, FP: {cm_test[0][1]}, FN: {cm_test[1][0]}\")\n",
    "plt.xlabel('Predicted Labels')\n",
    "plt.ylabel('True Labels')\n",
    "plt.show()"
   ]
  },
  {
   "cell_type": "code",
   "execution_count": 21,
   "metadata": {},
   "outputs": [
    {
     "data": {
      "image/png": "[encoded data removed]",
      "text/plain": [
       "<Figure size 576x432 with 2 Axes>"
      ]
     },
     "metadata": {
      "needs_background": "light"
     },
     "output_type": "display_data"
    }
   ],
   "source": [
    "plt.figure(figsize=(8, 6))\n",
    "sns.heatmap(cm_train, annot=True, fmt='d', cmap='Blues', xticklabels=[\"Predicted Negative\", \"Predicted Positive\"], \n",
    "            yticklabels=[\"Actual Negative\", \"Actual Positive\"])\n",
    "plt.title(f\"Confusion Matrix (Train) - TN: {cm_train[0][0]}, TP: {cm_train[1][1]}, FP: {cm_train[0][1]}, FN: {cm_train[1][0]}\")\n",
    "plt.xlabel('Predicted Labels')\n",
    "plt.ylabel('True Labels')\n",
    "plt.show()"
   ]
  },
  {
   "cell_type": "markdown",
   "metadata": {},
   "source": []
  }
 ],
 "metadata": {
  "accelerator": "GPU",
  "colab": {
   "gpuType": "T4",
   "provenance": []
  },
  "kernelspec": {
   "display_name": "Python 3",
   "name": "python3"
  },
  "language_info": {
   "codemirror_mode": {
    "name": "ipython",
    "version": 3
   },
   "file_extension": ".py",
   "mimetype": "text/x-python",
   "name": "python",
   "nbconvert_exporter": "python",
   "pygments_lexer": "ipython3",
   "version": "3.9.7"
  }
 },
 "nbformat": 4,
 "nbformat_minor": 0
}
