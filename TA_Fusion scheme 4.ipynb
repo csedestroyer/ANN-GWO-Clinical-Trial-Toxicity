{
 "cells": [
  {
   "cell_type": "markdown",
   "metadata": {
    "id": "TnqvSu6x1cn7"
   },
   "source": [
    "##Library"
   ]
  },
  {
   "cell_type": "code",
   "execution_count": 1,
   "metadata": {
    "id": "wFO97qH6-J83"
   },
   "outputs": [],
   "source": [
    "import numpy as np\n",
    "import pandas as pd\n",
    "import matplotlib.pyplot as plt\n",
    "import seaborn as sns\n",
    "import joblib\n",
    "from tensorflow.keras.models import Sequential\n",
    "from tensorflow.keras.layers import Dense, Dropout, BatchNormalization\n",
    "from tensorflow.keras.optimizers import Adam\n",
    "from tensorflow.keras.callbacks import EarlyStopping, ReduceLROnPlateau\n",
    "from sklearn.metrics import accuracy_score, precision_score, recall_score, f1_score, confusion_matrix\n",
    "from sklearn.preprocessing import StandardScaler\n",
    "from imblearn.over_sampling import RandomOverSampler\n",
    "from niapy.task import Task\n",
    "from niapy.problems import Problem\n",
    "from niapy.algorithms.basic import GreyWolfOptimizer"
   ]
  },
  {
   "cell_type": "markdown",
   "metadata": {
    "id": "jCdm9XCk1Kxq"
   },
   "source": [
    "##df"
   ]
  },
  {
   "cell_type": "code",
   "execution_count": 2,
   "metadata": {
    "colab": {
     "base_uri": "https://localhost:8080/"
    },
    "id": "fAnAs_b5-KFi",
    "outputId": "2c45b209-7d5c-4716-a3c1-db9448ea10a9"
   },
   "outputs": [],
   "source": [
    "X_train_path = \"D:\\Daffa Data\\Telkom Folder\\semester 7\\Tugas Akhir\\data\\FIX BANGET\\X_train.csv\"\n",
    "X_test_path = \"D:\\Daffa Data\\Telkom Folder\\semester 7\\Tugas Akhir\\data\\FIX BANGET\\X_test.csv\"\n",
    "y_train_path = \"D:\\Daffa Data\\Telkom Folder\\semester 7\\Tugas Akhir\\data\\FIX BANGET\\y_train.csv\"\n",
    "y_test_path = \"D:\\Daffa Data\\Telkom Folder\\semester 7\\Tugas Akhir\\data\\FIX BANGET\\y_test.csv\"\n",
    "\n",
    "X_train_df = pd.read_csv(X_train_path)\n",
    "X_test_df = pd.read_csv(X_test_path)\n",
    "y_train_df = pd.read_csv(y_train_path)\n",
    "y_test_df = pd.read_csv(y_test_path)\n",
    "\n",
    "X_train = X_train_df.values\n",
    "X_test = X_test_df.values\n",
    "y_train = y_train_df.values.ravel()\n",
    "y_test = y_test_df.values.ravel()\n",
    "\n",
    "X_train_df  = X_train_df.drop(columns=['FDA_APPROVED'])\n",
    "X_test_df  = X_test_df.drop(columns=['FDA_APPROVED'])"
   ]
  },
  {
   "cell_type": "code",
   "execution_count": 3,
   "metadata": {},
   "outputs": [],
   "source": [
    "ros = RandomOverSampler(random_state=42)\n",
    "X_train_balanced, y_train_balanced = ros.fit_resample(X_train, y_train)"
   ]
  },
  {
   "cell_type": "code",
   "execution_count": 4,
   "metadata": {},
   "outputs": [],
   "source": [
    "scaler = StandardScaler()\n",
    "X_train_balanced = scaler.fit_transform(X_train_balanced)\n",
    "X_test = scaler.transform(X_test)"
   ]
  },
  {
   "cell_type": "code",
   "execution_count": 5,
   "metadata": {},
   "outputs": [
    {
     "data": {
      "image/png": "[encoded data removed]",
      "text/plain": [
       "<Figure size 864x360 with 2 Axes>"
      ]
     },
     "metadata": {
      "needs_background": "light"
     },
     "output_type": "display_data"
    },
    {
     "data": {
      "image/png": "[encoded data removed]",
      "text/plain": [
       "<Figure size 864x360 with 2 Axes>"
      ]
     },
     "metadata": {
      "needs_background": "light"
     },
     "output_type": "display_data"
    },
    {
     "name": "stdout",
     "output_type": "stream",
     "text": [
      "Original y_train size: 1038\n",
      "Balanced y_train size: 1920\n",
      "Original X_train size: 1038\n",
      "Balanced X_train size: 1920\n",
      "Original class 0 count: 960\n",
      "Original class 1 count: 78\n",
      "Balanced class 0 count: 960\n",
      "Balanced class 1 count: 960\n",
      "y_test size: 446\n",
      "x_test size: 446\n",
      "412\n",
      "34\n"
     ]
    }
   ],
   "source": [
    "def plot_class_distribution(y_train, y_train_balanced, target_name):\n",
    "    fig, ax = plt.subplots(1, 2, figsize=(12, 5))\n",
    "    train_class_distribution = np.bincount(y_train)\n",
    "    train_class_distribution_resampled = np.bincount(y_train_balanced)\n",
    "    ax[0].bar([0, 1], train_class_distribution, color=['blue', 'orange'])\n",
    "    ax[0].set_title(f'{target_name} - Class Distribution Before Resampling')\n",
    "    ax[0].set_xticks([0, 1])\n",
    "    ax[0].set_xticklabels(['Class 0', 'Class 1'])\n",
    "    ax[1].bar([0, 1], train_class_distribution_resampled, color=['blue', 'orange'])\n",
    "    ax[1].set_title(f'{target_name} - Class Distribution After ROS')\n",
    "    ax[1].set_xticks([0, 1])\n",
    "    ax[1].set_xticklabels(['Class 0', 'Class 1'])\n",
    "    plt.show()\n",
    "\n",
    "plot_class_distribution(y_train, y_train_balanced, \"CT_TOX\")\n",
    "\n",
    "def plot_class_distribution(X_train, X_train_balanced, target_name):\n",
    "    fig, ax = plt.subplots(1, 2, figsize=(12, 5))\n",
    "    train_class_distribution = np.bincount(y_train)\n",
    "    train_class_distribution_resampled = np.bincount(y_train_balanced)\n",
    "    ax[0].bar([0, 1], train_class_distribution, color=['blue', 'orange'])\n",
    "    ax[0].set_title(f'{target_name} - Class Distribution Before Resampling')\n",
    "    ax[0].set_xticks([0, 1])\n",
    "    ax[0].set_xticklabels(['Class 0', 'Class 1'])\n",
    "    ax[1].bar([0, 1], train_class_distribution_resampled, color=['blue', 'orange'])\n",
    "    ax[1].set_title(f'{target_name} - Class Distribution After ROS')\n",
    "    ax[1].set_xticks([0, 1])\n",
    "    ax[1].set_xticklabels(['Class 0', 'Class 1'])\n",
    "    plt.show()\n",
    "\n",
    "    print(f\"Original y_train size: {len(y_train)}\")\n",
    "    print(f\"Balanced y_train size: {len(y_train_balanced)}\")\n",
    "    print(f\"Original X_train size: {len(X_train)}\")\n",
    "    print(f\"Balanced X_train size: {len(X_train_balanced)}\")\n",
    "\n",
    "    original_class_0_count = np.sum(y_train == 0)\n",
    "    original_class_1_count = np.sum(y_train == 1)\n",
    "    balanced_class_0_count = np.sum(y_train_balanced == 0)\n",
    "    balanced_class_1_count = np.sum(y_train_balanced == 1)\n",
    "    \n",
    "    print(f\"Original class 0 count: {original_class_0_count}\")\n",
    "    print(f\"Original class 1 count: {original_class_1_count}\")\n",
    "    print(f\"Balanced class 0 count: {balanced_class_0_count}\")\n",
    "    print(f\"Balanced class 1 count: {balanced_class_1_count}\")\n",
    "\n",
    "    print(f\"y_test size: {len(y_test)}\")\n",
    "    print(f\"x_test size: {len(X_test)}\")\n",
    "\n",
    "    print((y_test == 0).sum())\n",
    "    print((y_test == 1).sum())\n",
    "\n",
    "plot_class_distribution(X_train, X_train_balanced, \"CT_TOX\")"
   ]
  },
  {
   "cell_type": "code",
   "execution_count": 6,
   "metadata": {},
   "outputs": [],
   "source": [
    "def build_and_evaluate_model(input_dim, params):\n",
    "    num_layers = params['num_layers']\n",
    "    neurons_per_layer = params['neurons_per_layer']\n",
    "    dropout_rate = params['dropout_rate']\n",
    "    batch_size = params['batch_size']\n",
    "    hidden_activation = params['hidden_activation']\n",
    "    output_activation = params['output_activation']\n",
    "    epochs = params['epochs']\n",
    "\n",
    "    # Define the model\n",
    "    model = Sequential()\n",
    "    for i in range(num_layers):\n",
    "        if i == 0:\n",
    "            model.add(Dense(neurons_per_layer[i], input_dim=input_dim, activation=hidden_activation))\n",
    "        else:\n",
    "            model.add(Dense(neurons_per_layer[i], activation=hidden_activation))\n",
    "        model.add(BatchNormalization())  # Batch Normalization to stabilize learning\n",
    "        model.add(Dropout(dropout_rate))  # Dropout layer to prevent overfitting\n",
    "\n",
    "    model.add(Dense(1, activation=output_activation))  # Output layer\n",
    "\n",
    "    # Compile the model\n",
    "    model.compile(optimizer=Adam(learning_rate=0.001), loss=\"binary_crossentropy\", metrics=[\"accuracy\"])\n",
    "\n",
    "    # Early stopping and learning rate reduction on plateau\n",
    "    early_stopping = EarlyStopping(monitor='val_loss', patience=8, restore_best_weights=True)\n",
    "    reduce_lr = ReduceLROnPlateau(monitor='val_loss', factor=0.5, patience=5, min_lr=1e-6)\n",
    "\n",
    "    # Train the model without W&B callback, manually log metrics\n",
    "    history = model.fit(\n",
    "        X_train_balanced, y_train_balanced,\n",
    "        epochs=epochs,\n",
    "        batch_size=batch_size,\n",
    "        verbose=0,\n",
    "        validation_data=(X_test, y_test),\n",
    "        callbacks=[early_stopping, reduce_lr]\n",
    "    )\n",
    "\n",
    "    # Evaluate the model\n",
    "    loss, accuracy = model.evaluate(X_test, y_test, verbose=0)\n",
    "\n",
    "    # Log metrics manually\n",
    "    metrics = {\n",
    "        \"validation_loss\": loss,\n",
    "        \"validation_accuracy\": accuracy\n",
    "    }\n",
    "    print(f\"Validation Loss: {loss:.4f}, Validation Accuracy: {accuracy:.4f}\")\n",
    "    \n",
    "\n",
    "    # Return model, accuracy, and history object\n",
    "    return model, accuracy, history\n"
   ]
  },
  {
   "cell_type": "code",
   "execution_count": 7,
   "metadata": {},
   "outputs": [],
   "source": [
    "class ANNOptimizationProblemWithEarlyStopping(Problem):\n",
    "    def __init__(self, input_dim, max_layers=5, patience=5):\n",
    "        self.input_dim = input_dim\n",
    "        self.max_layers = max_layers\n",
    "        self.patience = patience\n",
    "        self.best_fitness = -float('inf')\n",
    "        self.stagnation_count = 0\n",
    "        super().__init__(\n",
    "            dimension=1 + max_layers,  # First dimension is number of layers, next are neurons per layer\n",
    "            lower=[1] + [0] * max_layers,\n",
    "            upper=[max_layers] + [1] * max_layers,\n",
    "            type_var=float\n",
    "        )\n",
    "\n",
    "    def _evaluate(self, solution):\n",
    "        num_layers = int(solution[0])\n",
    "        neurons_per_layer = [\n",
    "            int(1 + solution[i + 1] * 255)  # Scale neurons in the range [1, 256]\n",
    "            for i in range(num_layers)\n",
    "        ]\n",
    "        params = {\n",
    "            \"num_layers\": num_layers,\n",
    "            \"neurons_per_layer\": neurons_per_layer,\n",
    "            \"dropout_rate\": 0.2,\n",
    "            \"batch_size\": 16,\n",
    "            \"hidden_activation\": 'tanh',\n",
    "            \"output_activation\": 'sigmoid',\n",
    "            \"epochs\": 200\n",
    "        }\n",
    "\n",
    "        # Build and evaluate the model\n",
    "        model, accuracy, history = build_and_evaluate_model(self.input_dim, params)\n",
    "\n",
    "        # Early stopping based on plateau\n",
    "        if accuracy > self.best_fitness:\n",
    "            self.best_fitness = accuracy\n",
    "            self.stagnation_count = 0\n",
    "        else:\n",
    "            self.stagnation_count += 1\n",
    "\n",
    "        if self.stagnation_count >= self.patience:\n",
    "            self.stagnation_count = self.patience + 1  # Force task to terminate\n",
    "\n",
    "        return accuracy"
   ]
  },
  {
   "cell_type": "code",
   "execution_count": 8,
   "metadata": {},
   "outputs": [],
   "source": [
    "class TaskWithEarlyStopping(Task):\n",
    "    def __init__(self, *args, patience=8, **kwargs):\n",
    "        super().__init__(*args, **kwargs)\n",
    "        self.patience = patience\n",
    "        self.stagnation_count = 0\n",
    "        self.best_fitness = -float('inf')\n",
    "\n",
    "    def update(self, algorithm):\n",
    "        super().update(algorithm)\n",
    "        current_fitness = algorithm.best_fitness\n",
    "\n",
    "        if current_fitness > self.best_fitness:\n",
    "            self.best_fitness = current_fitness\n",
    "            self.stagnation_count = 0\n",
    "        else:\n",
    "            self.stagnation_count += 1\n",
    "\n",
    "        if self.stagnation_count >= self.patience:\n",
    "            self.stop()"
   ]
  },
  {
   "cell_type": "code",
   "execution_count": 9,
   "metadata": {},
   "outputs": [
    {
     "name": "stdout",
     "output_type": "stream",
     "text": [
      "Running GWO with Population Size: 20 and Max Iterations: 20\n"
     ]
    }
   ],
   "source": [
    "population_size = 20\n",
    "max_iters = 20\n",
    "patience = 8\n",
    "print(f\"Running GWO with Population Size: {population_size} and Max Iterations: {max_iters}\")"
   ]
  },
  {
   "cell_type": "code",
   "execution_count": 10,
   "metadata": {},
   "outputs": [],
   "source": [
    "problem = ANNOptimizationProblemWithEarlyStopping(input_dim=X_train_balanced.shape[1], max_layers=5, patience=patience)\n",
    "task = TaskWithEarlyStopping(\n",
    "    problem=problem,\n",
    "    max_iters=max_iters,\n",
    "    enable_logging=True,\n",
    "    patience=patience\n",
    ")"
   ]
  },
  {
   "cell_type": "code",
   "execution_count": 11,
   "metadata": {},
   "outputs": [
    {
     "name": "stderr",
     "output_type": "stream",
     "text": [
      "c:\\Users\\ASUS\\AppData\\Local\\Programs\\Python\\Python39\\lib\\site-packages\\keras\\src\\layers\\core\\dense.py:87: UserWarning: Do not pass an `input_shape`/`input_dim` argument to a layer. When using Sequential models, prefer using an `Input(shape)` object as the first layer in the model instead.\n",
      "  super().__init__(activity_regularizer=activity_regularizer, **kwargs)\n",
      "INFO:niapy.task.Task:evals:1 => 0.9529147744178772\n"
     ]
    },
    {
     "name": "stdout",
     "output_type": "stream",
     "text": [
      "Validation Loss: 0.1906, Validation Accuracy: 0.9529\n",
      "Validation Loss: 0.1194, Validation Accuracy: 0.9574\n",
      "Validation Loss: 0.1885, Validation Accuracy: 0.9619\n"
     ]
    },
    {
     "name": "stderr",
     "output_type": "stream",
     "text": [
      "INFO:niapy.task.Task:evals:4 => 0.9417040348052979\n"
     ]
    },
    {
     "name": "stdout",
     "output_type": "stream",
     "text": [
      "Validation Loss: 0.1761, Validation Accuracy: 0.9417\n",
      "Validation Loss: 0.1726, Validation Accuracy: 0.9484\n",
      "Validation Loss: 0.1922, Validation Accuracy: 0.9439\n",
      "Validation Loss: 0.1508, Validation Accuracy: 0.9507\n",
      "Validation Loss: 0.2028, Validation Accuracy: 0.9439\n",
      "Validation Loss: 0.2080, Validation Accuracy: 0.9417\n"
     ]
    },
    {
     "name": "stderr",
     "output_type": "stream",
     "text": [
      "INFO:niapy.task.Task:evals:10 => 0.9372197389602661\n"
     ]
    },
    {
     "name": "stdout",
     "output_type": "stream",
     "text": [
      "Validation Loss: 0.2064, Validation Accuracy: 0.9372\n",
      "Validation Loss: 0.1866, Validation Accuracy: 0.9395\n",
      "Validation Loss: 0.1674, Validation Accuracy: 0.9552\n",
      "Validation Loss: 0.1739, Validation Accuracy: 0.9596\n"
     ]
    },
    {
     "name": "stderr",
     "output_type": "stream",
     "text": [
      "INFO:niapy.task.Task:evals:14 => 0.9327354431152344\n"
     ]
    },
    {
     "name": "stdout",
     "output_type": "stream",
     "text": [
      "Validation Loss: 0.2259, Validation Accuracy: 0.9327\n",
      "Validation Loss: 0.1645, Validation Accuracy: 0.9507\n",
      "Validation Loss: 0.1631, Validation Accuracy: 0.9552\n",
      "Validation Loss: 0.1822, Validation Accuracy: 0.9574\n",
      "Validation Loss: 0.1735, Validation Accuracy: 0.9507\n",
      "Validation Loss: 0.1534, Validation Accuracy: 0.9462\n",
      "Validation Loss: 0.1689, Validation Accuracy: 0.9417\n",
      "Validation Loss: 0.1651, Validation Accuracy: 0.9484\n",
      "Validation Loss: 0.1975, Validation Accuracy: 0.9462\n",
      "Validation Loss: 0.1697, Validation Accuracy: 0.9439\n",
      "Validation Loss: 0.1843, Validation Accuracy: 0.9529\n",
      "Validation Loss: 0.1839, Validation Accuracy: 0.9417\n",
      "Validation Loss: 0.1881, Validation Accuracy: 0.9507\n",
      "Validation Loss: 0.1808, Validation Accuracy: 0.9350\n",
      "Validation Loss: 0.1641, Validation Accuracy: 0.9417\n",
      "Validation Loss: 0.2241, Validation Accuracy: 0.9507\n",
      "Validation Loss: 0.1751, Validation Accuracy: 0.9529\n",
      "Validation Loss: 0.1793, Validation Accuracy: 0.9552\n",
      "Validation Loss: 0.1669, Validation Accuracy: 0.9619\n",
      "Validation Loss: 0.1635, Validation Accuracy: 0.9439\n",
      "Validation Loss: 0.1936, Validation Accuracy: 0.9507\n"
     ]
    },
    {
     "name": "stderr",
     "output_type": "stream",
     "text": [
      "INFO:niapy.task.Task:evals:35 => 0.9282511472702026\n"
     ]
    },
    {
     "name": "stdout",
     "output_type": "stream",
     "text": [
      "Validation Loss: 0.1667, Validation Accuracy: 0.9283\n",
      "Validation Loss: 0.1839, Validation Accuracy: 0.9462\n"
     ]
    },
    {
     "name": "stderr",
     "output_type": "stream",
     "text": [
      "INFO:niapy.task.Task:evals:37 => 0.9147982001304626\n"
     ]
    },
    {
     "name": "stdout",
     "output_type": "stream",
     "text": [
      "Validation Loss: 0.2054, Validation Accuracy: 0.9148\n",
      "Validation Loss: 0.1737, Validation Accuracy: 0.9462\n",
      "Validation Loss: 0.1827, Validation Accuracy: 0.9327\n",
      "Validation Loss: 0.1670, Validation Accuracy: 0.9596\n",
      "Validation Loss: 0.1572, Validation Accuracy: 0.9529\n",
      "Validation Loss: 0.1444, Validation Accuracy: 0.9619\n",
      "Validation Loss: 0.1681, Validation Accuracy: 0.9529\n",
      "Validation Loss: 0.1914, Validation Accuracy: 0.9552\n",
      "Validation Loss: 0.2051, Validation Accuracy: 0.9350\n",
      "Validation Loss: 0.1628, Validation Accuracy: 0.9327\n",
      "Validation Loss: 0.1866, Validation Accuracy: 0.9596\n",
      "Validation Loss: 0.1508, Validation Accuracy: 0.9395\n",
      "Validation Loss: 0.1428, Validation Accuracy: 0.9529\n",
      "Validation Loss: 0.1704, Validation Accuracy: 0.9552\n",
      "Validation Loss: 0.1912, Validation Accuracy: 0.9596\n",
      "Validation Loss: 0.1872, Validation Accuracy: 0.9462\n",
      "Validation Loss: 0.1812, Validation Accuracy: 0.9529\n",
      "Validation Loss: 0.1982, Validation Accuracy: 0.9417\n",
      "Validation Loss: 0.1640, Validation Accuracy: 0.9529\n",
      "Validation Loss: 0.2460, Validation Accuracy: 0.9283\n",
      "Validation Loss: 0.1805, Validation Accuracy: 0.9529\n",
      "Validation Loss: 0.1573, Validation Accuracy: 0.9552\n",
      "Validation Loss: 0.1625, Validation Accuracy: 0.9507\n",
      "Validation Loss: 0.1433, Validation Accuracy: 0.9619\n",
      "Validation Loss: 0.1712, Validation Accuracy: 0.9552\n",
      "Validation Loss: 0.1863, Validation Accuracy: 0.9462\n",
      "Validation Loss: 0.1796, Validation Accuracy: 0.9439\n",
      "Validation Loss: 0.2201, Validation Accuracy: 0.9417\n",
      "Validation Loss: 0.1513, Validation Accuracy: 0.9641\n",
      "Validation Loss: 0.1479, Validation Accuracy: 0.9529\n",
      "Validation Loss: 0.1908, Validation Accuracy: 0.9529\n",
      "Validation Loss: 0.1694, Validation Accuracy: 0.9439\n",
      "Validation Loss: 0.2264, Validation Accuracy: 0.9395\n",
      "Validation Loss: 0.2062, Validation Accuracy: 0.9327\n",
      "Validation Loss: 0.2011, Validation Accuracy: 0.9372\n",
      "Validation Loss: 0.1958, Validation Accuracy: 0.9439\n",
      "Validation Loss: 0.1672, Validation Accuracy: 0.9395\n",
      "Validation Loss: 0.2044, Validation Accuracy: 0.9417\n",
      "Validation Loss: 0.1771, Validation Accuracy: 0.9484\n",
      "Validation Loss: 0.1626, Validation Accuracy: 0.9529\n",
      "Validation Loss: 0.1943, Validation Accuracy: 0.9462\n",
      "Validation Loss: 0.1704, Validation Accuracy: 0.9596\n",
      "Validation Loss: 0.1537, Validation Accuracy: 0.9507\n",
      "Validation Loss: 0.2122, Validation Accuracy: 0.9327\n",
      "Validation Loss: 0.2086, Validation Accuracy: 0.9462\n",
      "Validation Loss: 0.1774, Validation Accuracy: 0.9507\n",
      "Validation Loss: 0.1854, Validation Accuracy: 0.9260\n",
      "Validation Loss: 0.1629, Validation Accuracy: 0.9552\n",
      "Validation Loss: 0.1653, Validation Accuracy: 0.9484\n",
      "Validation Loss: 0.1892, Validation Accuracy: 0.9350\n",
      "Validation Loss: 0.1948, Validation Accuracy: 0.9350\n",
      "Validation Loss: 0.2120, Validation Accuracy: 0.9327\n",
      "Validation Loss: 0.2140, Validation Accuracy: 0.9372\n",
      "Validation Loss: 0.1522, Validation Accuracy: 0.9529\n",
      "Validation Loss: 0.1953, Validation Accuracy: 0.9619\n",
      "Validation Loss: 0.2242, Validation Accuracy: 0.9372\n"
     ]
    },
    {
     "name": "stderr",
     "output_type": "stream",
     "text": [
      "INFO:niapy.task.Task:evals:93 => 0.9058296084403992\n"
     ]
    },
    {
     "name": "stdout",
     "output_type": "stream",
     "text": [
      "Validation Loss: 0.2442, Validation Accuracy: 0.9058\n",
      "Validation Loss: 0.1793, Validation Accuracy: 0.9484\n",
      "Validation Loss: 0.1542, Validation Accuracy: 0.9529\n",
      "Validation Loss: 0.1963, Validation Accuracy: 0.9529\n",
      "Validation Loss: 0.1536, Validation Accuracy: 0.9619\n",
      "Validation Loss: 0.1931, Validation Accuracy: 0.9462\n",
      "Validation Loss: 0.1594, Validation Accuracy: 0.9484\n",
      "Validation Loss: 0.1697, Validation Accuracy: 0.9484\n",
      "Validation Loss: 0.1996, Validation Accuracy: 0.9417\n",
      "Validation Loss: 0.1827, Validation Accuracy: 0.9484\n",
      "Validation Loss: 0.1704, Validation Accuracy: 0.9529\n",
      "Validation Loss: 0.1610, Validation Accuracy: 0.9462\n",
      "Validation Loss: 0.1709, Validation Accuracy: 0.9350\n",
      "Validation Loss: 0.2012, Validation Accuracy: 0.9305\n",
      "Validation Loss: 0.2083, Validation Accuracy: 0.9417\n",
      "Validation Loss: 0.2119, Validation Accuracy: 0.9283\n",
      "Validation Loss: 0.1989, Validation Accuracy: 0.9395\n",
      "Validation Loss: 0.1983, Validation Accuracy: 0.9395\n",
      "Validation Loss: 0.1841, Validation Accuracy: 0.9260\n",
      "Validation Loss: 0.2546, Validation Accuracy: 0.9283\n",
      "Validation Loss: 0.2542, Validation Accuracy: 0.9193\n",
      "Validation Loss: 0.1509, Validation Accuracy: 0.9439\n",
      "Validation Loss: 0.1940, Validation Accuracy: 0.9327\n",
      "Validation Loss: 0.2011, Validation Accuracy: 0.9283\n",
      "Validation Loss: 0.1771, Validation Accuracy: 0.9417\n",
      "Validation Loss: 0.1663, Validation Accuracy: 0.9350\n",
      "Validation Loss: 0.1829, Validation Accuracy: 0.9574\n",
      "Validation Loss: 0.1590, Validation Accuracy: 0.9507\n",
      "Validation Loss: 0.2568, Validation Accuracy: 0.9058\n",
      "Validation Loss: 0.2330, Validation Accuracy: 0.9283\n",
      "Validation Loss: 0.2106, Validation Accuracy: 0.9327\n",
      "Validation Loss: 0.2284, Validation Accuracy: 0.9260\n",
      "Validation Loss: 0.2747, Validation Accuracy: 0.9260\n",
      "Validation Loss: 0.2269, Validation Accuracy: 0.9126\n",
      "Validation Loss: 0.2369, Validation Accuracy: 0.9260\n",
      "Validation Loss: 0.2593, Validation Accuracy: 0.9327\n",
      "Validation Loss: 0.1761, Validation Accuracy: 0.9462\n",
      "Validation Loss: 0.1844, Validation Accuracy: 0.9372\n",
      "Validation Loss: 0.1614, Validation Accuracy: 0.9484\n",
      "Validation Loss: 0.1609, Validation Accuracy: 0.9462\n",
      "Validation Loss: 0.1749, Validation Accuracy: 0.9372\n",
      "Validation Loss: 0.2341, Validation Accuracy: 0.9193\n",
      "Validation Loss: 0.1771, Validation Accuracy: 0.9462\n"
     ]
    },
    {
     "name": "stderr",
     "output_type": "stream",
     "text": [
      "INFO:niapy.task.Task:evals:136 => 0.9035874605178833\n"
     ]
    },
    {
     "name": "stdout",
     "output_type": "stream",
     "text": [
      "Validation Loss: 0.2827, Validation Accuracy: 0.9036\n",
      "Validation Loss: 0.1884, Validation Accuracy: 0.9439\n",
      "Validation Loss: 0.1886, Validation Accuracy: 0.9439\n",
      "Validation Loss: 0.1908, Validation Accuracy: 0.9507\n",
      "Validation Loss: 0.2602, Validation Accuracy: 0.9058\n",
      "Validation Loss: 0.2396, Validation Accuracy: 0.9327\n",
      "Validation Loss: 0.2691, Validation Accuracy: 0.9126\n",
      "Validation Loss: 0.2411, Validation Accuracy: 0.9305\n"
     ]
    },
    {
     "name": "stderr",
     "output_type": "stream",
     "text": [
      "INFO:niapy.task.Task:evals:144 => 0.8923766613006592\n"
     ]
    },
    {
     "name": "stdout",
     "output_type": "stream",
     "text": [
      "Validation Loss: 0.2588, Validation Accuracy: 0.8924\n",
      "Validation Loss: 0.2359, Validation Accuracy: 0.9148\n",
      "Validation Loss: 0.2372, Validation Accuracy: 0.9193\n",
      "Validation Loss: 0.2513, Validation Accuracy: 0.9327\n",
      "Validation Loss: 0.1902, Validation Accuracy: 0.9305\n",
      "Validation Loss: 0.1951, Validation Accuracy: 0.9484\n",
      "Validation Loss: 0.2543, Validation Accuracy: 0.9081\n",
      "Validation Loss: 0.2080, Validation Accuracy: 0.9439\n",
      "Validation Loss: 0.1325, Validation Accuracy: 0.9619\n",
      "Validation Loss: 0.2575, Validation Accuracy: 0.9327\n",
      "Validation Loss: 0.2118, Validation Accuracy: 0.9238\n",
      "Validation Loss: 0.2250, Validation Accuracy: 0.9372\n",
      "Validation Loss: 0.1681, Validation Accuracy: 0.9439\n",
      "Validation Loss: 0.2163, Validation Accuracy: 0.9238\n",
      "Validation Loss: 0.2057, Validation Accuracy: 0.9283\n",
      "Validation Loss: 0.1924, Validation Accuracy: 0.9260\n",
      "Validation Loss: 0.2428, Validation Accuracy: 0.9238\n",
      "Validation Loss: 0.2432, Validation Accuracy: 0.9283\n"
     ]
    },
    {
     "name": "stderr",
     "output_type": "stream",
     "text": [
      "INFO:niapy.task.Task:evals:162 => 0.7309417128562927\n"
     ]
    },
    {
     "name": "stdout",
     "output_type": "stream",
     "text": [
      "Validation Loss: 0.5933, Validation Accuracy: 0.7309\n",
      "Validation Loss: 0.2011, Validation Accuracy: 0.9260\n",
      "Validation Loss: 0.2243, Validation Accuracy: 0.9260\n",
      "Validation Loss: 0.1931, Validation Accuracy: 0.9372\n",
      "Validation Loss: 0.2108, Validation Accuracy: 0.9327\n",
      "Validation Loss: 0.2447, Validation Accuracy: 0.9283\n",
      "Validation Loss: 0.2227, Validation Accuracy: 0.9395\n",
      "Validation Loss: 0.2466, Validation Accuracy: 0.9305\n",
      "Validation Loss: 0.2108, Validation Accuracy: 0.9417\n",
      "Validation Loss: 0.2444, Validation Accuracy: 0.9238\n",
      "Validation Loss: 0.2736, Validation Accuracy: 0.9126\n",
      "Validation Loss: 0.2113, Validation Accuracy: 0.9372\n",
      "Validation Loss: 0.2713, Validation Accuracy: 0.9215\n",
      "Validation Loss: 0.2662, Validation Accuracy: 0.8744\n",
      "Validation Loss: 0.2110, Validation Accuracy: 0.9327\n",
      "Validation Loss: 0.1991, Validation Accuracy: 0.9148\n",
      "Validation Loss: 0.2840, Validation Accuracy: 0.9126\n",
      "Validation Loss: 0.2203, Validation Accuracy: 0.9439\n",
      "Validation Loss: 0.2505, Validation Accuracy: 0.9238\n",
      "Validation Loss: 0.5667, Validation Accuracy: 0.7803\n",
      "Validation Loss: 0.2893, Validation Accuracy: 0.9036\n",
      "Validation Loss: 0.2100, Validation Accuracy: 0.9148\n",
      "Validation Loss: 0.2498, Validation Accuracy: 0.9238\n",
      "Validation Loss: 0.2866, Validation Accuracy: 0.9058\n",
      "Validation Loss: 0.1626, Validation Accuracy: 0.9439\n",
      "Validation Loss: 0.4473, Validation Accuracy: 0.8475\n",
      "Validation Loss: 0.2367, Validation Accuracy: 0.9215\n",
      "Validation Loss: 0.2755, Validation Accuracy: 0.9148\n",
      "Validation Loss: 0.2553, Validation Accuracy: 0.9238\n",
      "Validation Loss: 0.2508, Validation Accuracy: 0.9327\n",
      "Validation Loss: 0.2329, Validation Accuracy: 0.9013\n",
      "Validation Loss: 0.2223, Validation Accuracy: 0.9327\n",
      "Validation Loss: 0.2168, Validation Accuracy: 0.9148\n",
      "Validation Loss: 0.2132, Validation Accuracy: 0.9350\n",
      "Validation Loss: 0.3387, Validation Accuracy: 0.8744\n",
      "Validation Loss: 0.1712, Validation Accuracy: 0.9417\n",
      "Validation Loss: 0.1838, Validation Accuracy: 0.9439\n",
      "Validation Loss: 0.2037, Validation Accuracy: 0.9350\n",
      "Validation Loss: 0.2762, Validation Accuracy: 0.8857\n",
      "Validation Loss: 0.1926, Validation Accuracy: 0.9305\n",
      "Validation Loss: 0.2769, Validation Accuracy: 0.9260\n"
     ]
    },
    {
     "name": "stderr",
     "output_type": "stream",
     "text": [
      "INFO:niapy.task.Task:evals:203 => 0.47757846117019653\n"
     ]
    },
    {
     "name": "stdout",
     "output_type": "stream",
     "text": [
      "Validation Loss: 0.6674, Validation Accuracy: 0.4776\n",
      "Validation Loss: 0.3122, Validation Accuracy: 0.9148\n",
      "Validation Loss: 0.1671, Validation Accuracy: 0.9417\n",
      "Validation Loss: 0.2633, Validation Accuracy: 0.9148\n",
      "Validation Loss: 0.4616, Validation Accuracy: 0.8565\n",
      "Validation Loss: 0.1959, Validation Accuracy: 0.9305\n",
      "Validation Loss: 0.2606, Validation Accuracy: 0.9170\n",
      "Validation Loss: 0.2837, Validation Accuracy: 0.9148\n",
      "Validation Loss: 0.3077, Validation Accuracy: 0.8834\n",
      "Validation Loss: 0.2935, Validation Accuracy: 0.8879\n",
      "Validation Loss: 0.1996, Validation Accuracy: 0.9372\n",
      "Validation Loss: 0.4005, Validation Accuracy: 0.8587\n",
      "Validation Loss: 0.2142, Validation Accuracy: 0.9283\n",
      "Validation Loss: 0.2769, Validation Accuracy: 0.9036\n",
      "Validation Loss: 0.2882, Validation Accuracy: 0.9036\n",
      "Validation Loss: 0.2516, Validation Accuracy: 0.9170\n",
      "Validation Loss: 0.2718, Validation Accuracy: 0.8834\n",
      "Validation Loss: 0.3040, Validation Accuracy: 0.9013\n",
      "Validation Loss: 0.3283, Validation Accuracy: 0.8946\n",
      "Validation Loss: 0.5979, Validation Accuracy: 0.7511\n",
      "Validation Loss: 0.2084, Validation Accuracy: 0.9148\n",
      "Validation Loss: 0.2572, Validation Accuracy: 0.9148\n",
      "Validation Loss: 0.3639, Validation Accuracy: 0.8789\n",
      "Validation Loss: 0.1787, Validation Accuracy: 0.9395\n",
      "Validation Loss: 0.3045, Validation Accuracy: 0.8857\n",
      "Validation Loss: 0.2453, Validation Accuracy: 0.9350\n",
      "Validation Loss: 0.3229, Validation Accuracy: 0.9036\n",
      "Validation Loss: 0.2595, Validation Accuracy: 0.9238\n",
      "Validation Loss: 0.2101, Validation Accuracy: 0.9215\n",
      "Validation Loss: 0.2274, Validation Accuracy: 0.9305\n",
      "Validation Loss: 0.2013, Validation Accuracy: 0.9350\n",
      "Validation Loss: 0.2311, Validation Accuracy: 0.9215\n",
      "Validation Loss: 0.5922, Validation Accuracy: 0.7242\n",
      "Validation Loss: 0.2938, Validation Accuracy: 0.8879\n",
      "Validation Loss: 0.2824, Validation Accuracy: 0.9126\n",
      "Validation Loss: 0.3295, Validation Accuracy: 0.9058\n",
      "Validation Loss: 0.2347, Validation Accuracy: 0.9126\n",
      "Validation Loss: 0.2338, Validation Accuracy: 0.9327\n",
      "Validation Loss: 0.5329, Validation Accuracy: 0.7578\n",
      "Validation Loss: 0.2139, Validation Accuracy: 0.9350\n",
      "Validation Loss: 0.3236, Validation Accuracy: 0.9058\n",
      "Validation Loss: 0.3567, Validation Accuracy: 0.8924\n",
      "Validation Loss: 0.2593, Validation Accuracy: 0.9215\n",
      "Validation Loss: 0.2826, Validation Accuracy: 0.9013\n",
      "Validation Loss: 0.2326, Validation Accuracy: 0.9305\n",
      "Validation Loss: 0.2146, Validation Accuracy: 0.9372\n",
      "Validation Loss: 0.3175, Validation Accuracy: 0.8722\n",
      "Validation Loss: 0.6622, Validation Accuracy: 0.6278\n",
      "Validation Loss: 0.2127, Validation Accuracy: 0.9395\n",
      "Validation Loss: 0.2645, Validation Accuracy: 0.9238\n",
      "Validation Loss: 0.2445, Validation Accuracy: 0.9283\n",
      "Validation Loss: 0.2332, Validation Accuracy: 0.9260\n",
      "Validation Loss: 0.2078, Validation Accuracy: 0.9260\n",
      "Validation Loss: 0.2366, Validation Accuracy: 0.9260\n",
      "Validation Loss: 0.3112, Validation Accuracy: 0.8969\n",
      "Validation Loss: 0.2585, Validation Accuracy: 0.9350\n",
      "Validation Loss: 0.3083, Validation Accuracy: 0.9148\n",
      "Validation Loss: 0.2254, Validation Accuracy: 0.9260\n",
      "Validation Loss: 0.2521, Validation Accuracy: 0.9260\n",
      "Validation Loss: 0.1894, Validation Accuracy: 0.9417\n",
      "Validation Loss: 0.6734, Validation Accuracy: 0.5695\n",
      "Validation Loss: 0.2700, Validation Accuracy: 0.9148\n",
      "Validation Loss: 0.1871, Validation Accuracy: 0.9372\n",
      "Validation Loss: 0.2482, Validation Accuracy: 0.9260\n",
      "Validation Loss: 0.2286, Validation Accuracy: 0.9283\n",
      "Validation Loss: 0.2607, Validation Accuracy: 0.9193\n",
      "Validation Loss: 0.2078, Validation Accuracy: 0.9395\n",
      "Validation Loss: 0.3649, Validation Accuracy: 0.8789\n",
      "Validation Loss: 0.2597, Validation Accuracy: 0.9305\n",
      "Validation Loss: 0.2712, Validation Accuracy: 0.9148\n",
      "Validation Loss: 0.2450, Validation Accuracy: 0.9170\n",
      "Validation Loss: 0.2402, Validation Accuracy: 0.9170\n",
      "Validation Loss: 0.2998, Validation Accuracy: 0.9193\n",
      "Validation Loss: 0.2409, Validation Accuracy: 0.9260\n",
      "Validation Loss: 0.4950, Validation Accuracy: 0.7220\n",
      "Validation Loss: 0.1912, Validation Accuracy: 0.9283\n",
      "Validation Loss: 0.2222, Validation Accuracy: 0.9238\n",
      "Validation Loss: 0.2369, Validation Accuracy: 0.9439\n",
      "Validation Loss: 0.2260, Validation Accuracy: 0.9350\n",
      "Validation Loss: 0.2853, Validation Accuracy: 0.9081\n",
      "Validation Loss: 0.4432, Validation Accuracy: 0.9238\n",
      "Validation Loss: 0.2017, Validation Accuracy: 0.9372\n",
      "Validation Loss: 0.2266, Validation Accuracy: 0.9215\n",
      "Validation Loss: 0.2199, Validation Accuracy: 0.9395\n",
      "Validation Loss: 0.2124, Validation Accuracy: 0.9327\n",
      "Validation Loss: 0.2585, Validation Accuracy: 0.9170\n",
      "Validation Loss: 0.2074, Validation Accuracy: 0.9395\n",
      "Validation Loss: 0.1917, Validation Accuracy: 0.9529\n",
      "Validation Loss: 0.1998, Validation Accuracy: 0.9260\n",
      "Validation Loss: 0.2044, Validation Accuracy: 0.9305\n",
      "Validation Loss: 0.2093, Validation Accuracy: 0.9372\n",
      "Validation Loss: 0.2533, Validation Accuracy: 0.9238\n",
      "Validation Loss: 0.2767, Validation Accuracy: 0.9238\n",
      "Validation Loss: 0.2177, Validation Accuracy: 0.9327\n",
      "Validation Loss: 0.2232, Validation Accuracy: 0.9283\n",
      "Validation Loss: 0.1841, Validation Accuracy: 0.9372\n",
      "Validation Loss: 0.3001, Validation Accuracy: 0.8879\n",
      "Validation Loss: 0.2490, Validation Accuracy: 0.9193\n",
      "Validation Loss: 0.1632, Validation Accuracy: 0.9529\n",
      "Validation Loss: 0.2569, Validation Accuracy: 0.9350\n",
      "Validation Loss: 0.3573, Validation Accuracy: 0.8700\n",
      "Validation Loss: 0.2076, Validation Accuracy: 0.9283\n",
      "Validation Loss: 0.3261, Validation Accuracy: 0.8879\n",
      "Validation Loss: 0.2245, Validation Accuracy: 0.9462\n",
      "Validation Loss: 0.2661, Validation Accuracy: 0.9305\n",
      "Validation Loss: 0.2056, Validation Accuracy: 0.9283\n",
      "Validation Loss: 0.2363, Validation Accuracy: 0.9126\n",
      "Validation Loss: 0.1721, Validation Accuracy: 0.9462\n",
      "Validation Loss: 0.3413, Validation Accuracy: 0.8879\n",
      "Validation Loss: 0.2645, Validation Accuracy: 0.9148\n",
      "Validation Loss: 0.2313, Validation Accuracy: 0.9395\n",
      "Validation Loss: 0.2346, Validation Accuracy: 0.9170\n",
      "Validation Loss: 0.2005, Validation Accuracy: 0.9283\n",
      "Validation Loss: 0.2748, Validation Accuracy: 0.9126\n",
      "Validation Loss: 0.2264, Validation Accuracy: 0.9215\n",
      "Validation Loss: 0.3027, Validation Accuracy: 0.9126\n",
      "Validation Loss: 0.3555, Validation Accuracy: 0.8520\n",
      "Validation Loss: 0.2384, Validation Accuracy: 0.9238\n",
      "Validation Loss: 0.3962, Validation Accuracy: 0.8498\n",
      "Validation Loss: 0.2565, Validation Accuracy: 0.9148\n",
      "Validation Loss: 0.2588, Validation Accuracy: 0.9170\n",
      "Validation Loss: 0.6217, Validation Accuracy: 0.7175\n",
      "Validation Loss: 0.1997, Validation Accuracy: 0.9260\n",
      "Validation Loss: 0.2376, Validation Accuracy: 0.9238\n",
      "Validation Loss: 0.3026, Validation Accuracy: 0.9058\n",
      "Validation Loss: 0.1709, Validation Accuracy: 0.9417\n",
      "Validation Loss: 0.2302, Validation Accuracy: 0.9170\n",
      "Validation Loss: 0.3112, Validation Accuracy: 0.9126\n",
      "Validation Loss: 0.2533, Validation Accuracy: 0.9260\n",
      "Validation Loss: 0.2666, Validation Accuracy: 0.9148\n",
      "Validation Loss: 0.3896, Validation Accuracy: 0.8274\n",
      "Validation Loss: 0.2527, Validation Accuracy: 0.9036\n",
      "Validation Loss: 0.3509, Validation Accuracy: 0.9058\n",
      "Validation Loss: 0.2967, Validation Accuracy: 0.9170\n",
      "Validation Loss: 0.2222, Validation Accuracy: 0.9395\n",
      "Validation Loss: 0.2260, Validation Accuracy: 0.9350\n",
      "Validation Loss: 0.2891, Validation Accuracy: 0.8969\n",
      "Validation Loss: 0.2402, Validation Accuracy: 0.9193\n",
      "Validation Loss: 0.1866, Validation Accuracy: 0.9417\n",
      "Validation Loss: 0.2171, Validation Accuracy: 0.9305\n",
      "Validation Loss: 0.2434, Validation Accuracy: 0.9327\n",
      "Validation Loss: 0.2632, Validation Accuracy: 0.9170\n",
      "Validation Loss: 0.2937, Validation Accuracy: 0.9081\n",
      "Validation Loss: 0.2020, Validation Accuracy: 0.9283\n",
      "Validation Loss: 0.2803, Validation Accuracy: 0.9103\n",
      "Validation Loss: 0.2422, Validation Accuracy: 0.9215\n",
      "Validation Loss: 0.1938, Validation Accuracy: 0.9327\n",
      "Validation Loss: 0.1887, Validation Accuracy: 0.9372\n",
      "Validation Loss: 0.6748, Validation Accuracy: 0.5493\n",
      "Validation Loss: 0.1779, Validation Accuracy: 0.9417\n",
      "Validation Loss: 0.2258, Validation Accuracy: 0.9036\n",
      "Validation Loss: 0.2944, Validation Accuracy: 0.9148\n",
      "Validation Loss: 0.2668, Validation Accuracy: 0.9238\n",
      "Validation Loss: 0.2459, Validation Accuracy: 0.9260\n",
      "Validation Loss: 0.3055, Validation Accuracy: 0.8991\n",
      "Validation Loss: 0.2551, Validation Accuracy: 0.9372\n",
      "Validation Loss: 0.2355, Validation Accuracy: 0.9238\n",
      "Validation Loss: 0.1650, Validation Accuracy: 0.9417\n",
      "Validation Loss: 0.2525, Validation Accuracy: 0.9170\n",
      "Validation Loss: 0.2411, Validation Accuracy: 0.9305\n",
      "Validation Loss: 0.2493, Validation Accuracy: 0.9215\n",
      "Validation Loss: 0.2145, Validation Accuracy: 0.9283\n",
      "Validation Loss: 0.1944, Validation Accuracy: 0.9215\n",
      "Validation Loss: 0.2548, Validation Accuracy: 0.9103\n",
      "Validation Loss: 0.2163, Validation Accuracy: 0.9372\n",
      "Validation Loss: 0.2851, Validation Accuracy: 0.9260\n",
      "Validation Loss: 0.2134, Validation Accuracy: 0.9193\n",
      "Validation Loss: 0.2752, Validation Accuracy: 0.8946\n",
      "Validation Loss: 0.3194, Validation Accuracy: 0.8744\n",
      "Validation Loss: 0.2249, Validation Accuracy: 0.9238\n",
      "Validation Loss: 0.1884, Validation Accuracy: 0.9327\n",
      "Validation Loss: 0.2585, Validation Accuracy: 0.9170\n",
      "Validation Loss: 0.1825, Validation Accuracy: 0.9439\n",
      "Validation Loss: 0.2481, Validation Accuracy: 0.9305\n",
      "Validation Loss: 0.2289, Validation Accuracy: 0.9260\n",
      "Validation Loss: 0.2147, Validation Accuracy: 0.9395\n",
      "Validation Loss: 0.2183, Validation Accuracy: 0.9350\n",
      "Validation Loss: 0.3008, Validation Accuracy: 0.9126\n",
      "Validation Loss: 0.2517, Validation Accuracy: 0.9036\n",
      "Validation Loss: 0.2694, Validation Accuracy: 0.9238\n",
      "Validation Loss: 0.2585, Validation Accuracy: 0.9036\n",
      "Validation Loss: 0.3060, Validation Accuracy: 0.9170\n",
      "Validation Loss: 0.2446, Validation Accuracy: 0.9126\n",
      "Validation Loss: 0.2432, Validation Accuracy: 0.9126\n",
      "Validation Loss: 0.3994, Validation Accuracy: 0.8677\n",
      "Validation Loss: 0.2094, Validation Accuracy: 0.9372\n",
      "Validation Loss: 0.1932, Validation Accuracy: 0.9372\n",
      "Validation Loss: 0.6614, Validation Accuracy: 0.9238\n",
      "Validation Loss: 0.2743, Validation Accuracy: 0.8991\n",
      "Validation Loss: 0.1849, Validation Accuracy: 0.9327\n",
      "Validation Loss: 0.2732, Validation Accuracy: 0.9148\n",
      "Validation Loss: 0.2311, Validation Accuracy: 0.9350\n",
      "Validation Loss: 0.4339, Validation Accuracy: 0.8117\n",
      "Validation Loss: 0.2008, Validation Accuracy: 0.9439\n",
      "Validation Loss: 0.2673, Validation Accuracy: 0.9350\n",
      "Validation Loss: 0.2548, Validation Accuracy: 0.9170\n",
      "Validation Loss: 0.2734, Validation Accuracy: 0.9126\n",
      "Validation Loss: 0.2227, Validation Accuracy: 0.9350\n",
      "Validation Loss: 0.2392, Validation Accuracy: 0.9305\n",
      "Validation Loss: 0.2402, Validation Accuracy: 0.9215\n",
      "Validation Loss: 0.3205, Validation Accuracy: 0.9126\n",
      "Validation Loss: 0.2516, Validation Accuracy: 0.9372\n",
      "Validation Loss: 0.2620, Validation Accuracy: 0.9238\n",
      "Validation Loss: 0.1968, Validation Accuracy: 0.9305\n",
      "Validation Loss: 0.2476, Validation Accuracy: 0.9081\n",
      "Validation Loss: 0.2542, Validation Accuracy: 0.9305\n",
      "Validation Loss: 0.2771, Validation Accuracy: 0.9081\n",
      "Validation Loss: 0.2706, Validation Accuracy: 0.9327\n",
      "Validation Loss: 0.2599, Validation Accuracy: 0.9148\n",
      "Validation Loss: 0.1407, Validation Accuracy: 0.9552\n",
      "Validation Loss: 0.2678, Validation Accuracy: 0.9260\n",
      "Validation Loss: 0.2221, Validation Accuracy: 0.9283\n",
      "Validation Loss: 0.2922, Validation Accuracy: 0.9036\n",
      "Validation Loss: 0.1869, Validation Accuracy: 0.9372\n",
      "Validation Loss: 0.2184, Validation Accuracy: 0.8969\n",
      "Validation Loss: 0.2757, Validation Accuracy: 0.9081\n",
      "Validation Loss: 0.2403, Validation Accuracy: 0.9170\n",
      "Validation Loss: 0.5999, Validation Accuracy: 0.7354\n"
     ]
    }
   ],
   "source": [
    "gwo = GreyWolfOptimizer(population_size=population_size)\n",
    "best_solution, fitness_values = gwo.run(task)"
   ]
  },
  {
   "cell_type": "code",
   "execution_count": 12,
   "metadata": {},
   "outputs": [
    {
     "data": {
      "text/plain": [
       "['convergence_data_pop_20.joblib']"
      ]
     },
     "execution_count": 12,
     "metadata": {},
     "output_type": "execute_result"
    }
   ],
   "source": [
    "convergence_data = {\n",
    "    \"iterations\": task.n_evals,\n",
    "    \"convergence_values\": task.fitness_evals  # Convergence value is now the best accuracy\n",
    "}\n",
    "joblib.dump(convergence_data, f\"convergence_data_pop_{population_size}.joblib\")"
   ]
  },
  {
   "cell_type": "code",
   "execution_count": 13,
   "metadata": {},
   "outputs": [
    {
     "data": {
      "image/png": "[encoded data removed]",
      "text/plain": [
       "<Figure size 432x288 with 1 Axes>"
      ]
     },
     "metadata": {
      "needs_background": "light"
     },
     "output_type": "display_data"
    }
   ],
   "source": [
    "task.plot_convergence(x_axis='evals', title='Convergence Plot')\n"
   ]
  },
  {
   "cell_type": "code",
   "execution_count": 14,
   "metadata": {},
   "outputs": [
    {
     "data": {
      "image/png": "[encoded data removed]",
      "text/plain": [
       "<Figure size 864x576 with 1 Axes>"
      ]
     },
     "metadata": {
      "needs_background": "light"
     },
     "output_type": "display_data"
    }
   ],
   "source": [
    "plt.figure(figsize=(12, 8))\n",
    "plt.plot(convergence_data[\"iterations\"], convergence_data[\"convergence_values\"], label=\"Accuracy per Iteration\")\n",
    "plt.title(\"Convergence Plot - Accuracy vs. Iterations\")\n",
    "plt.xlabel(\"Iterations\")\n",
    "plt.ylabel(\"Accuracy\")\n",
    "plt.legend()\n",
    "plt.show()"
   ]
  },
  {
   "cell_type": "code",
   "execution_count": 15,
   "metadata": {},
   "outputs": [
    {
     "name": "stdout",
     "output_type": "stream",
     "text": [
      "Validation Loss: 0.2088, Validation Accuracy: 0.9484\n"
     ]
    }
   ],
   "source": [
    "num_layers = int(best_solution[0])\n",
    "neurons_per_layer = [int(1 + best_solution[i + 1] * 255) for i in range(num_layers)]\n",
    "optimized_params = {\n",
    "    \"num_layers\": num_layers,\n",
    "    \"neurons_per_layer\": neurons_per_layer,\n",
    "    \"dropout_rate\": 0.2,\n",
    "    \"batch_size\": 16,\n",
    "    \"hidden_activation\": 'tanh',\n",
    "    \"output_activation\": 'sigmoid',\n",
    "    \"epochs\": 200\n",
    "}\n",
    "\n",
    "# Build and evaluate model with optimized parameters\n",
    "model, accuracy, history = build_and_evaluate_model(X_train_balanced.shape[1], optimized_params)"
   ]
  },
  {
   "cell_type": "code",
   "execution_count": 16,
   "metadata": {},
   "outputs": [
    {
     "name": "stdout",
     "output_type": "stream",
     "text": [
      "\u001b[1m14/14\u001b[0m \u001b[32m━━━━━━━━━━━━━━━━━━━━\u001b[0m\u001b[37m\u001b[0m \u001b[1m0s\u001b[0m 13ms/step\n",
      "\u001b[1m60/60\u001b[0m \u001b[32m━━━━━━━━━━━━━━━━━━━━\u001b[0m\u001b[37m\u001b[0m \u001b[1m0s\u001b[0m 2ms/step\n",
      "\n",
      "GWO Results:\n",
      "Optimized Parameters: {'num_layers': 5, 'neurons_per_layer': [1, 145, 84, 151, 22], 'dropout_rate': 0.2, 'batch_size': 16, 'hidden_activation': 'tanh', 'output_activation': 'sigmoid', 'epochs': 200}\n"
     ]
    }
   ],
   "source": [
    "cm_test = confusion_matrix(y_test, (model.predict(X_test) > 0.5).astype(int))\n",
    "cm_train = confusion_matrix(y_train_balanced, (model.predict(X_train_balanced) > 0.5).astype(int))\n",
    "\n",
    "print(\"\\nGWO Results:\")\n",
    "print(f\"Optimized Parameters: {optimized_params}\")"
   ]
  },
  {
   "cell_type": "code",
   "execution_count": 17,
   "metadata": {},
   "outputs": [
    {
     "data": {
      "image/png": "[encoded data removed]",
      "text/plain": [
       "<Figure size 864x576 with 1 Axes>"
      ]
     },
     "metadata": {
      "needs_background": "light"
     },
     "output_type": "display_data"
    },
    {
     "name": "stdout",
     "output_type": "stream",
     "text": [
      "\u001b[1m14/14\u001b[0m \u001b[32m━━━━━━━━━━━━━━━━━━━━\u001b[0m\u001b[37m\u001b[0m \u001b[1m0s\u001b[0m 4ms/step \n",
      "\u001b[1m14/14\u001b[0m \u001b[32m━━━━━━━━━━━━━━━━━━━━\u001b[0m\u001b[37m\u001b[0m \u001b[1m0s\u001b[0m 4ms/step \n",
      "\u001b[1m14/14\u001b[0m \u001b[32m━━━━━━━━━━━━━━━━━━━━\u001b[0m\u001b[37m\u001b[0m \u001b[1m0s\u001b[0m 4ms/step \n",
      "\u001b[1m14/14\u001b[0m \u001b[32m━━━━━━━━━━━━━━━━━━━━\u001b[0m\u001b[37m\u001b[0m \u001b[1m0s\u001b[0m 4ms/step \n",
      "\u001b[1m60/60\u001b[0m \u001b[32m━━━━━━━━━━━━━━━━━━━━\u001b[0m\u001b[37m\u001b[0m \u001b[1m0s\u001b[0m 2ms/step\n",
      "\u001b[1m60/60\u001b[0m \u001b[32m━━━━━━━━━━━━━━━━━━━━\u001b[0m\u001b[37m\u001b[0m \u001b[1m0s\u001b[0m 2ms/step\n",
      "\u001b[1m60/60\u001b[0m \u001b[32m━━━━━━━━━━━━━━━━━━━━\u001b[0m\u001b[37m\u001b[0m \u001b[1m0s\u001b[0m 2ms/step\n",
      "\u001b[1m60/60\u001b[0m \u001b[32m━━━━━━━━━━━━━━━━━━━━\u001b[0m\u001b[37m\u001b[0m \u001b[1m0s\u001b[0m 2ms/step\n",
      "Test Results: {'confusion_matrix': array([[395,  17],\n",
      "       [  6,  28]], dtype=int64), 'overall_metrics': {'accuracy': 0.9484304932735426, 'precision': 0.6222222222222222, 'recall': 0.8235294117647058, 'f1_score': 0.7088607594936709}}\n",
      "Train Results: {'confusion_matrix': array([[937,  23],\n",
      "       [ 42, 918]], dtype=int64), 'overall_metrics': {'accuracy': 0.9661458333333334, 'precision': 0.975557917109458, 'recall': 0.95625, 'f1_score': 0.9658074697527617}}\n"
     ]
    }
   ],
   "source": [
    "plt.figure(figsize=(12, 8))\n",
    "plt.plot(history.history['loss'], label=\"Train Loss\")\n",
    "plt.plot(history.history['val_loss'], label=\"Validation Loss\")\n",
    "plt.title(\"Learning Curve for GWO Scheme\")\n",
    "plt.xlabel(\"Epochs\")\n",
    "plt.ylabel(\"Loss\")\n",
    "plt.legend()\n",
    "plt.show()\n",
    "\n",
    "results_test = {\n",
    "    \"confusion_matrix\": cm_test,\n",
    "    \"overall_metrics\": {\n",
    "        \"accuracy\": accuracy_score(y_test, (model.predict(X_test) > 0.5).astype(int)),\n",
    "        \"precision\": precision_score(y_test, (model.predict(X_test) > 0.5).astype(int)),\n",
    "        \"recall\": recall_score(y_test, (model.predict(X_test) > 0.5).astype(int)),\n",
    "        \"f1_score\": f1_score(y_test, (model.predict(X_test) > 0.5).astype(int))\n",
    "    }\n",
    "}\n",
    "\n",
    "# Train metrics\n",
    "results_train = {\n",
    "    \"confusion_matrix\": cm_train,\n",
    "    \"overall_metrics\": {\n",
    "        \"accuracy\": accuracy_score(y_train_balanced, (model.predict(X_train_balanced) > 0.5).astype(int)),\n",
    "        \"precision\": precision_score(y_train_balanced, (model.predict(X_train_balanced) > 0.5).astype(int)),\n",
    "        \"recall\": recall_score(y_train_balanced, (model.predict(X_train_balanced) > 0.5).astype(int)),\n",
    "        \"f1_score\": f1_score(y_train_balanced, (model.predict(X_train_balanced) > 0.5).astype(int))\n",
    "    }\n",
    "}\n",
    "\n",
    "# Print results\n",
    "print(\"Test Results:\", results_test)\n",
    "print(\"Train Results:\", results_train)\n"
   ]
  },
  {
   "cell_type": "code",
   "execution_count": 20,
   "metadata": {},
   "outputs": [
    {
     "data": {
      "image/png": "[encoded data removed]",
      "text/plain": [
       "<Figure size 864x576 with 1 Axes>"
      ]
     },
     "metadata": {
      "needs_background": "light"
     },
     "output_type": "display_data"
    }
   ],
   "source": [
    "plt.figure(figsize=(12, 8))\n",
    "plt.plot(history.history['loss'], label=\"Train Loss\")\n",
    "plt.plot(history.history['val_loss'], label=\"Validation Loss\")\n",
    "plt.title(\"Scheme 4\")\n",
    "plt.xlabel(\"Epochs\")\n",
    "plt.ylabel(\"Loss\")\n",
    "plt.legend()\n",
    "plt.show()"
   ]
  },
  {
   "cell_type": "code",
   "execution_count": 18,
   "metadata": {},
   "outputs": [
    {
     "data": {
      "image/png": "[encoded data removed]",
      "text/plain": [
       "<Figure size 576x432 with 2 Axes>"
      ]
     },
     "metadata": {
      "needs_background": "light"
     },
     "output_type": "display_data"
    },
    {
     "data": {
      "image/png": "[encoded data removed]",
      "text/plain": [
       "<Figure size 576x432 with 2 Axes>"
      ]
     },
     "metadata": {
      "needs_background": "light"
     },
     "output_type": "display_data"
    }
   ],
   "source": [
    "plt.figure(figsize=(8, 6))\n",
    "sns.heatmap(cm_test, annot=True, fmt='d', cmap='Blues', xticklabels=[\"Predicted Negative\", \"Predicted Positive\"], \n",
    "            yticklabels=[\"Actual Negative\", \"Actual Positive\"])\n",
    "plt.title(f\"Confusion Matrix (Test) - TN: {cm_test[0][0]}, TP: {cm_test[1][1]}, FP: {cm_test[0][1]}, FN: {cm_test[1][0]}\")\n",
    "plt.xlabel('Predicted Labels')\n",
    "plt.ylabel('True Labels')\n",
    "plt.show()\n",
    "\n",
    "plt.figure(figsize=(8, 6))\n",
    "sns.heatmap(cm_train, annot=True, fmt='d', cmap='Blues', xticklabels=[\"Predicted Negative\", \"Predicted Positive\"], \n",
    "            yticklabels=[\"Actual Negative\", \"Actual Positive\"])\n",
    "plt.title(f\"Confusion Matrix (Train) - TN: {cm_train[0][0]}, TP: {cm_train[1][1]}, FP: {cm_train[0][1]}, FN: {cm_train[1][0]}\")\n",
    "plt.xlabel('Predicted Labels')\n",
    "plt.ylabel('True Labels')\n",
    "plt.show()"
   ]
  },
  {
   "cell_type": "code",
   "execution_count": 19,
   "metadata": {},
   "outputs": [
    {
     "data": {
      "image/png": "[encoded data removed]",
      "text/plain": [
       "<Figure size 576x432 with 2 Axes>"
      ]
     },
     "metadata": {
      "needs_background": "light"
     },
     "output_type": "display_data"
    }
   ],
   "source": [
    "plt.figure(figsize=(8, 6))\n",
    "sns.heatmap(cm_train, annot=True, fmt='d', cmap='Blues', xticklabels=[\"Predicted Negative\", \"Predicted Positive\"], \n",
    "            yticklabels=[\"Actual Negative\", \"Actual Positive\"])\n",
    "plt.title(f\"Confusion Matrix (Train) - TN: {cm_train[0][0]}, TP: {cm_train[1][1]}, FP: {cm_train[0][1]}, FN: {cm_train[1][0]}\")\n",
    "plt.xlabel('Predicted Labels')\n",
    "plt.ylabel('True Labels')\n",
    "plt.show()"
   ]
  },
  {
   "cell_type": "markdown",
   "metadata": {},
   "source": []
  }
 ],
 "metadata": {
  "accelerator": "GPU",
  "colab": {
   "gpuType": "T4",
   "provenance": []
  },
  "kernelspec": {
   "display_name": "Python 3",
   "name": "python3"
  },
  "language_info": {
   "codemirror_mode": {
    "name": "ipython",
    "version": 3
   },
   "file_extension": ".py",
   "mimetype": "text/x-python",
   "name": "python",
   "nbconvert_exporter": "python",
   "pygments_lexer": "ipython3",
   "version": "3.9.7"
  }
 },
 "nbformat": 4,
 "nbformat_minor": 0
}
